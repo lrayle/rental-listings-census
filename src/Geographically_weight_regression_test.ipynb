{
 "cells": [
  {
   "cell_type": "code",
   "execution_count": 20,
   "metadata": {
    "collapsed": false
   },
   "outputs": [],
   "source": [
    "import pandas as pd\n",
    "import psycopg2\n",
    "import paramiko\n",
    "import os\n",
    "import numpy as np\n",
    "import math"
   ]
  },
  {
   "cell_type": "code",
   "execution_count": 23,
   "metadata": {
    "collapsed": false,
    "scrolled": true
   },
   "outputs": [
    {
     "ename": "OperationalError",
     "evalue": "fe_sendauth: no password supplied\n",
     "output_type": "error",
     "traceback": [
      "\u001b[0;31m---------------------------------------------------------------------------\u001b[0m",
      "\u001b[0;31mOperationalError\u001b[0m                          Traceback (most recent call last)",
      "\u001b[0;32m<ipython-input-23-92d7cd62e944>\u001b[0m in \u001b[0;36m<module>\u001b[0;34m()\u001b[0m\n\u001b[1;32m      9\u001b[0m \u001b[1;33m\u001b[0m\u001b[0m\n\u001b[1;32m     10\u001b[0m \u001b[1;31m# establish postgres connection\u001b[0m\u001b[1;33m\u001b[0m\u001b[1;33m\u001b[0m\u001b[0m\n\u001b[0;32m---> 11\u001b[0;31m \u001b[0mconn\u001b[0m \u001b[1;33m=\u001b[0m \u001b[0mpsycopg2\u001b[0m\u001b[1;33m.\u001b[0m\u001b[0mconnect\u001b[0m\u001b[1;33m(\u001b[0m\u001b[1;34m\"dbname={d} user={u} host={h} password={pw}\"\u001b[0m\u001b[1;33m.\u001b[0m\u001b[0mformat\u001b[0m\u001b[1;33m(\u001b[0m\u001b[0md\u001b[0m\u001b[1;33m=\u001b[0m\u001b[0mdb_name\u001b[0m\u001b[1;33m,\u001b[0m \u001b[0mu\u001b[0m\u001b[1;33m=\u001b[0m\u001b[0musername\u001b[0m\u001b[1;33m,\u001b[0m \u001b[0mh\u001b[0m\u001b[1;33m=\u001b[0m\u001b[0mhostname\u001b[0m\u001b[1;33m,\u001b[0m \u001b[0mpw\u001b[0m\u001b[1;33m=\u001b[0m\u001b[0mpassword\u001b[0m\u001b[1;33m)\u001b[0m\u001b[1;33m)\u001b[0m\u001b[1;33m\u001b[0m\u001b[0m\n\u001b[0m\u001b[1;32m     12\u001b[0m \u001b[0mcur\u001b[0m \u001b[1;33m=\u001b[0m \u001b[0mconn\u001b[0m\u001b[1;33m.\u001b[0m\u001b[0mcursor\u001b[0m\u001b[1;33m(\u001b[0m\u001b[1;33m)\u001b[0m\u001b[1;33m\u001b[0m\u001b[0m\n",
      "\u001b[0;32mC:\\Program Files\\Anaconda3\\lib\\site-packages\\psycopg2\\__init__.py\u001b[0m in \u001b[0;36mconnect\u001b[0;34m(dsn, connection_factory, cursor_factory, **kwargs)\u001b[0m\n\u001b[1;32m    128\u001b[0m \u001b[1;33m\u001b[0m\u001b[0m\n\u001b[1;32m    129\u001b[0m     \u001b[0mdsn\u001b[0m \u001b[1;33m=\u001b[0m \u001b[0m_ext\u001b[0m\u001b[1;33m.\u001b[0m\u001b[0mmake_dsn\u001b[0m\u001b[1;33m(\u001b[0m\u001b[0mdsn\u001b[0m\u001b[1;33m,\u001b[0m \u001b[1;33m**\u001b[0m\u001b[0mkwargs\u001b[0m\u001b[1;33m)\u001b[0m\u001b[1;33m\u001b[0m\u001b[0m\n\u001b[0;32m--> 130\u001b[0;31m     \u001b[0mconn\u001b[0m \u001b[1;33m=\u001b[0m \u001b[0m_connect\u001b[0m\u001b[1;33m(\u001b[0m\u001b[0mdsn\u001b[0m\u001b[1;33m,\u001b[0m \u001b[0mconnection_factory\u001b[0m\u001b[1;33m=\u001b[0m\u001b[0mconnection_factory\u001b[0m\u001b[1;33m,\u001b[0m \u001b[1;33m**\u001b[0m\u001b[0mkwasync\u001b[0m\u001b[1;33m)\u001b[0m\u001b[1;33m\u001b[0m\u001b[0m\n\u001b[0m\u001b[1;32m    131\u001b[0m     \u001b[1;32mif\u001b[0m \u001b[0mcursor_factory\u001b[0m \u001b[1;32mis\u001b[0m \u001b[1;32mnot\u001b[0m \u001b[1;32mNone\u001b[0m\u001b[1;33m:\u001b[0m\u001b[1;33m\u001b[0m\u001b[0m\n\u001b[1;32m    132\u001b[0m         \u001b[0mconn\u001b[0m\u001b[1;33m.\u001b[0m\u001b[0mcursor_factory\u001b[0m \u001b[1;33m=\u001b[0m \u001b[0mcursor_factory\u001b[0m\u001b[1;33m\u001b[0m\u001b[0m\n",
      "\u001b[0;31mOperationalError\u001b[0m: fe_sendauth: no password supplied\n"
     ]
    }
   ],
   "source": [
    "data_dir='../data/' \n",
    "\"\"\"Path to local data directory\"\"\"\n",
    "\n",
    "username='cy290e'\n",
    "hostname='169.229.154.119'\n",
    "db_name='craigslist'\n",
    "password='' #password to database.  IMPORTANT: do not save passwords in the notebook\n",
    "\"\"\"Postgres connection parameters\"\"\"\n",
    "\n",
    "# establish postgres connection\n",
    "conn = psycopg2.connect(\"dbname={d} user={u} host={h} password={pw}\".format(d=db_name, u=username, h=hostname, pw=password))\n",
    "cur = conn.cursor()"
   ]
  },
  {
   "cell_type": "code",
   "execution_count": 16,
   "metadata": {
    "collapsed": false
   },
   "outputs": [
    {
     "ename": "NameError",
     "evalue": "name 'REMOTE_SERVER_IP' is not defined",
     "output_type": "error",
     "traceback": [
      "\u001b[0;31m---------------------------------------------------------------------------\u001b[0m",
      "\u001b[0;31mNameError\u001b[0m                                 Traceback (most recent call last)",
      "\u001b[0;32m<ipython-input-16-725ac5850a60>\u001b[0m in \u001b[0;36m<module>\u001b[0;34m()\u001b[0m\n\u001b[1;32m      3\u001b[0m \u001b[1;33m\u001b[0m\u001b[0m\n\u001b[1;32m      4\u001b[0m with SSHTunnelForwarder(\n\u001b[0;32m----> 5\u001b[0;31m     \u001b[1;33m(\u001b[0m\u001b[0mREMOTE_SERVER_IP\u001b[0m\u001b[1;33m,\u001b[0m \u001b[1;36m443\u001b[0m\u001b[1;33m)\u001b[0m\u001b[1;33m,\u001b[0m\u001b[1;33m\u001b[0m\u001b[0m\n\u001b[0m\u001b[1;32m      6\u001b[0m     \u001b[0mssh_username\u001b[0m\u001b[1;33m=\u001b[0m\u001b[1;34m\"\"\u001b[0m\u001b[1;33m,\u001b[0m\u001b[1;33m\u001b[0m\u001b[0m\n\u001b[1;32m      7\u001b[0m     \u001b[0mssh_pkey\u001b[0m\u001b[1;33m=\u001b[0m \u001b[0mlocal_key_dir\u001b[0m\u001b[1;33m,\u001b[0m\u001b[1;33m\u001b[0m\u001b[0m\n",
      "\u001b[0;31mNameError\u001b[0m: name 'REMOTE_SERVER_IP' is not defined"
     ]
    }
   ],
   "source": []
  },
  {
   "cell_type": "code",
   "execution_count": 6,
   "metadata": {
    "collapsed": false
   },
   "outputs": [
    {
     "ename": "ImportError",
     "evalue": "No module named 'chilkat'",
     "output_type": "error",
     "traceback": [
      "\u001b[0;31m---------------------------------------------------------------------------\u001b[0m",
      "\u001b[0;31mImportError\u001b[0m                               Traceback (most recent call last)",
      "\u001b[0;32m<ipython-input-6-6471456e2c1e>\u001b[0m in \u001b[0;36m<module>\u001b[0;34m()\u001b[0m\n\u001b[1;32m      1\u001b[0m \u001b[1;32mimport\u001b[0m \u001b[0msys\u001b[0m\u001b[1;33m\u001b[0m\u001b[0m\n\u001b[0;32m----> 2\u001b[0;31m \u001b[1;32mimport\u001b[0m \u001b[0mchilkat\u001b[0m\u001b[1;33m\u001b[0m\u001b[0m\n\u001b[0m\u001b[1;32m      3\u001b[0m \u001b[1;33m\u001b[0m\u001b[0m\n\u001b[1;32m      4\u001b[0m \u001b[0msftp\u001b[0m \u001b[1;33m=\u001b[0m \u001b[0mchilkat\u001b[0m\u001b[1;33m.\u001b[0m\u001b[0mCkSFtp\u001b[0m\u001b[1;33m(\u001b[0m\u001b[1;33m)\u001b[0m\u001b[1;33m\u001b[0m\u001b[0m\n\u001b[1;32m      5\u001b[0m \u001b[1;33m\u001b[0m\u001b[0m\n",
      "\u001b[0;31mImportError\u001b[0m: No module named 'chilkat'"
     ]
    }
   ],
   "source": []
  },
  {
   "cell_type": "code",
   "execution_count": 9,
   "metadata": {
    "collapsed": false
   },
   "outputs": [
    {
     "data": {
      "text/html": [
       "<div>\n",
       "<table border=\"1\" class=\"dataframe\">\n",
       "  <thead>\n",
       "    <tr style=\"text-align: right;\">\n",
       "      <th></th>\n",
       "      <th>listing_id</th>\n",
       "      <th>date</th>\n",
       "      <th>rent</th>\n",
       "      <th>bedrooms</th>\n",
       "      <th>sqft</th>\n",
       "      <th>rent_sqft</th>\n",
       "      <th>fips_block</th>\n",
       "      <th>state</th>\n",
       "      <th>mpo_id</th>\n",
       "      <th>cars_tot</th>\n",
       "      <th>...</th>\n",
       "      <th>race_of_head_4</th>\n",
       "      <th>race_of_head_5</th>\n",
       "      <th>race_of_head_6</th>\n",
       "      <th>race_of_head_7</th>\n",
       "      <th>race_of_head_8</th>\n",
       "      <th>race_of_head_9</th>\n",
       "      <th>recent_mover_0</th>\n",
       "      <th>recent_mover_1</th>\n",
       "      <th>tenure_1</th>\n",
       "      <th>tenure_2</th>\n",
       "    </tr>\n",
       "  </thead>\n",
       "  <tbody>\n",
       "    <tr>\n",
       "      <th>0</th>\n",
       "      <td>5873877617</td>\n",
       "      <td>2016-11-13</td>\n",
       "      <td>925.0</td>\n",
       "      <td>2.0</td>\n",
       "      <td>874.0</td>\n",
       "      <td>1.058352</td>\n",
       "      <td>60470010021060</td>\n",
       "      <td>CA</td>\n",
       "      <td>6197202.0</td>\n",
       "      <td>4603.0</td>\n",
       "      <td>...</td>\n",
       "      <td>NaN</td>\n",
       "      <td>8.0</td>\n",
       "      <td>527.0</td>\n",
       "      <td>1.0</td>\n",
       "      <td>198.0</td>\n",
       "      <td>42.0</td>\n",
       "      <td>1516.0</td>\n",
       "      <td>628.0</td>\n",
       "      <td>1310.0</td>\n",
       "      <td>834.0</td>\n",
       "    </tr>\n",
       "    <tr>\n",
       "      <th>1</th>\n",
       "      <td>5873876292</td>\n",
       "      <td>2016-11-13</td>\n",
       "      <td>735.0</td>\n",
       "      <td>0.0</td>\n",
       "      <td>650.0</td>\n",
       "      <td>1.130769</td>\n",
       "      <td>60070012001017</td>\n",
       "      <td>CA</td>\n",
       "      <td>6198000.0</td>\n",
       "      <td>646.0</td>\n",
       "      <td>...</td>\n",
       "      <td>NaN</td>\n",
       "      <td>NaN</td>\n",
       "      <td>6.0</td>\n",
       "      <td>1.0</td>\n",
       "      <td>3.0</td>\n",
       "      <td>16.0</td>\n",
       "      <td>371.0</td>\n",
       "      <td>44.0</td>\n",
       "      <td>98.0</td>\n",
       "      <td>317.0</td>\n",
       "    </tr>\n",
       "    <tr>\n",
       "      <th>2</th>\n",
       "      <td>5873889346</td>\n",
       "      <td>2016-11-13</td>\n",
       "      <td>1675.0</td>\n",
       "      <td>3.0</td>\n",
       "      <td>1000.0</td>\n",
       "      <td>1.675000</td>\n",
       "      <td>60790125023017</td>\n",
       "      <td>CA</td>\n",
       "      <td>6199200.0</td>\n",
       "      <td>1902.0</td>\n",
       "      <td>...</td>\n",
       "      <td>NaN</td>\n",
       "      <td>NaN</td>\n",
       "      <td>10.0</td>\n",
       "      <td>NaN</td>\n",
       "      <td>30.0</td>\n",
       "      <td>21.0</td>\n",
       "      <td>712.0</td>\n",
       "      <td>257.0</td>\n",
       "      <td>477.0</td>\n",
       "      <td>492.0</td>\n",
       "    </tr>\n",
       "    <tr>\n",
       "      <th>3</th>\n",
       "      <td>5873893871</td>\n",
       "      <td>2016-11-13</td>\n",
       "      <td>1818.0</td>\n",
       "      <td>2.0</td>\n",
       "      <td>1084.0</td>\n",
       "      <td>1.677122</td>\n",
       "      <td>60830020061208</td>\n",
       "      <td>CA</td>\n",
       "      <td>6196600.0</td>\n",
       "      <td>1058.0</td>\n",
       "      <td>...</td>\n",
       "      <td>NaN</td>\n",
       "      <td>2.0</td>\n",
       "      <td>21.0</td>\n",
       "      <td>1.0</td>\n",
       "      <td>8.0</td>\n",
       "      <td>8.0</td>\n",
       "      <td>427.0</td>\n",
       "      <td>41.0</td>\n",
       "      <td>420.0</td>\n",
       "      <td>48.0</td>\n",
       "    </tr>\n",
       "    <tr>\n",
       "      <th>4</th>\n",
       "      <td>5849643168</td>\n",
       "      <td>2016-11-13</td>\n",
       "      <td>1050.0</td>\n",
       "      <td>2.0</td>\n",
       "      <td>1100.0</td>\n",
       "      <td>0.954545</td>\n",
       "      <td>60890113004008</td>\n",
       "      <td>CA</td>\n",
       "      <td>6198100.0</td>\n",
       "      <td>786.0</td>\n",
       "      <td>...</td>\n",
       "      <td>NaN</td>\n",
       "      <td>3.0</td>\n",
       "      <td>NaN</td>\n",
       "      <td>2.0</td>\n",
       "      <td>26.0</td>\n",
       "      <td>23.0</td>\n",
       "      <td>287.0</td>\n",
       "      <td>205.0</td>\n",
       "      <td>202.0</td>\n",
       "      <td>290.0</td>\n",
       "    </tr>\n",
       "  </tbody>\n",
       "</table>\n",
       "<p>5 rows × 29 columns</p>\n",
       "</div>"
      ],
      "text/plain": [
       "   listing_id        date    rent  bedrooms    sqft  rent_sqft  \\\n",
       "0  5873877617  2016-11-13   925.0       2.0   874.0   1.058352   \n",
       "1  5873876292  2016-11-13   735.0       0.0   650.0   1.130769   \n",
       "2  5873889346  2016-11-13  1675.0       3.0  1000.0   1.675000   \n",
       "3  5873893871  2016-11-13  1818.0       2.0  1084.0   1.677122   \n",
       "4  5849643168  2016-11-13  1050.0       2.0  1100.0   0.954545   \n",
       "\n",
       "       fips_block state     mpo_id  cars_tot    ...     race_of_head_4  \\\n",
       "0  60470010021060    CA  6197202.0    4603.0    ...                NaN   \n",
       "1  60070012001017    CA  6198000.0     646.0    ...                NaN   \n",
       "2  60790125023017    CA  6199200.0    1902.0    ...                NaN   \n",
       "3  60830020061208    CA  6196600.0    1058.0    ...                NaN   \n",
       "4  60890113004008    CA  6198100.0     786.0    ...                NaN   \n",
       "\n",
       "   race_of_head_5  race_of_head_6  race_of_head_7  race_of_head_8  \\\n",
       "0             8.0           527.0             1.0           198.0   \n",
       "1             NaN             6.0             1.0             3.0   \n",
       "2             NaN            10.0             NaN            30.0   \n",
       "3             2.0            21.0             1.0             8.0   \n",
       "4             3.0             NaN             2.0            26.0   \n",
       "\n",
       "   race_of_head_9  recent_mover_0  recent_mover_1  tenure_1  tenure_2  \n",
       "0            42.0          1516.0           628.0    1310.0     834.0  \n",
       "1            16.0           371.0            44.0      98.0     317.0  \n",
       "2            21.0           712.0           257.0     477.0     492.0  \n",
       "3             8.0           427.0            41.0     420.0      48.0  \n",
       "4            23.0           287.0           205.0     202.0     290.0  \n",
       "\n",
       "[5 rows x 29 columns]"
      ]
     },
     "execution_count": 9,
     "metadata": {},
     "output_type": "execute_result"
    }
   ],
   "source": [
    "data = pd.read_csv(r'..\\data\\cl_census_CA.csv')\n",
    "data.head()"
   ]
  },
  {
   "cell_type": "code",
   "execution_count": 8,
   "metadata": {
    "collapsed": false
   },
   "outputs": [
    {
     "data": {
      "text/plain": [
       "array(['listing_id', 'date', 'rent', 'bedrooms', 'sqft', 'rent_sqft',\n",
       "       'fips_block', 'state', 'mpo_id', 'cars_tot', 'children_tot',\n",
       "       'persons_tot', 'workers_tot', 'age_of_head_med', 'income_med',\n",
       "       'hhs_tot', 'race_of_head_1', 'race_of_head_2', 'race_of_head_3',\n",
       "       'race_of_head_4', 'race_of_head_5', 'race_of_head_6',\n",
       "       'race_of_head_7', 'race_of_head_8', 'race_of_head_9',\n",
       "       'recent_mover_0', 'recent_mover_1', 'tenure_1', 'tenure_2'], dtype=object)"
      ]
     },
     "execution_count": 8,
     "metadata": {},
     "output_type": "execute_result"
    }
   ],
   "source": [
    "data.columns.values"
   ]
  }
 ],
 "metadata": {
  "kernelspec": {
   "display_name": "Python [conda root]",
   "language": "python",
   "name": "conda-root-py"
  },
  "language_info": {
   "codemirror_mode": {
    "name": "ipython",
    "version": 3
   },
   "file_extension": ".py",
   "mimetype": "text/x-python",
   "name": "python",
   "nbconvert_exporter": "python",
   "pygments_lexer": "ipython3",
   "version": "3.5.2"
  }
 },
 "nbformat": 4,
 "nbformat_minor": 1
}
