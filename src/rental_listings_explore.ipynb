{
 "cells": [
  {
   "cell_type": "code",
   "execution_count": 1,
   "metadata": {
    "collapsed": true
   },
   "outputs": [],
   "source": [
    "import pandas as pd\n",
    "import paramiko\n",
    "import os\n",
    "import numpy as np\n",
    "import math"
   ]
  },
  {
   "cell_type": "markdown",
   "metadata": {},
   "source": [
    "## Remote connection parameters"
   ]
  },
  {
   "cell_type": "code",
   "execution_count": 6,
   "metadata": {
    "collapsed": false
   },
   "outputs": [],
   "source": [
    "hostname = \"169.229.154.119\"\n",
    "username = \"cy290e\"\n",
    "password = \"\"  # local password \n",
    "local_key_dir = '~/.ssh/known_hosts'\n",
    "\"\"\"SSH connection parameters\"\"\"\n",
    "\n",
    "listings_dir = 'craigslist_census_02202017/'\n",
    "\"\"\"Remote directory for results\"\"\"\n",
    "\n",
    "# estbalish SSH connection\n",
    "ssh = paramiko.SSHClient() \n",
    "ssh.load_host_keys(local_key_dir)\n",
    "ssh.set_missing_host_key_policy(paramiko.AutoAddPolicy())\n",
    "ssh.connect(hostname,username=username, password=password)\n",
    "sftp = ssh.open_sftp()"
   ]
  },
  {
   "cell_type": "code",
   "execution_count": 90,
   "metadata": {
    "collapsed": true
   },
   "outputs": [],
   "source": [
    "def read_listings_file(fname):\n",
    "    \"\"\"Read csv file via SFTP and return as dataframe.\"\"\"\n",
    "    with sftp.open(listings_dir+fname) as f:\n",
    "        df = pd.read_csv(f, delimiter=',', dtype={'date':str,'fips_block':str,'state':str,'mpo_id':str})\n",
    "        # TODO: parse dates. \n",
    "    return df\n",
    "\n",
    "def filter_outliers(df, rent_range=(100,10000),sqft_range=(10,5000)):\n",
    "    \"\"\"Drop outliers from listings dataframe. For now, only need to filter out rent and sq ft. \n",
    "    Args: \n",
    "        df: Dataframe with listings. Cols names include ['rent','sqft']\n",
    "        rent_range (tuple): min and max rent\n",
    "        sqft_range (tuple): min and max sqft\n",
    "    Returns: \n",
    "        DataFrame: listings data without outliers. \n",
    "    \"\"\"\n",
    "    n0=len(df)\n",
    "    df=df[(df.rent>=rent_range[0])&(df.rent<rent_range[1])]\n",
    "    n1=len(df)\n",
    "    print('Dropped {} outside rent range ${}-${}'.format(n0-n1,rent_range[0],rent_range[1]))\n",
    "    df=df[(df.sqft>=sqft_range[0])&(df.sqft<sqft_range[1])]\n",
    "    n2=len(df)\n",
    "    print('Dropped {} outside sqft range {}-{} sqft. {} rows remaining'.format(n1-n2,sqft_range[0],sqft_range[1],len(df)))\n",
    "    return(df)"
   ]
  },
  {
   "cell_type": "markdown",
   "metadata": {},
   "source": [
    "## Load data"
   ]
  },
  {
   "cell_type": "code",
   "execution_count": 91,
   "metadata": {
    "collapsed": false
   },
   "outputs": [
    {
     "data": {
      "text/html": [
       "<div>\n",
       "<table border=\"1\" class=\"dataframe\">\n",
       "  <thead>\n",
       "    <tr style=\"text-align: right;\">\n",
       "      <th></th>\n",
       "      <th>listing_id</th>\n",
       "      <th>date</th>\n",
       "      <th>rent</th>\n",
       "      <th>bedrooms</th>\n",
       "      <th>sqft</th>\n",
       "      <th>rent_sqft</th>\n",
       "      <th>fips_block</th>\n",
       "      <th>state</th>\n",
       "      <th>mpo_id</th>\n",
       "      <th>cars_tot</th>\n",
       "      <th>...</th>\n",
       "      <th>race_of_head_4</th>\n",
       "      <th>race_of_head_5</th>\n",
       "      <th>race_of_head_6</th>\n",
       "      <th>race_of_head_7</th>\n",
       "      <th>race_of_head_8</th>\n",
       "      <th>race_of_head_9</th>\n",
       "      <th>recent_mover_0</th>\n",
       "      <th>recent_mover_1</th>\n",
       "      <th>tenure_1</th>\n",
       "      <th>tenure_2</th>\n",
       "    </tr>\n",
       "  </thead>\n",
       "  <tbody>\n",
       "    <tr>\n",
       "      <th>0</th>\n",
       "      <td>5865138267</td>\n",
       "      <td>2016-11-13</td>\n",
       "      <td>1200</td>\n",
       "      <td>4</td>\n",
       "      <td>1650</td>\n",
       "      <td>0.727273</td>\n",
       "      <td>360979501002026</td>\n",
       "      <td>NY</td>\n",
       "      <td>NaN</td>\n",
       "      <td>621</td>\n",
       "      <td>...</td>\n",
       "      <td>NaN</td>\n",
       "      <td>NaN</td>\n",
       "      <td>NaN</td>\n",
       "      <td>NaN</td>\n",
       "      <td>NaN</td>\n",
       "      <td>NaN</td>\n",
       "      <td>306</td>\n",
       "      <td>NaN</td>\n",
       "      <td>278</td>\n",
       "      <td>28</td>\n",
       "    </tr>\n",
       "    <tr>\n",
       "      <th>1</th>\n",
       "      <td>5873850096</td>\n",
       "      <td>2016-11-13</td>\n",
       "      <td>1050</td>\n",
       "      <td>0</td>\n",
       "      <td>1025</td>\n",
       "      <td>1.024390</td>\n",
       "      <td>360290091061004</td>\n",
       "      <td>NY</td>\n",
       "      <td>36197401</td>\n",
       "      <td>695</td>\n",
       "      <td>...</td>\n",
       "      <td>NaN</td>\n",
       "      <td>NaN</td>\n",
       "      <td>NaN</td>\n",
       "      <td>NaN</td>\n",
       "      <td>NaN</td>\n",
       "      <td>NaN</td>\n",
       "      <td>350</td>\n",
       "      <td>6</td>\n",
       "      <td>348</td>\n",
       "      <td>8</td>\n",
       "    </tr>\n",
       "    <tr>\n",
       "      <th>2</th>\n",
       "      <td>5870106072</td>\n",
       "      <td>2016-11-13</td>\n",
       "      <td>1626</td>\n",
       "      <td>2</td>\n",
       "      <td>1430</td>\n",
       "      <td>1.137063</td>\n",
       "      <td>360010142024010</td>\n",
       "      <td>NY</td>\n",
       "      <td>36197300</td>\n",
       "      <td>872</td>\n",
       "      <td>...</td>\n",
       "      <td>NaN</td>\n",
       "      <td>1</td>\n",
       "      <td>40</td>\n",
       "      <td>NaN</td>\n",
       "      <td>1</td>\n",
       "      <td>7</td>\n",
       "      <td>425</td>\n",
       "      <td>52</td>\n",
       "      <td>264</td>\n",
       "      <td>213</td>\n",
       "    </tr>\n",
       "    <tr>\n",
       "      <th>3</th>\n",
       "      <td>5869051694</td>\n",
       "      <td>2016-11-13</td>\n",
       "      <td>1790</td>\n",
       "      <td>3</td>\n",
       "      <td>1282</td>\n",
       "      <td>1.396256</td>\n",
       "      <td>360910624052032</td>\n",
       "      <td>NY</td>\n",
       "      <td>36198204</td>\n",
       "      <td>2032</td>\n",
       "      <td>...</td>\n",
       "      <td>NaN</td>\n",
       "      <td>NaN</td>\n",
       "      <td>75</td>\n",
       "      <td>NaN</td>\n",
       "      <td>NaN</td>\n",
       "      <td>NaN</td>\n",
       "      <td>861</td>\n",
       "      <td>342</td>\n",
       "      <td>614</td>\n",
       "      <td>589</td>\n",
       "    </tr>\n",
       "    <tr>\n",
       "      <th>4</th>\n",
       "      <td>5873890012</td>\n",
       "      <td>2016-11-13</td>\n",
       "      <td>1100</td>\n",
       "      <td>2</td>\n",
       "      <td>768</td>\n",
       "      <td>1.432292</td>\n",
       "      <td>360010004011050</td>\n",
       "      <td>NY</td>\n",
       "      <td>36197300</td>\n",
       "      <td>1389</td>\n",
       "      <td>...</td>\n",
       "      <td>NaN</td>\n",
       "      <td>NaN</td>\n",
       "      <td>4</td>\n",
       "      <td>NaN</td>\n",
       "      <td>NaN</td>\n",
       "      <td>NaN</td>\n",
       "      <td>847</td>\n",
       "      <td>176</td>\n",
       "      <td>650</td>\n",
       "      <td>373</td>\n",
       "    </tr>\n",
       "  </tbody>\n",
       "</table>\n",
       "<p>5 rows × 29 columns</p>\n",
       "</div>"
      ],
      "text/plain": [
       "   listing_id        date  rent  bedrooms  sqft  rent_sqft       fips_block  \\\n",
       "0  5865138267  2016-11-13  1200         4  1650   0.727273  360979501002026   \n",
       "1  5873850096  2016-11-13  1050         0  1025   1.024390  360290091061004   \n",
       "2  5870106072  2016-11-13  1626         2  1430   1.137063  360010142024010   \n",
       "3  5869051694  2016-11-13  1790         3  1282   1.396256  360910624052032   \n",
       "4  5873890012  2016-11-13  1100         2   768   1.432292  360010004011050   \n",
       "\n",
       "  state    mpo_id  cars_tot    ...     race_of_head_4  race_of_head_5  \\\n",
       "0    NY       NaN       621    ...                NaN             NaN   \n",
       "1    NY  36197401       695    ...                NaN             NaN   \n",
       "2    NY  36197300       872    ...                NaN               1   \n",
       "3    NY  36198204      2032    ...                NaN             NaN   \n",
       "4    NY  36197300      1389    ...                NaN             NaN   \n",
       "\n",
       "   race_of_head_6  race_of_head_7  race_of_head_8  race_of_head_9  \\\n",
       "0             NaN             NaN             NaN             NaN   \n",
       "1             NaN             NaN             NaN             NaN   \n",
       "2              40             NaN               1               7   \n",
       "3              75             NaN             NaN             NaN   \n",
       "4               4             NaN             NaN             NaN   \n",
       "\n",
       "   recent_mover_0  recent_mover_1  tenure_1  tenure_2  \n",
       "0             306             NaN       278        28  \n",
       "1             350               6       348         8  \n",
       "2             425              52       264       213  \n",
       "3             861             342       614       589  \n",
       "4             847             176       650       373  \n",
       "\n",
       "[5 rows x 29 columns]"
      ]
     },
     "execution_count": 91,
     "metadata": {},
     "output_type": "execute_result"
    }
   ],
   "source": [
    "# get list of files and load. \n",
    "# TODO: decide what to load. \n",
    "state='NY'\n",
    "infile='cl_census_{}.csv'.format(state)\n",
    "df = read_listings_file(infile)\n",
    "df.head()"
   ]
  },
  {
   "cell_type": "code",
   "execution_count": 92,
   "metadata": {
    "collapsed": false
   },
   "outputs": [],
   "source": [
    "# for census vars, NA really means 0...\n",
    "census_cols = ['cars_tot', 'children_tot','persons_tot', 'workers_tot', 'age_of_head_med', 'income_med','hhs_tot', 'race_of_head_1', 'race_of_head_2', 'race_of_head_3','race_of_head_4', 'race_of_head_5', 'race_of_head_6', 'race_of_head_7','race_of_head_8', 'race_of_head_9', 'recent_mover_0', 'recent_mover_1','tenure_1', 'tenure_2']\n",
    "for col in census_cols:\n",
    "    df[col] = df[col].fillna(0)"
   ]
  },
  {
   "cell_type": "code",
   "execution_count": 93,
   "metadata": {
    "collapsed": false
   },
   "outputs": [
    {
     "data": {
      "text/html": [
       "<div>\n",
       "<table border=\"1\" class=\"dataframe\">\n",
       "  <thead>\n",
       "    <tr style=\"text-align: right;\">\n",
       "      <th></th>\n",
       "      <th>cars_tot</th>\n",
       "      <th>children_tot</th>\n",
       "      <th>persons_tot</th>\n",
       "      <th>workers_tot</th>\n",
       "      <th>age_of_head_med</th>\n",
       "      <th>income_med</th>\n",
       "      <th>hhs_tot</th>\n",
       "      <th>race_of_head_1</th>\n",
       "      <th>race_of_head_2</th>\n",
       "      <th>race_of_head_3</th>\n",
       "      <th>race_of_head_4</th>\n",
       "      <th>race_of_head_5</th>\n",
       "      <th>race_of_head_6</th>\n",
       "      <th>race_of_head_7</th>\n",
       "      <th>race_of_head_8</th>\n",
       "      <th>race_of_head_9</th>\n",
       "      <th>recent_mover_0</th>\n",
       "      <th>recent_mover_1</th>\n",
       "      <th>tenure_1</th>\n",
       "      <th>tenure_2</th>\n",
       "    </tr>\n",
       "  </thead>\n",
       "  <tbody>\n",
       "    <tr>\n",
       "      <th>0</th>\n",
       "      <td>621</td>\n",
       "      <td>119</td>\n",
       "      <td>718</td>\n",
       "      <td>345</td>\n",
       "      <td>56</td>\n",
       "      <td>57000</td>\n",
       "      <td>306</td>\n",
       "      <td>306</td>\n",
       "      <td>0</td>\n",
       "      <td>0</td>\n",
       "      <td>0</td>\n",
       "      <td>0</td>\n",
       "      <td>0</td>\n",
       "      <td>0</td>\n",
       "      <td>0</td>\n",
       "      <td>0</td>\n",
       "      <td>306</td>\n",
       "      <td>0</td>\n",
       "      <td>278</td>\n",
       "      <td>28</td>\n",
       "    </tr>\n",
       "    <tr>\n",
       "      <th>1</th>\n",
       "      <td>695</td>\n",
       "      <td>155</td>\n",
       "      <td>877</td>\n",
       "      <td>517</td>\n",
       "      <td>58</td>\n",
       "      <td>67500</td>\n",
       "      <td>356</td>\n",
       "      <td>334</td>\n",
       "      <td>22</td>\n",
       "      <td>0</td>\n",
       "      <td>0</td>\n",
       "      <td>0</td>\n",
       "      <td>0</td>\n",
       "      <td>0</td>\n",
       "      <td>0</td>\n",
       "      <td>0</td>\n",
       "      <td>350</td>\n",
       "      <td>6</td>\n",
       "      <td>348</td>\n",
       "      <td>8</td>\n",
       "    </tr>\n",
       "    <tr>\n",
       "      <th>2</th>\n",
       "      <td>872</td>\n",
       "      <td>264</td>\n",
       "      <td>1128</td>\n",
       "      <td>606</td>\n",
       "      <td>51</td>\n",
       "      <td>103000</td>\n",
       "      <td>477</td>\n",
       "      <td>425</td>\n",
       "      <td>0</td>\n",
       "      <td>3</td>\n",
       "      <td>0</td>\n",
       "      <td>1</td>\n",
       "      <td>40</td>\n",
       "      <td>0</td>\n",
       "      <td>1</td>\n",
       "      <td>7</td>\n",
       "      <td>425</td>\n",
       "      <td>52</td>\n",
       "      <td>264</td>\n",
       "      <td>213</td>\n",
       "    </tr>\n",
       "    <tr>\n",
       "      <th>3</th>\n",
       "      <td>2032</td>\n",
       "      <td>328</td>\n",
       "      <td>2464</td>\n",
       "      <td>1441</td>\n",
       "      <td>52</td>\n",
       "      <td>51000</td>\n",
       "      <td>1203</td>\n",
       "      <td>1128</td>\n",
       "      <td>0</td>\n",
       "      <td>0</td>\n",
       "      <td>0</td>\n",
       "      <td>0</td>\n",
       "      <td>75</td>\n",
       "      <td>0</td>\n",
       "      <td>0</td>\n",
       "      <td>0</td>\n",
       "      <td>861</td>\n",
       "      <td>342</td>\n",
       "      <td>614</td>\n",
       "      <td>589</td>\n",
       "    </tr>\n",
       "    <tr>\n",
       "      <th>4</th>\n",
       "      <td>1389</td>\n",
       "      <td>106</td>\n",
       "      <td>1671</td>\n",
       "      <td>809</td>\n",
       "      <td>64</td>\n",
       "      <td>71620</td>\n",
       "      <td>1023</td>\n",
       "      <td>997</td>\n",
       "      <td>22</td>\n",
       "      <td>0</td>\n",
       "      <td>0</td>\n",
       "      <td>0</td>\n",
       "      <td>4</td>\n",
       "      <td>0</td>\n",
       "      <td>0</td>\n",
       "      <td>0</td>\n",
       "      <td>847</td>\n",
       "      <td>176</td>\n",
       "      <td>650</td>\n",
       "      <td>373</td>\n",
       "    </tr>\n",
       "  </tbody>\n",
       "</table>\n",
       "</div>"
      ],
      "text/plain": [
       "   cars_tot  children_tot  persons_tot  workers_tot  age_of_head_med  \\\n",
       "0       621           119          718          345               56   \n",
       "1       695           155          877          517               58   \n",
       "2       872           264         1128          606               51   \n",
       "3      2032           328         2464         1441               52   \n",
       "4      1389           106         1671          809               64   \n",
       "\n",
       "   income_med  hhs_tot  race_of_head_1  race_of_head_2  race_of_head_3  \\\n",
       "0       57000      306             306               0               0   \n",
       "1       67500      356             334              22               0   \n",
       "2      103000      477             425               0               3   \n",
       "3       51000     1203            1128               0               0   \n",
       "4       71620     1023             997              22               0   \n",
       "\n",
       "   race_of_head_4  race_of_head_5  race_of_head_6  race_of_head_7  \\\n",
       "0               0               0               0               0   \n",
       "1               0               0               0               0   \n",
       "2               0               1              40               0   \n",
       "3               0               0              75               0   \n",
       "4               0               0               4               0   \n",
       "\n",
       "   race_of_head_8  race_of_head_9  recent_mover_0  recent_mover_1  tenure_1  \\\n",
       "0               0               0             306               0       278   \n",
       "1               0               0             350               6       348   \n",
       "2               1               7             425              52       264   \n",
       "3               0               0             861             342       614   \n",
       "4               0               0             847             176       650   \n",
       "\n",
       "   tenure_2  \n",
       "0        28  \n",
       "1         8  \n",
       "2       213  \n",
       "3       589  \n",
       "4       373  "
      ]
     },
     "execution_count": 93,
     "metadata": {},
     "output_type": "execute_result"
    }
   ],
   "source": [
    "df[census_cols].head()"
   ]
  },
  {
   "cell_type": "code",
   "execution_count": 94,
   "metadata": {
    "collapsed": true
   },
   "outputs": [],
   "source": [
    "# make meaningful variables.\n",
    "df['pct_race_1'] = df['race_of_head_1']/df['hhs_tot']\n",
    "df['pct_race_2'] = df['race_of_head_2']/df['hhs_tot']\n",
    "df['pct_race_3'] = df['race_of_head_3']/df['hhs_tot']\n",
    "df['pct_mover'] = df['recent_mover_1']/df['hhs_tot']\n",
    "df['pct_tenure_1'] = df['tenure_1']/df['hhs_tot']\n",
    "df['avg_hh_size'] = df['persons_tot']/df['hhs_tot']\n",
    "df['cars_per_hh'] = df['cars_tot']/df['hhs_tot']\n",
    "\n",
    "\n",
    "df['ln_rent'] = np.log(df['rent'])"
   ]
  },
  {
   "cell_type": "code",
   "execution_count": 95,
   "metadata": {
    "collapsed": false
   },
   "outputs": [
    {
     "data": {
      "text/html": [
       "<div>\n",
       "<table border=\"1\" class=\"dataframe\">\n",
       "  <thead>\n",
       "    <tr style=\"text-align: right;\">\n",
       "      <th></th>\n",
       "      <th>rent</th>\n",
       "      <th>ln_rent</th>\n",
       "      <th>bedrooms</th>\n",
       "      <th>sqft</th>\n",
       "      <th>pct_race_1</th>\n",
       "      <th>pct_race_2</th>\n",
       "      <th>pct_race_3</th>\n",
       "      <th>pct_mover</th>\n",
       "      <th>pct_tenure_1</th>\n",
       "      <th>income_med</th>\n",
       "      <th>age_of_head_med</th>\n",
       "      <th>avg_hh_size</th>\n",
       "      <th>cars_per_hh</th>\n",
       "    </tr>\n",
       "  </thead>\n",
       "  <tbody>\n",
       "    <tr>\n",
       "      <th>count</th>\n",
       "      <td>54934.000000</td>\n",
       "      <td>54934.000000</td>\n",
       "      <td>54934.000000</td>\n",
       "      <td>54934.000000</td>\n",
       "      <td>54399.000000</td>\n",
       "      <td>54399.000000</td>\n",
       "      <td>54399.000000</td>\n",
       "      <td>54399.000000</td>\n",
       "      <td>54399.000000</td>\n",
       "      <td>54934.000000</td>\n",
       "      <td>54934.000000</td>\n",
       "      <td>54399.000000</td>\n",
       "      <td>54399.000000</td>\n",
       "    </tr>\n",
       "    <tr>\n",
       "      <th>mean</th>\n",
       "      <td>4397.204973</td>\n",
       "      <td>7.256942</td>\n",
       "      <td>2.031693</td>\n",
       "      <td>1125.127808</td>\n",
       "      <td>0.785019</td>\n",
       "      <td>0.112677</td>\n",
       "      <td>0.001894</td>\n",
       "      <td>0.204687</td>\n",
       "      <td>0.458737</td>\n",
       "      <td>59514.072806</td>\n",
       "      <td>48.418520</td>\n",
       "      <td>2.211441</td>\n",
       "      <td>1.208953</td>\n",
       "    </tr>\n",
       "    <tr>\n",
       "      <th>std</th>\n",
       "      <td>178219.456117</td>\n",
       "      <td>0.686124</td>\n",
       "      <td>1.124379</td>\n",
       "      <td>4769.754000</td>\n",
       "      <td>0.255684</td>\n",
       "      <td>0.213344</td>\n",
       "      <td>0.004698</td>\n",
       "      <td>0.145567</td>\n",
       "      <td>0.297378</td>\n",
       "      <td>33497.944359</td>\n",
       "      <td>9.401062</td>\n",
       "      <td>0.502620</td>\n",
       "      <td>0.650050</td>\n",
       "    </tr>\n",
       "    <tr>\n",
       "      <th>min</th>\n",
       "      <td>1.000000</td>\n",
       "      <td>0.000000</td>\n",
       "      <td>0.000000</td>\n",
       "      <td>1.000000</td>\n",
       "      <td>0.000000</td>\n",
       "      <td>0.000000</td>\n",
       "      <td>0.000000</td>\n",
       "      <td>0.000000</td>\n",
       "      <td>0.000000</td>\n",
       "      <td>0.000000</td>\n",
       "      <td>0.000000</td>\n",
       "      <td>1.000000</td>\n",
       "      <td>0.000000</td>\n",
       "    </tr>\n",
       "    <tr>\n",
       "      <th>25%</th>\n",
       "      <td>885.000000</td>\n",
       "      <td>6.785588</td>\n",
       "      <td>1.000000</td>\n",
       "      <td>778.000000</td>\n",
       "      <td>0.710448</td>\n",
       "      <td>0.000000</td>\n",
       "      <td>0.000000</td>\n",
       "      <td>0.098214</td>\n",
       "      <td>0.199211</td>\n",
       "      <td>36800.000000</td>\n",
       "      <td>45.000000</td>\n",
       "      <td>1.868852</td>\n",
       "      <td>0.577375</td>\n",
       "    </tr>\n",
       "    <tr>\n",
       "      <th>50%</th>\n",
       "      <td>1345.000000</td>\n",
       "      <td>7.204149</td>\n",
       "      <td>2.000000</td>\n",
       "      <td>1000.000000</td>\n",
       "      <td>0.880579</td>\n",
       "      <td>0.020938</td>\n",
       "      <td>0.000000</td>\n",
       "      <td>0.181271</td>\n",
       "      <td>0.464939</td>\n",
       "      <td>52200.000000</td>\n",
       "      <td>50.000000</td>\n",
       "      <td>2.182510</td>\n",
       "      <td>1.369110</td>\n",
       "    </tr>\n",
       "    <tr>\n",
       "      <th>75%</th>\n",
       "      <td>2200.000000</td>\n",
       "      <td>7.696213</td>\n",
       "      <td>3.000000</td>\n",
       "      <td>1240.000000</td>\n",
       "      <td>0.973856</td>\n",
       "      <td>0.099259</td>\n",
       "      <td>0.002454</td>\n",
       "      <td>0.284289</td>\n",
       "      <td>0.681514</td>\n",
       "      <td>75000.000000</td>\n",
       "      <td>54.000000</td>\n",
       "      <td>2.535857</td>\n",
       "      <td>1.751625</td>\n",
       "    </tr>\n",
       "    <tr>\n",
       "      <th>max</th>\n",
       "      <td>23772584.000000</td>\n",
       "      <td>16.984044</td>\n",
       "      <td>9.000000</td>\n",
       "      <td>850825.000000</td>\n",
       "      <td>1.000000</td>\n",
       "      <td>1.000000</td>\n",
       "      <td>0.390339</td>\n",
       "      <td>0.920128</td>\n",
       "      <td>1.000000</td>\n",
       "      <td>269600.000000</td>\n",
       "      <td>76.000000</td>\n",
       "      <td>5.700608</td>\n",
       "      <td>2.692771</td>\n",
       "    </tr>\n",
       "  </tbody>\n",
       "</table>\n",
       "</div>"
      ],
      "text/plain": [
       "                  rent       ln_rent      bedrooms           sqft  \\\n",
       "count     54934.000000  54934.000000  54934.000000   54934.000000   \n",
       "mean       4397.204973      7.256942      2.031693    1125.127808   \n",
       "std      178219.456117      0.686124      1.124379    4769.754000   \n",
       "min           1.000000      0.000000      0.000000       1.000000   \n",
       "25%         885.000000      6.785588      1.000000     778.000000   \n",
       "50%        1345.000000      7.204149      2.000000    1000.000000   \n",
       "75%        2200.000000      7.696213      3.000000    1240.000000   \n",
       "max    23772584.000000     16.984044      9.000000  850825.000000   \n",
       "\n",
       "         pct_race_1    pct_race_2    pct_race_3     pct_mover  pct_tenure_1  \\\n",
       "count  54399.000000  54399.000000  54399.000000  54399.000000  54399.000000   \n",
       "mean       0.785019      0.112677      0.001894      0.204687      0.458737   \n",
       "std        0.255684      0.213344      0.004698      0.145567      0.297378   \n",
       "min        0.000000      0.000000      0.000000      0.000000      0.000000   \n",
       "25%        0.710448      0.000000      0.000000      0.098214      0.199211   \n",
       "50%        0.880579      0.020938      0.000000      0.181271      0.464939   \n",
       "75%        0.973856      0.099259      0.002454      0.284289      0.681514   \n",
       "max        1.000000      1.000000      0.390339      0.920128      1.000000   \n",
       "\n",
       "          income_med  age_of_head_med   avg_hh_size   cars_per_hh  \n",
       "count   54934.000000     54934.000000  54399.000000  54399.000000  \n",
       "mean    59514.072806        48.418520      2.211441      1.208953  \n",
       "std     33497.944359         9.401062      0.502620      0.650050  \n",
       "min         0.000000         0.000000      1.000000      0.000000  \n",
       "25%     36800.000000        45.000000      1.868852      0.577375  \n",
       "50%     52200.000000        50.000000      2.182510      1.369110  \n",
       "75%     75000.000000        54.000000      2.535857      1.751625  \n",
       "max    269600.000000        76.000000      5.700608      2.692771  "
      ]
     },
     "execution_count": 95,
     "metadata": {},
     "output_type": "execute_result"
    }
   ],
   "source": [
    "features_to_examine = ['rent','ln_rent', 'bedrooms', 'sqft','pct_race_1','pct_race_2','pct_race_3','pct_mover','pct_tenure_1','income_med','age_of_head_med','avg_hh_size','cars_per_hh']\n",
    "df[features_to_examine].describe()"
   ]
  },
  {
   "cell_type": "markdown",
   "metadata": {},
   "source": [
    "## Filter outliers\n",
    "\n",
    "Can use the following to examine outliers..."
   ]
  },
  {
   "cell_type": "code",
   "execution_count": 96,
   "metadata": {
    "collapsed": false
   },
   "outputs": [
    {
     "data": {
      "text/plain": [
       "'Ranges to define outliers in CL data. I defined based on inspection of distributions.'"
      ]
     },
     "execution_count": 96,
     "metadata": {},
     "output_type": "execute_result"
    }
   ],
   "source": [
    "rent_range=(100,10000)\n",
    "sqft_range=(10,5000)\n",
    "\"\"\"Ranges to define outliers in CL data. I defined based on inspection of distributions.\"\"\""
   ]
  },
  {
   "cell_type": "code",
   "execution_count": 119,
   "metadata": {
    "collapsed": false
   },
   "outputs": [
    {
     "name": "stderr",
     "output_type": "stream",
     "text": [
      "//anaconda/lib/python3.5/site-packages/statsmodels/nonparametric/kdetools.py:20: VisibleDeprecationWarning: using a non-integer number instead of an integer will result in an error in the future\n",
      "  y = X[:m/2+1] + np.r_[0,X[m/2+1:],0]*1j\n"
     ]
    },
    {
     "data": {
      "text/plain": [
       "(0, 10000)"
      ]
     },
     "execution_count": 119,
     "metadata": {},
     "output_type": "execute_result"
    },
    {
     "data": {
      "image/png": "[encoded data removed]",
      "text/plain": [
       "<matplotlib.figure.Figure at 0x10da90c18>"
      ]
     },
     "metadata": {},
     "output_type": "display_data"
    }
   ],
   "source": [
    "import matplotlib.pyplot as plt\n",
    "import seaborn as sns\n",
    "%matplotlib inline\n",
    "# use this to define outliers. \n",
    "g=sns.distplot(df['rent'])\n",
    "g.set_xlim(0,100000)\n",
    "\n",
    "g=sns.distplot(df['sqft'])\n",
    "g.set_xlim(0,10000)"
   ]
  },
  {
   "cell_type": "code",
   "execution_count": 97,
   "metadata": {
    "collapsed": false
   },
   "outputs": [
    {
     "name": "stdout",
     "output_type": "stream",
     "text": [
      "Dropped 314 outside rent range $100-$10000\n",
      "Dropped 181 outside sqft range 10-5000 sqft. 54439 rows remaining\n"
     ]
    }
   ],
   "source": [
    "df = filter_outliers(df)"
   ]
  },
  {
   "cell_type": "markdown",
   "metadata": {},
   "source": [
    "## drop NA"
   ]
  },
  {
   "cell_type": "code",
   "execution_count": 107,
   "metadata": {
    "collapsed": false
   },
   "outputs": [
    {
     "name": "stdout",
     "output_type": "stream",
     "text": [
      "54439\n",
      "532\n"
     ]
    }
   ],
   "source": [
    "df = df[features_to_examine]\n",
    "print(len(df))\n",
    "print(len(df[pd.isnull(df).any(axis=1)]))\n",
    "df = df.dropna()"
   ]
  },
  {
   "cell_type": "markdown",
   "metadata": {},
   "source": [
    "## look at distributions\n",
    "\n",
    "Since rent has a more or less logarithmic distribution, we use ln_rent instead"
   ]
  },
  {
   "cell_type": "code",
   "execution_count": 109,
   "metadata": {
    "collapsed": false
   },
   "outputs": [
    {
     "name": "stderr",
     "output_type": "stream",
     "text": [
      "//anaconda/lib/python3.5/site-packages/statsmodels/nonparametric/kdetools.py:20: VisibleDeprecationWarning: using a non-integer number instead of an integer will result in an error in the future\n",
      "  y = X[:m/2+1] + np.r_[0,X[m/2+1:],0]*1j\n"
     ]
    },
    {
     "data": {
      "text/plain": [
       "<matplotlib.axes._subplots.AxesSubplot at 0x10c424048>"
      ]
     },
     "execution_count": 109,
     "metadata": {},
     "output_type": "execute_result"
    },
    {
     "data": {
      "image/png": "[encoded data removed]",
      "text/plain": [
       "<matplotlib.figure.Figure at 0x18a0fe710>"
      ]
     },
     "metadata": {},
     "output_type": "display_data"
    }
   ],
   "source": [
    "sns.distplot(df.rent)"
   ]
  },
  {
   "cell_type": "code",
   "execution_count": 110,
   "metadata": {
    "collapsed": false
   },
   "outputs": [
    {
     "name": "stderr",
     "output_type": "stream",
     "text": [
      "//anaconda/lib/python3.5/site-packages/statsmodels/nonparametric/kdetools.py:20: VisibleDeprecationWarning: using a non-integer number instead of an integer will result in an error in the future\n",
      "  y = X[:m/2+1] + np.r_[0,X[m/2+1:],0]*1j\n"
     ]
    },
    {
     "data": {
      "text/plain": [
       "<matplotlib.axes._subplots.AxesSubplot at 0x10dca3240>"
      ]
     },
     "execution_count": 110,
     "metadata": {},
     "output_type": "execute_result"
    },
    {
     "data": {
      "image/png": "[encoded data removed]",
      "text/plain": [
       "<matplotlib.figure.Figure at 0x10dc72438>"
      ]
     },
     "metadata": {},
     "output_type": "display_data"
    }
   ],
   "source": [
    "sns.distplot(df.ln_rent)"
   ]
  },
  {
   "cell_type": "code",
   "execution_count": 121,
   "metadata": {
    "collapsed": false
   },
   "outputs": [
    {
     "name": "stderr",
     "output_type": "stream",
     "text": [
      "//anaconda/lib/python3.5/site-packages/statsmodels/nonparametric/kdetools.py:20: VisibleDeprecationWarning: using a non-integer number instead of an integer will result in an error in the future\n",
      "  y = X[:m/2+1] + np.r_[0,X[m/2+1:],0]*1j\n"
     ]
    },
    {
     "data": {
      "image/png": "[encoded data removed]",
      "text/plain": [
       "<matplotlib.figure.Figure at 0x1920900b8>"
      ]
     },
     "metadata": {},
     "output_type": "display_data"
    }
   ],
   "source": [
    "plot_rows = math.ceil(len(features_to_examine)/2)\n",
    "\n",
    "f, axes = plt.subplots(plot_rows,2, figsize=(8,12))\n",
    "sns.despine(left=True)\n",
    "\n",
    "for i,col in enumerate(features_to_examine):\n",
    "    row_position = round(i/2)\n",
    "    col_position = i%2\n",
    "    p=sns.distplot(df[col], ax=axes[row_position, col_position])\n",
    "    p.set_title(''.format(col))  # while isn't the subplot title working? \n",
    "plt.show()\n"
   ]
  },
  {
   "cell_type": "code",
   "execution_count": null,
   "metadata": {
    "collapsed": true
   },
   "outputs": [],
   "source": []
  },
  {
   "cell_type": "markdown",
   "metadata": {},
   "source": [
    "## look at correlations"
   ]
  },
  {
   "cell_type": "code",
   "execution_count": 45,
   "metadata": {
    "collapsed": false
   },
   "outputs": [
    {
     "data": {
      "image/png": "[encoded data removed]",
      "text/plain": [
       "<matplotlib.figure.Figure at 0x10af0eba8>"
      ]
     },
     "metadata": {},
     "output_type": "display_data"
    }
   ],
   "source": [
    "# correlation heatmap\n",
    "corrmat=df[features_to_examine].corr()\n",
    "corrmat.head()\n",
    "\n",
    "f, ax = plt.subplots(figsize=(12, 9))\n",
    "sns.heatmap(corrmat, vmax=.8, square=True)\n",
    "\n",
    "f.tight_layout()"
   ]
  },
  {
   "cell_type": "code",
   "execution_count": null,
   "metadata": {
    "collapsed": true
   },
   "outputs": [],
   "source": []
  }
 ],
 "metadata": {
  "kernelspec": {
   "display_name": "Python 3",
   "language": "python",
   "name": "python3"
  },
  "language_info": {
   "codemirror_mode": {
    "name": "ipython",
    "version": 3
   },
   "file_extension": ".py",
   "mimetype": "text/x-python",
   "name": "python",
   "nbconvert_exporter": "python",
   "pygments_lexer": "ipython3",
   "version": "3.5.2"
  }
 },
 "nbformat": 4,
 "nbformat_minor": 0
}
