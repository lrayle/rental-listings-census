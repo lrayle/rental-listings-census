{
 "cells": [
  {
   "cell_type": "code",
   "execution_count": 26,
   "metadata": {
    "collapsed": true
   },
   "outputs": [],
   "source": [
    "import pandas as pd\n",
    "import paramiko\n",
    "import os\n",
    "import numpy as np\n",
    "import math\n",
    "import json\n",
    "import matplotlib.pyplot as plt\n",
    "import seaborn as sns\n",
    "%matplotlib inline"
   ]
  },
  {
   "cell_type": "markdown",
   "metadata": {},
   "source": [
    "This notebook is for exploring the merged craigslist/census data and fitting some initial models.\n",
    "\n",
    "TODO:\n",
    "- parse dates and filter for date\n",
    "- look at data from multiple states together\n",
    "- add capability to create dataset for an MPO\n"
   ]
  },
  {
   "cell_type": "markdown",
   "metadata": {},
   "source": [
    "## Remote connection parameters\n",
    "If data is stored remotely"
   ]
  },
  {
   "cell_type": "code",
   "execution_count": 28,
   "metadata": {
    "collapsed": false
   },
   "outputs": [],
   "source": [
    "# TODO: add putty connection too. \n",
    "\n",
    "#read SSH connection parameters\n",
    "with open('ssh_settings.json') as settings_file:    \n",
    "    settings = json.load(settings_file)\n",
    "\n",
    "hostname = settings['hostname']\n",
    "username = settings['username']\n",
    "password = settings['password']\n",
    "local_key_dir = settings['local_key_dir']\n",
    "\n",
    "census_dir = 'synthetic_population/'\n",
    "\"\"\"Remote directory with census data\"\"\"\n",
    "\n",
    "results_dir = 'craigslist_census/'\n",
    "\"\"\"Remote directory for results\"\"\"\n",
    "\n",
    "# estbalish SSH connection\n",
    "ssh = paramiko.SSHClient() \n",
    "ssh.load_host_keys(local_key_dir)\n",
    "ssh.set_missing_host_key_policy(paramiko.AutoAddPolicy())\n",
    "ssh.connect(hostname,username=username, password=password)\n",
    "sftp = ssh.open_sftp()"
   ]
  },
  {
   "cell_type": "code",
   "execution_count": 3,
   "metadata": {
    "collapsed": true
   },
   "outputs": [],
   "source": [
    "def read_listings_file(fname):\n",
    "    \"\"\"Read csv file via SFTP and return as dataframe.\"\"\"\n",
    "    with sftp.open(listings_dir+fname) as f:\n",
    "        df = pd.read_csv(f, delimiter=',', dtype={'date':str,'fips_block':str,'state':str,'mpo_id':str})\n",
    "        # TODO: parse dates. \n",
    "    return df\n",
    "\n",
    "def log_var(x):\n",
    "    \"\"\"Return log of x, but NaN if zero.\"\"\"\n",
    "    if x==0:\n",
    "        return np.nan\n",
    "    else:\n",
    "        return np.log(x)\n",
    "    \n",
    "def create_census_vars(df):\n",
    "    \"\"\"Make meaningful variables and return the dataframe.\"\"\"\n",
    "    df['pct_white'] = df['race_of_head_1']/df['hhs_tot']\n",
    "    df['pct_black'] = df['race_of_head_2']/df['hhs_tot']\n",
    "    df['pct_amer_native'] = df['race_of_head_3']/df['hhs_tot']\n",
    "    df['pct_alaska_native'] = df['race_of_head_4']/df['hhs_tot']\n",
    "    df['pct_any_native'] = df['race_of_head_5']/df['hhs_tot']\n",
    "    df['pct_asian'] = df['race_of_head_6']/df['hhs_tot']\n",
    "    df['pct_pacific'] = df['race_of_head_7']/df['hhs_tot']\n",
    "    df['pct_other_race'] = df['race_of_head_8']/df['hhs_tot']\n",
    "    df['pct_mixed_race'] = df['race_of_head_9']/df['hhs_tot']\n",
    "    df['pct_mover'] = df['recent_mover_1']/df['hhs_tot']\n",
    "    df['pct_owner'] = df['tenure_1']/df['hhs_tot']\n",
    "    df['avg_hh_size'] = df['persons_tot']/df['hhs_tot']\n",
    "    df['cars_per_hh'] = df['cars_tot']/df['hhs_tot']\n",
    "    \n",
    "    df['ln_rent'] = df['rent'].apply(log_var)\n",
    "    df['ln_income'] = df.income_med.apply(log_var)\n",
    "    return df\n",
    "\n",
    "def filter_outliers(df, rent_range=(100,10000),sqft_range=(10,5000)):\n",
    "    \"\"\"Drop outliers from listings dataframe. For now, only need to filter out rent and sq ft. \n",
    "    Args: \n",
    "        df: Dataframe with listings. Cols names include ['rent','sqft']\n",
    "        rent_range (tuple): min and max rent\n",
    "        sqft_range (tuple): min and max sqft\n",
    "    Returns: \n",
    "        DataFrame: listings data without outliers. \n",
    "    \"\"\"\n",
    "    n0=len(df)\n",
    "    df=df[(df.rent>=rent_range[0])&(df.rent<rent_range[1])]\n",
    "    n1=len(df)\n",
    "    print('Dropped {} outside rent range ${}-${}'.format(n0-n1,rent_range[0],rent_range[1]))\n",
    "    df=df[(df.sqft>=sqft_range[0])&(df.sqft<sqft_range[1])]\n",
    "    n2=len(df)\n",
    "    print('Dropped {} outside sqft range {}-{} sqft. {} rows remaining'.format(n1-n2,sqft_range[0],sqft_range[1],len(df)))\n",
    "    return(df)"
   ]
  },
  {
   "cell_type": "markdown",
   "metadata": {},
   "source": [
    "## Load data"
   ]
  },
  {
   "cell_type": "code",
   "execution_count": 4,
   "metadata": {
    "collapsed": false
   },
   "outputs": [
    {
     "name": "stdout",
     "output_type": "stream",
     "text": [
      "82727\n"
     ]
    },
    {
     "data": {
      "text/html": [
       "<div>\n",
       "<table border=\"1\" class=\"dataframe\">\n",
       "  <thead>\n",
       "    <tr style=\"text-align: right;\">\n",
       "      <th></th>\n",
       "      <th>listing_id</th>\n",
       "      <th>date</th>\n",
       "      <th>rent</th>\n",
       "      <th>bedrooms</th>\n",
       "      <th>bathrooms</th>\n",
       "      <th>sqft</th>\n",
       "      <th>rent_sqft</th>\n",
       "      <th>fips_block</th>\n",
       "      <th>state</th>\n",
       "      <th>region</th>\n",
       "      <th>...</th>\n",
       "      <th>race_of_head_4</th>\n",
       "      <th>race_of_head_5</th>\n",
       "      <th>race_of_head_6</th>\n",
       "      <th>race_of_head_7</th>\n",
       "      <th>race_of_head_8</th>\n",
       "      <th>race_of_head_9</th>\n",
       "      <th>recent_mover_0</th>\n",
       "      <th>recent_mover_1</th>\n",
       "      <th>tenure_1</th>\n",
       "      <th>tenure_2</th>\n",
       "    </tr>\n",
       "  </thead>\n",
       "  <tbody>\n",
       "    <tr>\n",
       "      <th>0</th>\n",
       "      <td>5950749277</td>\n",
       "      <td>2017-01-08</td>\n",
       "      <td>3900</td>\n",
       "      <td>2</td>\n",
       "      <td>1.0</td>\n",
       "      <td>1000</td>\n",
       "      <td>3.900000</td>\n",
       "      <td>060750102001012</td>\n",
       "      <td>CA</td>\n",
       "      <td>sfbay</td>\n",
       "      <td>...</td>\n",
       "      <td>NaN</td>\n",
       "      <td>NaN</td>\n",
       "      <td>51</td>\n",
       "      <td>1</td>\n",
       "      <td>1</td>\n",
       "      <td>14</td>\n",
       "      <td>547</td>\n",
       "      <td>90</td>\n",
       "      <td>288</td>\n",
       "      <td>349</td>\n",
       "    </tr>\n",
       "    <tr>\n",
       "      <th>1</th>\n",
       "      <td>5930739630</td>\n",
       "      <td>2017-01-08</td>\n",
       "      <td>2107</td>\n",
       "      <td>2</td>\n",
       "      <td>1.5</td>\n",
       "      <td>1028</td>\n",
       "      <td>2.049611</td>\n",
       "      <td>060971506122048</td>\n",
       "      <td>CA</td>\n",
       "      <td>sfbay</td>\n",
       "      <td>...</td>\n",
       "      <td>NaN</td>\n",
       "      <td>NaN</td>\n",
       "      <td>11</td>\n",
       "      <td>2</td>\n",
       "      <td>19</td>\n",
       "      <td>19</td>\n",
       "      <td>536</td>\n",
       "      <td>25</td>\n",
       "      <td>264</td>\n",
       "      <td>297</td>\n",
       "    </tr>\n",
       "    <tr>\n",
       "      <th>2</th>\n",
       "      <td>5950748411</td>\n",
       "      <td>2017-01-08</td>\n",
       "      <td>3644</td>\n",
       "      <td>2</td>\n",
       "      <td>2.0</td>\n",
       "      <td>1362</td>\n",
       "      <td>2.675477</td>\n",
       "      <td>060855067033008</td>\n",
       "      <td>CA</td>\n",
       "      <td>sfbay</td>\n",
       "      <td>...</td>\n",
       "      <td>NaN</td>\n",
       "      <td>NaN</td>\n",
       "      <td>130</td>\n",
       "      <td>NaN</td>\n",
       "      <td>1</td>\n",
       "      <td>3</td>\n",
       "      <td>322</td>\n",
       "      <td>8</td>\n",
       "      <td>91</td>\n",
       "      <td>239</td>\n",
       "    </tr>\n",
       "    <tr>\n",
       "      <th>3</th>\n",
       "      <td>5950747869</td>\n",
       "      <td>2017-01-08</td>\n",
       "      <td>4350</td>\n",
       "      <td>2</td>\n",
       "      <td>1.0</td>\n",
       "      <td>900</td>\n",
       "      <td>4.833333</td>\n",
       "      <td>060750102001012</td>\n",
       "      <td>CA</td>\n",
       "      <td>sfbay</td>\n",
       "      <td>...</td>\n",
       "      <td>NaN</td>\n",
       "      <td>NaN</td>\n",
       "      <td>51</td>\n",
       "      <td>1</td>\n",
       "      <td>1</td>\n",
       "      <td>14</td>\n",
       "      <td>547</td>\n",
       "      <td>90</td>\n",
       "      <td>288</td>\n",
       "      <td>349</td>\n",
       "    </tr>\n",
       "    <tr>\n",
       "      <th>4</th>\n",
       "      <td>5950747694</td>\n",
       "      <td>2017-01-08</td>\n",
       "      <td>2450</td>\n",
       "      <td>3</td>\n",
       "      <td>2.0</td>\n",
       "      <td>1850</td>\n",
       "      <td>1.324324</td>\n",
       "      <td>060133270005038</td>\n",
       "      <td>CA</td>\n",
       "      <td>sfbay</td>\n",
       "      <td>...</td>\n",
       "      <td>NaN</td>\n",
       "      <td>1</td>\n",
       "      <td>27</td>\n",
       "      <td>2</td>\n",
       "      <td>16</td>\n",
       "      <td>25</td>\n",
       "      <td>634</td>\n",
       "      <td>25</td>\n",
       "      <td>547</td>\n",
       "      <td>112</td>\n",
       "    </tr>\n",
       "  </tbody>\n",
       "</table>\n",
       "<p>5 rows × 33 columns</p>\n",
       "</div>"
      ],
      "text/plain": [
       "   listing_id       date  rent  bedrooms  bathrooms  sqft  rent_sqft  \\\n",
       "0  5950749277 2017-01-08  3900         2        1.0  1000   3.900000   \n",
       "1  5930739630 2017-01-08  2107         2        1.5  1028   2.049611   \n",
       "2  5950748411 2017-01-08  3644         2        2.0  1362   2.675477   \n",
       "3  5950747869 2017-01-08  4350         2        1.0   900   4.833333   \n",
       "4  5950747694 2017-01-08  2450         3        2.0  1850   1.324324   \n",
       "\n",
       "        fips_block state region    ...    race_of_head_4  race_of_head_5  \\\n",
       "0  060750102001012    CA  sfbay    ...               NaN             NaN   \n",
       "1  060971506122048    CA  sfbay    ...               NaN             NaN   \n",
       "2  060855067033008    CA  sfbay    ...               NaN             NaN   \n",
       "3  060750102001012    CA  sfbay    ...               NaN             NaN   \n",
       "4  060133270005038    CA  sfbay    ...               NaN               1   \n",
       "\n",
       "   race_of_head_6  race_of_head_7  race_of_head_8  race_of_head_9  \\\n",
       "0              51               1               1              14   \n",
       "1              11               2              19              19   \n",
       "2             130             NaN               1               3   \n",
       "3              51               1               1              14   \n",
       "4              27               2              16              25   \n",
       "\n",
       "   recent_mover_0  recent_mover_1  tenure_1  tenure_2  \n",
       "0             547              90       288       349  \n",
       "1             536              25       264       297  \n",
       "2             322               8        91       239  \n",
       "3             547              90       288       349  \n",
       "4             634              25       547       112  \n",
       "\n",
       "[5 rows x 33 columns]"
      ]
     },
     "execution_count": 4,
     "metadata": {},
     "output_type": "execute_result"
    }
   ],
   "source": [
    "# get list of files and load. \n",
    "\n",
    "\n",
    "# for remotely stored data by state (just do one state for now)\n",
    "state='CA'\n",
    "infile='cl_census_{}.csv'.format(state)\n",
    "#data = read_listings_file(infile)  # uncomment to get remote data. \n",
    "\n",
    "# for local data: \n",
    "data_dir = '../data/'\n",
    "data_file = 'sfbay_listings_03032017.csv'\n",
    "\n",
    "data = pd.read_csv(data_dir+data_file,parse_dates=[1],dtype={'listing_id':str, 'rent':float, 'bedrooms':float, 'bathrooms':float, 'sqft':float,\n",
    "       'rent_sqft':float, 'fips_block':str, 'state':str, 'region':str, 'mpo_id':str, 'lng':float, 'lat':float,\n",
    "       'cars_tot':float, 'children_tot':float, 'persons_tot':float, 'workers_tot':float,\n",
    "       'age_of_head_med':float, 'income_med':float, 'hhs_tot':float, 'race_of_head_1':float,\n",
    "       'race_of_head_2':float, 'race_of_head_3':float, 'race_of_head_4':float, 'race_of_head_5':float,\n",
    "       'race_of_head_6':float, 'race_of_head_7':float, 'race_of_head_8':float, 'race_of_head_9':float,\n",
    "       'recent_mover_0':float, 'recent_mover_1':float, 'tenure_1':float, 'tenure_2':float})\n",
    "\n",
    "print(len(data))\n",
    "data.head()"
   ]
  },
  {
   "cell_type": "code",
   "execution_count": 5,
   "metadata": {
    "collapsed": false
   },
   "outputs": [],
   "source": [
    "# for census vars, NA really means 0...\n",
    "census_cols = ['cars_tot', 'children_tot','persons_tot', 'workers_tot', 'age_of_head_med', 'income_med','hhs_tot', 'race_of_head_1', 'race_of_head_2', 'race_of_head_3','race_of_head_4', 'race_of_head_5', 'race_of_head_6', 'race_of_head_7','race_of_head_8', 'race_of_head_9', 'recent_mover_0', 'recent_mover_1','tenure_1', 'tenure_2']\n",
    "for col in census_cols:\n",
    "    data[col] = data[col].fillna(0)"
   ]
  },
  {
   "cell_type": "markdown",
   "metadata": {},
   "source": [
    "## create variables\n",
    "**variable codes**\n",
    "\n",
    "Race codes (from PUMS)\n",
    "1 .White alone\n",
    " 2 .Black or African American alone\n",
    " 3 .American Indian alone\n",
    " 4 .Alaska Native alone\n",
    " 5 .American Indian and Alaska Native tribes specified; or American\n",
    " .Indian or Alaska native, not specified and no other races\n",
    " 6 .Asian alone\n",
    " 7 .Native Hawaiian and Other Pacific Islander alone\n",
    " 8 .Some other race alone\n",
    " 9 .Two or more major race groups\n",
    " \n",
    " \n",
    " \n",
    " tenure_1 = owner (based on my guess; didn't match the PUMS codes)\n",
    " \n",
    " mover_1 = moved past year (based on my guess)"
   ]
  },
  {
   "cell_type": "code",
   "execution_count": 6,
   "metadata": {
    "collapsed": false
   },
   "outputs": [
    {
     "data": {
      "text/html": [
       "<div>\n",
       "<table border=\"1\" class=\"dataframe\">\n",
       "  <thead>\n",
       "    <tr style=\"text-align: right;\">\n",
       "      <th></th>\n",
       "      <th>rent</th>\n",
       "      <th>ln_rent</th>\n",
       "      <th>bedrooms</th>\n",
       "      <th>bathrooms</th>\n",
       "      <th>sqft</th>\n",
       "      <th>pct_white</th>\n",
       "      <th>pct_black</th>\n",
       "      <th>pct_asian</th>\n",
       "      <th>pct_mover</th>\n",
       "      <th>pct_owner</th>\n",
       "      <th>income_med</th>\n",
       "      <th>age_of_head_med</th>\n",
       "      <th>avg_hh_size</th>\n",
       "      <th>cars_per_hh</th>\n",
       "    </tr>\n",
       "  </thead>\n",
       "  <tbody>\n",
       "    <tr>\n",
       "      <th>count</th>\n",
       "      <td>8.272700e+04</td>\n",
       "      <td>82727.000000</td>\n",
       "      <td>82727.000000</td>\n",
       "      <td>21135.000000</td>\n",
       "      <td>82727.000000</td>\n",
       "      <td>82701.000000</td>\n",
       "      <td>82701.000000</td>\n",
       "      <td>82701.000000</td>\n",
       "      <td>82701.000000</td>\n",
       "      <td>82701.000000</td>\n",
       "      <td>82727.000000</td>\n",
       "      <td>82727.000000</td>\n",
       "      <td>82701.000000</td>\n",
       "      <td>82701.000000</td>\n",
       "    </tr>\n",
       "    <tr>\n",
       "      <th>mean</th>\n",
       "      <td>8.424425e+03</td>\n",
       "      <td>7.892339</td>\n",
       "      <td>1.786938</td>\n",
       "      <td>1.528507</td>\n",
       "      <td>1070.799352</td>\n",
       "      <td>0.614164</td>\n",
       "      <td>0.051737</td>\n",
       "      <td>0.251347</td>\n",
       "      <td>0.238773</td>\n",
       "      <td>0.444723</td>\n",
       "      <td>84269.025923</td>\n",
       "      <td>47.596722</td>\n",
       "      <td>2.392070</td>\n",
       "      <td>1.685853</td>\n",
       "    </tr>\n",
       "    <tr>\n",
       "      <th>std</th>\n",
       "      <td>8.079905e+05</td>\n",
       "      <td>0.415221</td>\n",
       "      <td>0.995156</td>\n",
       "      <td>0.658353</td>\n",
       "      <td>4395.502018</td>\n",
       "      <td>0.222690</td>\n",
       "      <td>0.100005</td>\n",
       "      <td>0.199291</td>\n",
       "      <td>0.134969</td>\n",
       "      <td>0.267616</td>\n",
       "      <td>35749.132951</td>\n",
       "      <td>7.469119</td>\n",
       "      <td>0.570091</td>\n",
       "      <td>0.477950</td>\n",
       "    </tr>\n",
       "    <tr>\n",
       "      <th>min</th>\n",
       "      <td>1.000000e+00</td>\n",
       "      <td>0.000000</td>\n",
       "      <td>0.000000</td>\n",
       "      <td>0.000000</td>\n",
       "      <td>1.000000</td>\n",
       "      <td>0.000000</td>\n",
       "      <td>0.000000</td>\n",
       "      <td>0.000000</td>\n",
       "      <td>0.000000</td>\n",
       "      <td>0.000000</td>\n",
       "      <td>0.000000</td>\n",
       "      <td>0.000000</td>\n",
       "      <td>1.119074</td>\n",
       "      <td>0.084123</td>\n",
       "    </tr>\n",
       "    <tr>\n",
       "      <th>25%</th>\n",
       "      <td>2.125000e+03</td>\n",
       "      <td>7.661527</td>\n",
       "      <td>1.000000</td>\n",
       "      <td>1.000000</td>\n",
       "      <td>716.000000</td>\n",
       "      <td>0.445419</td>\n",
       "      <td>0.000000</td>\n",
       "      <td>0.087121</td>\n",
       "      <td>0.130178</td>\n",
       "      <td>0.238063</td>\n",
       "      <td>58000.000000</td>\n",
       "      <td>42.000000</td>\n",
       "      <td>1.973294</td>\n",
       "      <td>1.422348</td>\n",
       "    </tr>\n",
       "    <tr>\n",
       "      <th>50%</th>\n",
       "      <td>2.600000e+03</td>\n",
       "      <td>7.863267</td>\n",
       "      <td>2.000000</td>\n",
       "      <td>1.000000</td>\n",
       "      <td>930.000000</td>\n",
       "      <td>0.625000</td>\n",
       "      <td>0.014629</td>\n",
       "      <td>0.210407</td>\n",
       "      <td>0.231550</td>\n",
       "      <td>0.438642</td>\n",
       "      <td>79630.000000</td>\n",
       "      <td>48.000000</td>\n",
       "      <td>2.348315</td>\n",
       "      <td>1.764550</td>\n",
       "    </tr>\n",
       "    <tr>\n",
       "      <th>75%</th>\n",
       "      <td>3.308000e+03</td>\n",
       "      <td>8.104099</td>\n",
       "      <td>2.000000</td>\n",
       "      <td>2.000000</td>\n",
       "      <td>1187.000000</td>\n",
       "      <td>0.791878</td>\n",
       "      <td>0.050829</td>\n",
       "      <td>0.383133</td>\n",
       "      <td>0.333826</td>\n",
       "      <td>0.643371</td>\n",
       "      <td>105000.000000</td>\n",
       "      <td>53.000000</td>\n",
       "      <td>2.776371</td>\n",
       "      <td>2.007761</td>\n",
       "    </tr>\n",
       "    <tr>\n",
       "      <th>max</th>\n",
       "      <td>2.100204e+08</td>\n",
       "      <td>19.162715</td>\n",
       "      <td>8.000000</td>\n",
       "      <td>6.500000</td>\n",
       "      <td>985024.000000</td>\n",
       "      <td>1.000000</td>\n",
       "      <td>0.940909</td>\n",
       "      <td>0.950382</td>\n",
       "      <td>0.782759</td>\n",
       "      <td>1.000000</td>\n",
       "      <td>267500.000000</td>\n",
       "      <td>78.000000</td>\n",
       "      <td>5.241071</td>\n",
       "      <td>2.890467</td>\n",
       "    </tr>\n",
       "  </tbody>\n",
       "</table>\n",
       "</div>"
      ],
      "text/plain": [
       "               rent       ln_rent      bedrooms     bathrooms           sqft  \\\n",
       "count  8.272700e+04  82727.000000  82727.000000  21135.000000   82727.000000   \n",
       "mean   8.424425e+03      7.892339      1.786938      1.528507    1070.799352   \n",
       "std    8.079905e+05      0.415221      0.995156      0.658353    4395.502018   \n",
       "min    1.000000e+00      0.000000      0.000000      0.000000       1.000000   \n",
       "25%    2.125000e+03      7.661527      1.000000      1.000000     716.000000   \n",
       "50%    2.600000e+03      7.863267      2.000000      1.000000     930.000000   \n",
       "75%    3.308000e+03      8.104099      2.000000      2.000000    1187.000000   \n",
       "max    2.100204e+08     19.162715      8.000000      6.500000  985024.000000   \n",
       "\n",
       "          pct_white     pct_black     pct_asian     pct_mover     pct_owner  \\\n",
       "count  82701.000000  82701.000000  82701.000000  82701.000000  82701.000000   \n",
       "mean       0.614164      0.051737      0.251347      0.238773      0.444723   \n",
       "std        0.222690      0.100005      0.199291      0.134969      0.267616   \n",
       "min        0.000000      0.000000      0.000000      0.000000      0.000000   \n",
       "25%        0.445419      0.000000      0.087121      0.130178      0.238063   \n",
       "50%        0.625000      0.014629      0.210407      0.231550      0.438642   \n",
       "75%        0.791878      0.050829      0.383133      0.333826      0.643371   \n",
       "max        1.000000      0.940909      0.950382      0.782759      1.000000   \n",
       "\n",
       "          income_med  age_of_head_med   avg_hh_size   cars_per_hh  \n",
       "count   82727.000000     82727.000000  82701.000000  82701.000000  \n",
       "mean    84269.025923        47.596722      2.392070      1.685853  \n",
       "std     35749.132951         7.469119      0.570091      0.477950  \n",
       "min         0.000000         0.000000      1.119074      0.084123  \n",
       "25%     58000.000000        42.000000      1.973294      1.422348  \n",
       "50%     79630.000000        48.000000      2.348315      1.764550  \n",
       "75%    105000.000000        53.000000      2.776371      2.007761  \n",
       "max    267500.000000        78.000000      5.241071      2.890467  "
      ]
     },
     "execution_count": 6,
     "metadata": {},
     "output_type": "execute_result"
    }
   ],
   "source": [
    "# create useful variables \n",
    "data = create_census_vars(data)\n",
    "\n",
    "# define some feature to include in the model. \n",
    "features_to_examine = ['rent','ln_rent', 'bedrooms','bathrooms','sqft','pct_white', 'pct_black','pct_asian','pct_mover','pct_owner','income_med','age_of_head_med','avg_hh_size','cars_per_hh']\n",
    "data[features_to_examine].describe()"
   ]
  },
  {
   "cell_type": "markdown",
   "metadata": {},
   "source": [
    "## Filter outliers\n"
   ]
  },
  {
   "cell_type": "code",
   "execution_count": 7,
   "metadata": {
    "collapsed": false
   },
   "outputs": [
    {
     "name": "stdout",
     "output_type": "stream",
     "text": [
      "Dropped 386 outside rent range $100-$10000\n",
      "Dropped 107 outside sqft range 10-5000 sqft. 82234 rows remaining\n"
     ]
    }
   ],
   "source": [
    "# I've already identified these ranges as good at exluding outliers\n",
    "rent_range=(100,10000)\n",
    "sqft_range=(10,5000)\n",
    "data = filter_outliers(data, rent_range=rent_range, sqft_range=sqft_range)"
   ]
  },
  {
   "cell_type": "code",
   "execution_count": 8,
   "metadata": {
    "collapsed": false
   },
   "outputs": [
    {
     "data": {
      "text/plain": [
       "(0, 10000)"
      ]
     },
     "execution_count": 8,
     "metadata": {},
     "output_type": "execute_result"
    },
    {
     "data": {
      "image/png": "[encoded data removed]",
      "text/plain": [
       "<matplotlib.figure.Figure at 0x10bea3160>"
      ]
     },
     "metadata": {},
     "output_type": "display_data"
    }
   ],
   "source": [
    "# Use this to explore outliers yourself. \n",
    "g=sns.distplot(data['rent'],  kde=False)\n",
    "g.set_xlim(0,10000)\n",
    "\n",
    "g=sns.distplot(data['sqft'], kde=False)\n",
    "g.set_xlim(0,10000)"
   ]
  },
  {
   "cell_type": "markdown",
   "metadata": {},
   "source": [
    "## Examine missing data"
   ]
  },
  {
   "cell_type": "code",
   "execution_count": 9,
   "metadata": {
    "collapsed": false
   },
   "outputs": [
    {
     "name": "stdout",
     "output_type": "stream",
     "text": [
      "Total rows: 82234\n",
      "Rows with any NA: 61242\n",
      "Rows with bathroom NA: 61225\n",
      "% rows missing bathroom col: 0.744521730671012\n"
     ]
    }
   ],
   "source": [
    "# examine NA's\n",
    "print('Total rows:',len(data))\n",
    "print('Rows with any NA:',len(data[pd.isnull(data).any(axis=1)]))\n",
    "print('Rows with bathroom NA:',len(data[pd.isnull(data.bathrooms)]))\n",
    "print('% rows missing bathroom col:',len(data[pd.isnull(data.bathrooms)])/len(data))"
   ]
  },
  {
   "cell_type": "markdown",
   "metadata": {},
   "source": [
    "uh oh, 74% are missing bathrooms feature. Might have to omit that one. Only 0.02% of rows have other missing values, so that should be ok. \n",
    "\n",
    "Bathrooms were added in Dec sometime. If bathrooms aren't in the listing, the listing is thrown"
   ]
  },
  {
   "cell_type": "code",
   "execution_count": 10,
   "metadata": {
    "collapsed": true
   },
   "outputs": [],
   "source": [
    "# Uncomment to drop NA's\n",
    "#data = data.dropna()\n",
    "#print('Dropped {} rows with NAs'.format(n0-len(data)))"
   ]
  },
  {
   "cell_type": "markdown",
   "metadata": {},
   "source": [
    "## Look at distributions\n",
    "\n",
    "Since rent has a more or less logarithmic distribution, use ln_rent instead"
   ]
  },
  {
   "cell_type": "code",
   "execution_count": 11,
   "metadata": {
    "collapsed": false
   },
   "outputs": [
    {
     "data": {
      "text/plain": [
       "<matplotlib.text.Text at 0x10c331f28>"
      ]
     },
     "execution_count": 11,
     "metadata": {},
     "output_type": "execute_result"
    },
    {
     "data": {
      "image/png": "[encoded data removed]",
      "text/plain": [
       "<matplotlib.figure.Figure at 0x103d29518>"
      ]
     },
     "metadata": {},
     "output_type": "display_data"
    }
   ],
   "source": [
    "p=sns.distplot(data.rent, kde=False)\n",
    "p.set_title('rent')"
   ]
  },
  {
   "cell_type": "code",
   "execution_count": 12,
   "metadata": {
    "collapsed": false
   },
   "outputs": [
    {
     "data": {
      "text/plain": [
       "<matplotlib.text.Text at 0x10c5a1be0>"
      ]
     },
     "execution_count": 12,
     "metadata": {},
     "output_type": "execute_result"
    },
    {
     "data": {
      "image/png": "[encoded data removed]",
      "text/plain": [
       "<matplotlib.figure.Figure at 0x10c0739e8>"
      ]
     },
     "metadata": {},
     "output_type": "display_data"
    }
   ],
   "source": [
    "p=sns.distplot(data.ln_rent, kde=False)\n",
    "p.set_title('ln rent')"
   ]
  },
  {
   "cell_type": "code",
   "execution_count": 13,
   "metadata": {
    "collapsed": false,
    "scrolled": true
   },
   "outputs": [
    {
     "data": {
      "image/png": "[encoded data removed]",
      "text/plain": [
       "<matplotlib.figure.Figure at 0x10ccd7ba8>"
      ]
     },
     "metadata": {},
     "output_type": "display_data"
    }
   ],
   "source": [
    "plot_rows = math.ceil(len(features_to_examine)/2)\n",
    "\n",
    "f, axes = plt.subplots(plot_rows,2, figsize=(8,15))\n",
    "sns.despine(left=True)\n",
    "\n",
    "for i,col in enumerate(features_to_examine):\n",
    "    row_position = math.floor(i/2)\n",
    "    col_position = i%2\n",
    "    data_notnull = data[pd.notnull(data[col])]  # exclude NA values from plot\n",
    "    sns.distplot(data_notnull[col], ax=axes[row_position, col_position],kde=False)\n",
    "    axes[row_position, col_position].set_title('{}'.format(col)) \n",
    "\n",
    "plt.tight_layout()\n",
    "plt.show()"
   ]
  },
  {
   "cell_type": "code",
   "execution_count": 14,
   "metadata": {
    "collapsed": false
   },
   "outputs": [
    {
     "data": {
      "text/plain": [
       "<matplotlib.text.Text at 0x10d33b588>"
      ]
     },
     "execution_count": 14,
     "metadata": {},
     "output_type": "execute_result"
    },
    {
     "data": {
      "image/png": "[encoded data removed]",
      "text/plain": [
       "<matplotlib.figure.Figure at 0x10c7a12b0>"
      ]
     },
     "metadata": {},
     "output_type": "display_data"
    }
   ],
   "source": [
    "data_notnull = data[pd.notnull(data['ln_income'])]\n",
    "p=sns.distplot(data_notnull['ln_income'],kde=False)\n",
    "p.set_title('ln med income')\n",
    "# ln med income is not more normal.. use med income instead. "
   ]
  },
  {
   "cell_type": "markdown",
   "metadata": {},
   "source": [
    "## look at correlations"
   ]
  },
  {
   "cell_type": "code",
   "execution_count": 15,
   "metadata": {
    "collapsed": false
   },
   "outputs": [
    {
     "data": {
      "image/png": "[encoded data removed]",
      "text/plain": [
       "<matplotlib.figure.Figure at 0x112debdd8>"
      ]
     },
     "metadata": {},
     "output_type": "display_data"
    }
   ],
   "source": [
    "# correlation heatmap\n",
    "corrmat=data[features_to_examine].corr()\n",
    "corrmat.head()\n",
    "\n",
    "f, ax = plt.subplots(figsize=(12, 9))\n",
    "sns.heatmap(corrmat, vmax=.8, square=True)\n",
    "\n",
    "f.tight_layout()"
   ]
  },
  {
   "cell_type": "markdown",
   "metadata": {},
   "source": [
    "The correlations appear as expected, except for cars_per_hh. Maybe this is because cars_per_hh is reflecting the size of the household more than income. Might want to try cars per adult instead.."
   ]
  },
  {
   "cell_type": "markdown",
   "metadata": {
    "collapsed": true
   },
   "source": [
    "## Try a linear model"
   ]
  },
  {
   "cell_type": "code",
   "execution_count": 16,
   "metadata": {
    "collapsed": true
   },
   "outputs": [],
   "source": [
    "from sklearn import linear_model, cross_validation"
   ]
  },
  {
   "cell_type": "code",
   "execution_count": 17,
   "metadata": {
    "collapsed": false
   },
   "outputs": [
    {
     "name": "stdout",
     "output_type": "stream",
     "text": [
      "Index(['listing_id', 'date', 'rent', 'bedrooms', 'bathrooms', 'sqft',\n",
      "       'rent_sqft', 'fips_block', 'state', 'region', 'mpo_id', 'lng', 'lat',\n",
      "       'cars_tot', 'children_tot', 'persons_tot', 'workers_tot',\n",
      "       'age_of_head_med', 'income_med', 'hhs_tot', 'race_of_head_1',\n",
      "       'race_of_head_2', 'race_of_head_3', 'race_of_head_4', 'race_of_head_5',\n",
      "       'race_of_head_6', 'race_of_head_7', 'race_of_head_8', 'race_of_head_9',\n",
      "       'recent_mover_0', 'recent_mover_1', 'tenure_1', 'tenure_2', 'pct_white',\n",
      "       'pct_black', 'pct_amer_native', 'pct_alaska_native', 'pct_any_native',\n",
      "       'pct_asian', 'pct_pacific', 'pct_other_race', 'pct_mixed_race',\n",
      "       'pct_mover', 'pct_owner', 'avg_hh_size', 'cars_per_hh', 'ln_rent',\n",
      "       'ln_income'],\n",
      "      dtype='object')\n",
      "82234\n"
     ]
    }
   ],
   "source": [
    "print(data.columns)\n",
    "#'pct_amer_native','pct_alaska_native',\n",
    "x_cols = ['bedrooms','bathrooms', 'sqft','age_of_head_med', 'income_med','pct_white', 'pct_black', 'pct_any_native', 'pct_asian', 'pct_pacific',\n",
    "       'pct_other_race', 'pct_mixed_race', 'pct_mover', 'pct_owner', 'avg_hh_size', 'cars_per_hh']\n",
    "y_col = 'ln_rent'\n",
    "print(len(data))"
   ]
  },
  {
   "cell_type": "code",
   "execution_count": 18,
   "metadata": {
    "collapsed": false
   },
   "outputs": [
    {
     "name": "stdout",
     "output_type": "stream",
     "text": [
      "using 21006 rows of 82234 total\n"
     ]
    }
   ],
   "source": [
    "# create training and testing datasets. \n",
    "\n",
    "# exclude missing values\n",
    "data_notnull= data[(pd.notnull(data[x_cols])).all(axis=1)]\n",
    "data_notnull= data_notnull[(pd.notnull(data_notnull[y_col]))]\n",
    "print('using {} rows of {} total'.format(len(data_notnull),len(data)))\n",
    "\n",
    "# this creates a test set that is 30% of total obs.  \n",
    "X_train, X_test, y_train, y_test = cross_validation.train_test_split(data_notnull[x_cols],data_notnull[y_col], test_size = .3, random_state = 201)"
   ]
  },
  {
   "cell_type": "code",
   "execution_count": 19,
   "metadata": {
    "collapsed": false
   },
   "outputs": [
    {
     "data": {
      "text/plain": [
       "LinearRegression(copy_X=True, fit_intercept=True, n_jobs=1, normalize=False)"
      ]
     },
     "execution_count": 19,
     "metadata": {},
     "output_type": "execute_result"
    }
   ],
   "source": [
    "regr = linear_model.LinearRegression()\n",
    "regr.fit(X_train, y_train)"
   ]
  },
  {
   "cell_type": "code",
   "execution_count": 20,
   "metadata": {
    "collapsed": false
   },
   "outputs": [
    {
     "name": "stdout",
     "output_type": "stream",
     "text": [
      "Intercept: 3.79537239111\n",
      "Coefficients:\n"
     ]
    },
    {
     "data": {
      "text/plain": [
       "bedrooms           0.080902\n",
       "bathrooms          0.084796\n",
       "sqft               0.000223\n",
       "age_of_head_med    0.000365\n",
       "income_med         0.000003\n",
       "pct_white          4.054088\n",
       "pct_black          3.653897\n",
       "pct_any_native    -2.392451\n",
       "pct_asian          4.183934\n",
       "pct_pacific        6.300127\n",
       "pct_other_race     4.882282\n",
       "pct_mixed_race     3.472586\n",
       "pct_mover         -0.154455\n",
       "pct_owner         -0.078191\n",
       "avg_hh_size       -0.060285\n",
       "cars_per_hh       -0.334151\n",
       "dtype: float64"
      ]
     },
     "execution_count": 20,
     "metadata": {},
     "output_type": "execute_result"
    }
   ],
   "source": [
    "# Intercept\n",
    "print('Intercept:', regr.intercept_)\n",
    "\n",
    "# The coefficients\n",
    "print('Coefficients:')\n",
    "pd.Series(regr.coef_, index=x_cols)"
   ]
  },
  {
   "cell_type": "code",
   "execution_count": 21,
   "metadata": {
    "collapsed": false
   },
   "outputs": [
    {
     "name": "stdout",
     "output_type": "stream",
     "text": [
      "Mean squared error: 0.06\n",
      "Variance score: 0.55\n"
     ]
    }
   ],
   "source": [
    "# See mean square error, using test data\n",
    "print(\"Mean squared error: %.2f\" % np.mean((regr.predict(X_test) - y_test) ** 2))\n",
    "\n",
    "# Explained variance score: 1 is perfect prediction\n",
    "print('Variance score: %.2f' % regr.score(X_test, y_test))"
   ]
  },
  {
   "cell_type": "code",
   "execution_count": 22,
   "metadata": {
    "collapsed": false
   },
   "outputs": [
    {
     "data": {
      "image/png": "[encoded data removed]",
      "text/plain": [
       "<matplotlib.figure.Figure at 0x11202b320>"
      ]
     },
     "metadata": {},
     "output_type": "display_data"
    }
   ],
   "source": [
    "# Plot predicted values vs. observed\n",
    "plt.scatter(regr.predict(X_train),y_train, color='blue',s=1, alpha=.5)\n",
    "plt.show()"
   ]
  },
  {
   "cell_type": "code",
   "execution_count": 23,
   "metadata": {
    "collapsed": false
   },
   "outputs": [
    {
     "data": {
      "image/png": "[encoded data removed]",
      "text/plain": [
       "<matplotlib.figure.Figure at 0x111a4fe48>"
      ]
     },
     "metadata": {},
     "output_type": "display_data"
    }
   ],
   "source": [
    "# plot residuals vs predicted values\n",
    "plt.scatter(regr.predict(X_train), regr.predict(X_train)- y_train, color='blue',s=1, alpha=.5)\n",
    "plt.scatter(regr.predict(X_test), regr.predict(X_test)- y_test, color='green',s=1, alpha=.5)\n",
    "plt.show()"
   ]
  },
  {
   "cell_type": "markdown",
   "metadata": {},
   "source": [
    "The residuals look pretty normally distributed.\n",
    "\n",
    "I wonder if inclusion of all these race variables is leading to overfitting. If so, we'd have small error on training set and large error on test set. "
   ]
  },
  {
   "cell_type": "code",
   "execution_count": 24,
   "metadata": {
    "collapsed": false
   },
   "outputs": [
    {
     "name": "stdout",
     "output_type": "stream",
     "text": [
      "Training set. Mean squared error: 0.06211 | Variance score: 0.54432\n",
      "Test set. Mean squared error: 0.06038 | Variance score: 0.54917\n"
     ]
    }
   ],
   "source": [
    "print(\"Training set. Mean squared error: %.5f\" % np.mean((regr.predict(X_train) - y_train) ** 2), '| Variance score: %.5f' % regr.score(X_train, y_train))\n",
    "print(\"Test set. Mean squared error: %.5f\" % np.mean((regr.predict(X_test) - y_test) ** 2), '| Variance score: %.5f' % regr.score(X_test, y_test))"
   ]
  },
  {
   "cell_type": "markdown",
   "metadata": {},
   "source": [
    "## Try Ridge Regression (linear regression with regularization )\n",
    "Since the training error and test error are about the same, and since we're using few features, overfitting probably isn't a problem. If it were a problem, we would want to try a regression with regularization. \n",
    "Let's try it just for the sake of demonstration. "
   ]
  },
  {
   "cell_type": "code",
   "execution_count": 24,
   "metadata": {
    "collapsed": true
   },
   "outputs": [],
   "source": [
    "from sklearn.linear_model import Ridge"
   ]
  },
  {
   "cell_type": "code",
   "execution_count": 25,
   "metadata": {
    "collapsed": false
   },
   "outputs": [
    {
     "name": "stdout",
     "output_type": "stream",
     "text": [
      "\n",
      " alpha: 10\n",
      "Mean squared error: 0.06101 | Variance score: 0.54446\n",
      "\n",
      " alpha: 1\n",
      "Mean squared error: 0.06070 | Variance score: 0.54678\n",
      "\n",
      " alpha: 0.1\n",
      "Mean squared error: 0.06040 | Variance score: 0.54897\n",
      "\n",
      " alpha: 0.01\n",
      "Mean squared error: 0.06035 | Variance score: 0.54936\n",
      "\n",
      " alpha: 0.001\n",
      "Mean squared error: 0.06037 | Variance score: 0.54920\n",
      "\n",
      " alpha: 1e-05\n",
      "Mean squared error: 0.06038 | Variance score: 0.54917\n"
     ]
    }
   ],
   "source": [
    "# try a range of different regularization terms.\n",
    "for a in [10,1,0.1,.01,.001,.00001]:\n",
    "    ridgereg = Ridge(alpha=a)\n",
    "    ridgereg.fit(X_train, y_train)\n",
    "    \n",
    "    print('\\n alpha:',a)\n",
    "    print(\"Mean squared error: %.5f\" % np.mean((ridgereg.predict(X_test) - y_test) ** 2),'| Variance score: %.5f' % ridgereg.score(X_test, y_test))"
   ]
  },
  {
   "cell_type": "code",
   "execution_count": 26,
   "metadata": {
    "collapsed": false
   },
   "outputs": [
    {
     "name": "stdout",
     "output_type": "stream",
     "text": [
      "Intercept: 3.79611296526\n",
      "Coefficients:\n"
     ]
    },
    {
     "data": {
      "text/plain": [
       "bedrooms           0.080902\n",
       "bathrooms          0.084796\n",
       "sqft               0.000223\n",
       "age_of_head_med    0.000365\n",
       "income_med         0.000003\n",
       "pct_white          4.053343\n",
       "pct_black          3.653153\n",
       "pct_any_native    -2.392905\n",
       "pct_asian          4.183189\n",
       "pct_pacific        6.299132\n",
       "pct_other_race     4.881522\n",
       "pct_mixed_race     3.471789\n",
       "pct_mover         -0.154453\n",
       "pct_owner         -0.078191\n",
       "avg_hh_size       -0.060284\n",
       "cars_per_hh       -0.334152\n",
       "dtype: float64"
      ]
     },
     "execution_count": 26,
     "metadata": {},
     "output_type": "execute_result"
    }
   ],
   "source": [
    "\n",
    "# Intercept\n",
    "print('Intercept:', ridgereg.intercept_)\n",
    "\n",
    "# The coefficients\n",
    "print('Coefficients:')\n",
    "pd.Series(ridgereg.coef_, index=x_cols)"
   ]
  },
  {
   "cell_type": "markdown",
   "metadata": {},
   "source": [
    "As expected, Ridge regression doesn't help much. \n",
    "The best way to improve the model at this point is probably to add more features. "
   ]
  },
  {
   "cell_type": "markdown",
   "metadata": {},
   "source": [
    "## ways to improve the model:\n",
    "- add features. E.g., dummy vars for MPO, population density. Maybe date?\n",
    "- at least filter for date\n",
    "- other census variables (e.g., ACS building chars)\n",
    "- try robust regression\n",
    "- try RF, etc.\n",
    "\n"
   ]
  },
  {
   "cell_type": "code",
   "execution_count": null,
   "metadata": {
    "collapsed": true
   },
   "outputs": [],
   "source": []
  }
 ],
 "metadata": {
  "kernelspec": {
   "display_name": "Python 3",
   "language": "python",
   "name": "python3"
  },
  "language_info": {
   "codemirror_mode": {
    "name": "ipython",
    "version": 3
   },
   "file_extension": ".py",
   "mimetype": "text/x-python",
   "name": "python",
   "nbconvert_exporter": "python",
   "pygments_lexer": "ipython3",
   "version": "3.5.2"
  }
 },
 "nbformat": 4,
 "nbformat_minor": 0
}
