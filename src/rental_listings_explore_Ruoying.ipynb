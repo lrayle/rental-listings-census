{
 "cells": [
  {
   "cell_type": "code",
   "execution_count": 84,
   "metadata": {
    "collapsed": false
   },
   "outputs": [],
   "source": [
    "import pandas as pd\n",
    "import paramiko\n",
    "import os\n",
    "import numpy as np\n",
    "import math\n",
    "import pylab\n",
    "from math import sqrt\n",
    "from sklearn.metrics import mean_squared_error"
   ]
  },
  {
   "cell_type": "markdown",
   "metadata": {},
   "source": [
    "## Remote connection parameters"
   ]
  },
  {
   "cell_type": "code",
   "execution_count": 4,
   "metadata": {
    "collapsed": false
   },
   "outputs": [
    {
     "ename": "IOError",
     "evalue": "[Errno 13] Permission denied: 'C:/Users/Ruoying/.ssh'",
     "output_type": "error",
     "traceback": [
      "\u001b[1;31m---------------------------------------------------------------------------\u001b[0m",
      "\u001b[1;31mIOError\u001b[0m                                   Traceback (most recent call last)",
      "\u001b[1;32m<ipython-input-4-49579fcafc92>\u001b[0m in \u001b[0;36m<module>\u001b[1;34m()\u001b[0m\n\u001b[0;32m     11\u001b[0m \u001b[1;31m# estbalish SSH connection\u001b[0m\u001b[1;33m\u001b[0m\u001b[1;33m\u001b[0m\u001b[0m\n\u001b[0;32m     12\u001b[0m \u001b[0mssh\u001b[0m \u001b[1;33m=\u001b[0m \u001b[0mparamiko\u001b[0m\u001b[1;33m.\u001b[0m\u001b[0mSSHClient\u001b[0m\u001b[1;33m(\u001b[0m\u001b[1;33m)\u001b[0m\u001b[1;33m\u001b[0m\u001b[0m\n\u001b[1;32m---> 13\u001b[1;33m \u001b[0mssh\u001b[0m\u001b[1;33m.\u001b[0m\u001b[0mload_host_keys\u001b[0m\u001b[1;33m(\u001b[0m\u001b[0mlocal_key_dir\u001b[0m\u001b[1;33m)\u001b[0m\u001b[1;33m\u001b[0m\u001b[0m\n\u001b[0m\u001b[0;32m     14\u001b[0m \u001b[0mssh\u001b[0m\u001b[1;33m.\u001b[0m\u001b[0mset_missing_host_key_policy\u001b[0m\u001b[1;33m(\u001b[0m\u001b[0mparamiko\u001b[0m\u001b[1;33m.\u001b[0m\u001b[0mAutoAddPolicy\u001b[0m\u001b[1;33m(\u001b[0m\u001b[1;33m)\u001b[0m\u001b[1;33m)\u001b[0m\u001b[1;33m\u001b[0m\u001b[0m\n\u001b[0;32m     15\u001b[0m \u001b[0mssh\u001b[0m\u001b[1;33m.\u001b[0m\u001b[0mconnect\u001b[0m\u001b[1;33m(\u001b[0m\u001b[0mhostname\u001b[0m\u001b[1;33m,\u001b[0m\u001b[0musername\u001b[0m\u001b[1;33m=\u001b[0m\u001b[0musername\u001b[0m\u001b[1;33m,\u001b[0m \u001b[0mpassword\u001b[0m\u001b[1;33m=\u001b[0m\u001b[0mpassword\u001b[0m\u001b[1;33m)\u001b[0m\u001b[1;33m\u001b[0m\u001b[0m\n",
      "\u001b[1;32mC:\\Anaconda\\lib\\site-packages\\paramiko\\client.pyc\u001b[0m in \u001b[0;36mload_host_keys\u001b[1;34m(self, filename)\u001b[0m\n\u001b[0;32m    122\u001b[0m         \"\"\"\n\u001b[0;32m    123\u001b[0m         \u001b[0mself\u001b[0m\u001b[1;33m.\u001b[0m\u001b[0m_host_keys_filename\u001b[0m \u001b[1;33m=\u001b[0m \u001b[0mfilename\u001b[0m\u001b[1;33m\u001b[0m\u001b[0m\n\u001b[1;32m--> 124\u001b[1;33m         \u001b[0mself\u001b[0m\u001b[1;33m.\u001b[0m\u001b[0m_host_keys\u001b[0m\u001b[1;33m.\u001b[0m\u001b[0mload\u001b[0m\u001b[1;33m(\u001b[0m\u001b[0mfilename\u001b[0m\u001b[1;33m)\u001b[0m\u001b[1;33m\u001b[0m\u001b[0m\n\u001b[0m\u001b[0;32m    125\u001b[0m \u001b[1;33m\u001b[0m\u001b[0m\n\u001b[0;32m    126\u001b[0m     \u001b[1;32mdef\u001b[0m \u001b[0msave_host_keys\u001b[0m\u001b[1;33m(\u001b[0m\u001b[0mself\u001b[0m\u001b[1;33m,\u001b[0m \u001b[0mfilename\u001b[0m\u001b[1;33m)\u001b[0m\u001b[1;33m:\u001b[0m\u001b[1;33m\u001b[0m\u001b[0m\n",
      "\u001b[1;32mC:\\Anaconda\\lib\\site-packages\\paramiko\\hostkeys.pyc\u001b[0m in \u001b[0;36mload\u001b[1;34m(self, filename)\u001b[0m\n\u001b[0;32m     93\u001b[0m         \u001b[1;33m:\u001b[0m\u001b[0mraises\u001b[0m \u001b[0mIOError\u001b[0m\u001b[1;33m:\u001b[0m \u001b[1;32mif\u001b[0m \u001b[0mthere\u001b[0m \u001b[0mwas\u001b[0m \u001b[0man\u001b[0m \u001b[0merror\u001b[0m \u001b[0mreading\u001b[0m \u001b[0mthe\u001b[0m \u001b[0mfile\u001b[0m\u001b[1;33m\u001b[0m\u001b[0m\n\u001b[0;32m     94\u001b[0m         \"\"\"\n\u001b[1;32m---> 95\u001b[1;33m         \u001b[1;32mwith\u001b[0m \u001b[0mopen\u001b[0m\u001b[1;33m(\u001b[0m\u001b[0mfilename\u001b[0m\u001b[1;33m,\u001b[0m \u001b[1;34m'r'\u001b[0m\u001b[1;33m)\u001b[0m \u001b[1;32mas\u001b[0m \u001b[0mf\u001b[0m\u001b[1;33m:\u001b[0m\u001b[1;33m\u001b[0m\u001b[0m\n\u001b[0m\u001b[0;32m     96\u001b[0m             \u001b[1;32mfor\u001b[0m \u001b[0mlineno\u001b[0m\u001b[1;33m,\u001b[0m \u001b[0mline\u001b[0m \u001b[1;32min\u001b[0m \u001b[0menumerate\u001b[0m\u001b[1;33m(\u001b[0m\u001b[0mf\u001b[0m\u001b[1;33m,\u001b[0m \u001b[1;36m1\u001b[0m\u001b[1;33m)\u001b[0m\u001b[1;33m:\u001b[0m\u001b[1;33m\u001b[0m\u001b[0m\n\u001b[0;32m     97\u001b[0m                 \u001b[0mline\u001b[0m \u001b[1;33m=\u001b[0m \u001b[0mline\u001b[0m\u001b[1;33m.\u001b[0m\u001b[0mstrip\u001b[0m\u001b[1;33m(\u001b[0m\u001b[1;33m)\u001b[0m\u001b[1;33m\u001b[0m\u001b[0m\n",
      "\u001b[1;31mIOError\u001b[0m: [Errno 13] Permission denied: 'C:/Users/Ruoying/.ssh'"
     ]
    }
   ],
   "source": [
    "hostname = \"169.229.154.119\"\n",
    "username = \"cy290e\"\n",
    "password = \"\"  # local password \n",
    "#local_key_dir = '~/.ssh/known_hosts'\n",
    "local_key_dir = 'C:/Users/Ruoying/.ssh'\n",
    "\"\"\"SSH connection parameters\"\"\"\n",
    "\n",
    "listings_dir = 'craigslist_census_02202017/'\n",
    "\"\"\"Remote directory for results\"\"\"\n",
    "\n",
    "# estbalish SSH connection\n",
    "ssh = paramiko.SSHClient() \n",
    "ssh.load_host_keys(local_key_dir)\n",
    "ssh.set_missing_host_key_policy(paramiko.AutoAddPolicy())\n",
    "ssh.connect(hostname,username=username, password=password)\n",
    "sftp = ssh.open_sftp()"
   ]
  },
  {
   "cell_type": "code",
   "execution_count": 41,
   "metadata": {
    "collapsed": true
   },
   "outputs": [],
   "source": [
    "import pysftp"
   ]
  },
  {
   "cell_type": "code",
   "execution_count": 42,
   "metadata": {
    "collapsed": false
   },
   "outputs": [
    {
     "ename": "BadAuthenticationType",
     "evalue": "('Bad authentication type', [u'publickey']) (allowed_types=[u'publickey'])",
     "output_type": "error",
     "traceback": [
      "\u001b[1;31m---------------------------------------------------------------------------\u001b[0m",
      "\u001b[1;31mBadAuthenticationType\u001b[0m                     Traceback (most recent call last)",
      "\u001b[1;32m<ipython-input-42-7eb43a73f19c>\u001b[0m in \u001b[0;36m<module>\u001b[1;34m()\u001b[0m\n\u001b[1;32m----> 1\u001b[1;33m \u001b[0msrv\u001b[0m \u001b[1;33m=\u001b[0m \u001b[0mpysftp\u001b[0m\u001b[1;33m.\u001b[0m\u001b[0mConnection\u001b[0m\u001b[1;33m(\u001b[0m\u001b[0mhost\u001b[0m\u001b[1;33m=\u001b[0m\u001b[1;34m\"169.229.154.119\"\u001b[0m\u001b[1;33m,\u001b[0m \u001b[0musername\u001b[0m\u001b[1;33m=\u001b[0m\u001b[1;34m\"cy290e\"\u001b[0m\u001b[1;33m,\u001b[0m \u001b[0mpassword\u001b[0m\u001b[1;33m=\u001b[0m\u001b[1;34m\"\"\u001b[0m\u001b[1;33m)\u001b[0m\u001b[1;33m\u001b[0m\u001b[0m\n\u001b[0m",
      "\u001b[1;32mC:\\Anaconda\\lib\\site-packages\\pysftp\\__init__.pyc\u001b[0m in \u001b[0;36m__init__\u001b[1;34m(self, host, username, private_key, password, port, private_key_pass, ciphers, log, cnopts, default_path)\u001b[0m\n\u001b[0;32m    141\u001b[0m         \u001b[0mself\u001b[0m\u001b[1;33m.\u001b[0m\u001b[0m_transport\u001b[0m\u001b[1;33m.\u001b[0m\u001b[0muse_compression\u001b[0m\u001b[1;33m(\u001b[0m\u001b[0mself\u001b[0m\u001b[1;33m.\u001b[0m\u001b[0m_cnopts\u001b[0m\u001b[1;33m.\u001b[0m\u001b[0mcompression\u001b[0m\u001b[1;33m)\u001b[0m\u001b[1;33m\u001b[0m\u001b[0m\n\u001b[0;32m    142\u001b[0m         \u001b[0mself\u001b[0m\u001b[1;33m.\u001b[0m\u001b[0m_set_authentication\u001b[0m\u001b[1;33m(\u001b[0m\u001b[0mpassword\u001b[0m\u001b[1;33m,\u001b[0m \u001b[0mprivate_key\u001b[0m\u001b[1;33m,\u001b[0m \u001b[0mprivate_key_pass\u001b[0m\u001b[1;33m)\u001b[0m\u001b[1;33m\u001b[0m\u001b[0m\n\u001b[1;32m--> 143\u001b[1;33m         \u001b[0mself\u001b[0m\u001b[1;33m.\u001b[0m\u001b[0m_transport\u001b[0m\u001b[1;33m.\u001b[0m\u001b[0mconnect\u001b[0m\u001b[1;33m(\u001b[0m\u001b[1;33m**\u001b[0m\u001b[0mself\u001b[0m\u001b[1;33m.\u001b[0m\u001b[0m_tconnect\u001b[0m\u001b[1;33m)\u001b[0m\u001b[1;33m\u001b[0m\u001b[0m\n\u001b[0m\u001b[0;32m    144\u001b[0m \u001b[1;33m\u001b[0m\u001b[0m\n\u001b[0;32m    145\u001b[0m     \u001b[1;32mdef\u001b[0m \u001b[0m_set_authentication\u001b[0m\u001b[1;33m(\u001b[0m\u001b[0mself\u001b[0m\u001b[1;33m,\u001b[0m \u001b[0mpassword\u001b[0m\u001b[1;33m,\u001b[0m \u001b[0mprivate_key\u001b[0m\u001b[1;33m,\u001b[0m \u001b[0mprivate_key_pass\u001b[0m\u001b[1;33m)\u001b[0m\u001b[1;33m:\u001b[0m\u001b[1;33m\u001b[0m\u001b[0m\n",
      "\u001b[1;32mC:\\Anaconda\\lib\\site-packages\\paramiko\\transport.pyc\u001b[0m in \u001b[0;36mconnect\u001b[1;34m(self, hostkey, username, password, pkey, gss_host, gss_auth, gss_kex, gss_deleg_creds)\u001b[0m\n\u001b[0;32m   1110\u001b[0m             \u001b[1;32melse\u001b[0m\u001b[1;33m:\u001b[0m\u001b[1;33m\u001b[0m\u001b[0m\n\u001b[0;32m   1111\u001b[0m                 \u001b[0mself\u001b[0m\u001b[1;33m.\u001b[0m\u001b[0m_log\u001b[0m\u001b[1;33m(\u001b[0m\u001b[0mDEBUG\u001b[0m\u001b[1;33m,\u001b[0m \u001b[1;34m'Attempting password auth...'\u001b[0m\u001b[1;33m)\u001b[0m\u001b[1;33m\u001b[0m\u001b[0m\n\u001b[1;32m-> 1112\u001b[1;33m                 \u001b[0mself\u001b[0m\u001b[1;33m.\u001b[0m\u001b[0mauth_password\u001b[0m\u001b[1;33m(\u001b[0m\u001b[0musername\u001b[0m\u001b[1;33m,\u001b[0m \u001b[0mpassword\u001b[0m\u001b[1;33m)\u001b[0m\u001b[1;33m\u001b[0m\u001b[0m\n\u001b[0m\u001b[0;32m   1113\u001b[0m \u001b[1;33m\u001b[0m\u001b[0m\n\u001b[0;32m   1114\u001b[0m         \u001b[1;32mreturn\u001b[0m\u001b[1;33m\u001b[0m\u001b[0m\n",
      "\u001b[1;32mC:\\Anaconda\\lib\\site-packages\\paramiko\\transport.pyc\u001b[0m in \u001b[0;36mauth_password\u001b[1;34m(self, username, password, event, fallback)\u001b[0m\n\u001b[0;32m   1274\u001b[0m             \u001b[1;32mreturn\u001b[0m \u001b[1;33m[\u001b[0m\u001b[1;33m]\u001b[0m\u001b[1;33m\u001b[0m\u001b[0m\n\u001b[0;32m   1275\u001b[0m         \u001b[1;32mtry\u001b[0m\u001b[1;33m:\u001b[0m\u001b[1;33m\u001b[0m\u001b[0m\n\u001b[1;32m-> 1276\u001b[1;33m             \u001b[1;32mreturn\u001b[0m \u001b[0mself\u001b[0m\u001b[1;33m.\u001b[0m\u001b[0mauth_handler\u001b[0m\u001b[1;33m.\u001b[0m\u001b[0mwait_for_response\u001b[0m\u001b[1;33m(\u001b[0m\u001b[0mmy_event\u001b[0m\u001b[1;33m)\u001b[0m\u001b[1;33m\u001b[0m\u001b[0m\n\u001b[0m\u001b[0;32m   1277\u001b[0m         \u001b[1;32mexcept\u001b[0m \u001b[0mBadAuthenticationType\u001b[0m \u001b[1;32mas\u001b[0m \u001b[0me\u001b[0m\u001b[1;33m:\u001b[0m\u001b[1;33m\u001b[0m\u001b[0m\n\u001b[0;32m   1278\u001b[0m             \u001b[1;31m# if password auth isn't allowed, but keyboard-interactive *is*, try to fudge it\u001b[0m\u001b[1;33m\u001b[0m\u001b[1;33m\u001b[0m\u001b[0m\n",
      "\u001b[1;32mC:\\Anaconda\\lib\\site-packages\\paramiko\\auth_handler.pyc\u001b[0m in \u001b[0;36mwait_for_response\u001b[1;34m(self, event)\u001b[0m\n\u001b[0;32m    206\u001b[0m             \u001b[1;32mif\u001b[0m \u001b[0missubclass\u001b[0m\u001b[1;33m(\u001b[0m\u001b[0me\u001b[0m\u001b[1;33m.\u001b[0m\u001b[0m__class__\u001b[0m\u001b[1;33m,\u001b[0m \u001b[0mPartialAuthentication\u001b[0m\u001b[1;33m)\u001b[0m\u001b[1;33m:\u001b[0m\u001b[1;33m\u001b[0m\u001b[0m\n\u001b[0;32m    207\u001b[0m                 \u001b[1;32mreturn\u001b[0m \u001b[0me\u001b[0m\u001b[1;33m.\u001b[0m\u001b[0mallowed_types\u001b[0m\u001b[1;33m\u001b[0m\u001b[0m\n\u001b[1;32m--> 208\u001b[1;33m             \u001b[1;32mraise\u001b[0m \u001b[0me\u001b[0m\u001b[1;33m\u001b[0m\u001b[0m\n\u001b[0m\u001b[0;32m    209\u001b[0m         \u001b[1;32mreturn\u001b[0m \u001b[1;33m[\u001b[0m\u001b[1;33m]\u001b[0m\u001b[1;33m\u001b[0m\u001b[0m\n\u001b[0;32m    210\u001b[0m \u001b[1;33m\u001b[0m\u001b[0m\n",
      "\u001b[1;31mBadAuthenticationType\u001b[0m: ('Bad authentication type', [u'publickey']) (allowed_types=[u'publickey'])"
     ]
    }
   ],
   "source": [
    "srv = pysftp.Connection(host=\"169.229.154.119\", username=\"cy290e\", password=\"\")"
   ]
  },
  {
   "cell_type": "code",
   "execution_count": 26,
   "metadata": {
    "collapsed": false
   },
   "outputs": [],
   "source": [
    "#https://www.example-code.com/python/sftp_use_ppk_putty_private_key.asp\n",
    "import sys\n",
    "import chilkat\n",
    "\n",
    "sftp = chilkat.CkSFtp()\n",
    "success = sftp.UnlockComponent(\"Anything for 30-day trial.\")\n",
    "if (success != True):\n",
    "    print(sftp.lastErrorText())\n",
    "    sys.exit()\n",
    "\n",
    "    #  Load a .ppk PuTTY private key.\n",
    "puttyKey = chilkat.CkSshKey()\n",
    "ppkText = puttyKey.loadText(\"C:/Users/Ruoying/.ssh/putty_rsa_private.ppk\")\n",
    "\n",
    "puttyKey.put_Password(\"\")\n",
    "success = puttyKey.FromPuttyPrivateKey(ppkText)\n",
    "if (success != True):\n",
    "    print(puttyKey.lastErrorText())\n",
    "    sys.exit()\n",
    "\n",
    "sshHostname = \"169.229.154.119\"\n",
    "sshPort = 22\n",
    "success = sftp.Connect(sshHostname,sshPort)\n",
    "if (success != True):\n",
    "    print(sftp.lastErrorText())\n",
    "    sys.exit()\n",
    "    \n",
    "success = sftp.AuthenticatePk(\"cy290e\",puttyKey)\n",
    "if (success != True):\n",
    "    print(sftp.lastErrorText())\n",
    "    sys.exit()"
   ]
  },
  {
   "cell_type": "code",
   "execution_count": 17,
   "metadata": {
    "collapsed": true
   },
   "outputs": [],
   "source": [
    "#https://www.example-code.com/python/sftp_use_ppk_putty_private_key.asp\n",
    "import sys\n",
    "import chilkat\n",
    "\n",
    "ssh = chilkat.CkSsh()\n",
    "success = ssh.UnlockComponent(\"Anything for 30-day trial.\")\n",
    "if (success != True):\n",
    "    print(ssh.lastErrorText())\n",
    "    sys.exit()\n",
    "\n",
    "    #  Load a .ppk PuTTY private key.\n",
    "puttyKey = chilkat.CkSshKey()\n",
    "ppkText = puttyKey.loadText(\"C:/Users/Ruoying/.ssh/putty_rsa_private.ppk\")\n",
    "\n",
    "puttyKey.put_Password(\"\")\n",
    "success = puttyKey.FromPuttyPrivateKey(ppkText)\n",
    "if (success != True):\n",
    "    print(puttyKey.lastErrorText())\n",
    "    sys.exit()\n",
    "\n",
    "sshHostname = \"169.229.154.119\"\n",
    "sshPort = 22\n",
    "success = ssh.Connect(sshHostname,sshPort)\n",
    "if (success != True):\n",
    "    print(ssh.lastErrorText())\n",
    "    sys.exit()\n",
    "    \n",
    "success = ssh.AuthenticatePk(\"cy290e\",puttyKey)\n",
    "if (success != True):\n",
    "    print(ssh.lastErrorText())\n",
    "    sys.exit()"
   ]
  },
  {
   "cell_type": "code",
   "execution_count": 31,
   "metadata": {
    "collapsed": true
   },
   "outputs": [],
   "source": [
    "# open a file on the server\n",
    "# After authenticating, the SFTP subsystem must be initialized:\n",
    "#https://www.example-code.com/python/sftp_downloadFile.asp\n",
    "\n",
    "success = sftp.InitializeSftp()\n",
    "if (success != True):\n",
    "    print(sftp.lastErrorText())\n",
    "    sys.exit()"
   ]
  },
  {
   "cell_type": "code",
   "execution_count": 34,
   "metadata": {
    "collapsed": false
   },
   "outputs": [],
   "source": [
    "newfile = sftp.openFile(\"craigslist_census_02202017\\cl_census_CA.csv\",\"readOnly\",\"openExisting\")\n",
    "#newfile = sftp.openFile(\"test.py\",\"readOnly\",\"openExisting\")"
   ]
  },
  {
   "cell_type": "code",
   "execution_count": 37,
   "metadata": {
    "collapsed": false
   },
   "outputs": [],
   "source": [
    "success=sftp.DownloadFile(newfile,\"C:/Users/Ruoying/notebook/cp290/local_data/cl_census_CA.csv\")\n"
   ]
  },
  {
   "cell_type": "code",
   "execution_count": 40,
   "metadata": {
    "collapsed": false
   },
   "outputs": [
    {
     "data": {
      "text/plain": [
       "8"
      ]
     },
     "execution_count": 40,
     "metadata": {},
     "output_type": "execute_result"
    }
   ],
   "source": [
    "len(newfile)"
   ]
  },
  {
   "cell_type": "code",
   "execution_count": 7,
   "metadata": {
    "collapsed": true
   },
   "outputs": [],
   "source": [
    "def read_listings_file(fname):\n",
    "    \"\"\"Read csv file via SFTP and return as dataframe.\"\"\"\n",
    "    with sftp.open(listings_dir+fname) as f:\n",
    "        df = pd.read_csv(f, delimiter=',', dtype={'date':str,'fips_block':str,'state':str,'mpo_id':str})\n",
    "        # TODO: parse dates. \n",
    "    return df\n",
    "\n",
    "def filter_outliers(df, rent_range=(100,10000),sqft_range=(10,5000)):\n",
    "    \"\"\"Drop outliers from listings dataframe. For now, only need to filter out rent and sq ft. \n",
    "    Args: \n",
    "        df: Dataframe with listings. Cols names include ['rent','sqft']\n",
    "        rent_range (tuple): min and max rent\n",
    "        sqft_range (tuple): min and max sqft\n",
    "    Returns: \n",
    "        DataFrame: listings data without outliers. \n",
    "    \"\"\"\n",
    "    n0=len(df)\n",
    "    df=df[(df.rent>=rent_range[0])&(df.rent<rent_range[1])]\n",
    "    n1=len(df)\n",
    "    print('Dropped {} outside rent range ${}-${}'.format(n0-n1,rent_range[0],rent_range[1]))\n",
    "    df=df[(df.sqft>=sqft_range[0])&(df.sqft<sqft_range[1])]\n",
    "    n2=len(df)\n",
    "    print('Dropped {} outside sqft range {}-{} sqft. {} rows remaining'.format(n1-n2,sqft_range[0],sqft_range[1],len(df)))\n",
    "    return(df)"
   ]
  },
  {
   "cell_type": "code",
   "execution_count": 14,
   "metadata": {
    "collapsed": true
   },
   "outputs": [],
   "source": [
    "def filter_outliers(df, rent_range=(100,10000),sqft_range=(10,5000)):\n",
    "    \"\"\"Drop outliers from listings dataframe. For now, only need to filter out rent and sq ft. \n",
    "    Args: \n",
    "        df: Dataframe with listings. Cols names include ['rent','sqft']\n",
    "        rent_range (tuple): min and max rent\n",
    "        sqft_range (tuple): min and max sqft\n",
    "    Returns: \n",
    "        DataFrame: listings data without outliers. \n",
    "    \"\"\"\n",
    "    n0=len(df)\n",
    "    df=df[(df.rent>=rent_range[0])&(df.rent<rent_range[1])]\n",
    "    n1=len(df)\n",
    "    print('Dropped {} outside rent range ${}-${}'.format(n0-n1,rent_range[0],rent_range[1]))\n",
    "    df=df[(df.sqft>=sqft_range[0])&(df.sqft<sqft_range[1])]\n",
    "    n2=len(df)\n",
    "    print('Dropped {} outside sqft range {}-{} sqft. {} rows remaining'.format(n1-n2,sqft_range[0],sqft_range[1],len(df)))\n",
    "    return(df)"
   ]
  },
  {
   "cell_type": "markdown",
   "metadata": {},
   "source": [
    "## Load data"
   ]
  },
  {
   "cell_type": "code",
   "execution_count": 10,
   "metadata": {
    "collapsed": false
   },
   "outputs": [
    {
     "ename": "AttributeError",
     "evalue": "type object 'object' has no attribute '__getattr__'",
     "output_type": "error",
     "traceback": [
      "\u001b[1;31m---------------------------------------------------------------------------\u001b[0m",
      "\u001b[1;31mAttributeError\u001b[0m                            Traceback (most recent call last)",
      "\u001b[1;32m<ipython-input-10-259ec032052a>\u001b[0m in \u001b[0;36m<module>\u001b[1;34m()\u001b[0m\n\u001b[0;32m      3\u001b[0m \u001b[0mstate\u001b[0m\u001b[1;33m=\u001b[0m\u001b[1;34m'NY'\u001b[0m\u001b[1;33m\u001b[0m\u001b[0m\n\u001b[0;32m      4\u001b[0m \u001b[0minfile\u001b[0m\u001b[1;33m=\u001b[0m\u001b[1;34m'cl_census_{}.csv'\u001b[0m\u001b[1;33m.\u001b[0m\u001b[0mformat\u001b[0m\u001b[1;33m(\u001b[0m\u001b[0mstate\u001b[0m\u001b[1;33m)\u001b[0m\u001b[1;33m\u001b[0m\u001b[0m\n\u001b[1;32m----> 5\u001b[1;33m \u001b[0mdf\u001b[0m \u001b[1;33m=\u001b[0m \u001b[0mread_listings_file\u001b[0m\u001b[1;33m(\u001b[0m\u001b[0minfile\u001b[0m\u001b[1;33m)\u001b[0m\u001b[1;33m\u001b[0m\u001b[0m\n\u001b[0m\u001b[0;32m      6\u001b[0m \u001b[0mdf\u001b[0m\u001b[1;33m.\u001b[0m\u001b[0mhead\u001b[0m\u001b[1;33m(\u001b[0m\u001b[1;33m)\u001b[0m\u001b[1;33m\u001b[0m\u001b[0m\n",
      "\u001b[1;32m<ipython-input-7-d71d48036a4d>\u001b[0m in \u001b[0;36mread_listings_file\u001b[1;34m(fname)\u001b[0m\n\u001b[0;32m      1\u001b[0m \u001b[1;32mdef\u001b[0m \u001b[0mread_listings_file\u001b[0m\u001b[1;33m(\u001b[0m\u001b[0mfname\u001b[0m\u001b[1;33m)\u001b[0m\u001b[1;33m:\u001b[0m\u001b[1;33m\u001b[0m\u001b[0m\n\u001b[0;32m      2\u001b[0m     \u001b[1;34m\"\"\"Read csv file via SFTP and return as dataframe.\"\"\"\u001b[0m\u001b[1;33m\u001b[0m\u001b[0m\n\u001b[1;32m----> 3\u001b[1;33m     \u001b[1;32mwith\u001b[0m \u001b[0msftp\u001b[0m\u001b[1;33m.\u001b[0m\u001b[0mopen\u001b[0m\u001b[1;33m(\u001b[0m\u001b[0mlistings_dir\u001b[0m\u001b[1;33m+\u001b[0m\u001b[0mfname\u001b[0m\u001b[1;33m)\u001b[0m \u001b[1;32mas\u001b[0m \u001b[0mf\u001b[0m\u001b[1;33m:\u001b[0m\u001b[1;33m\u001b[0m\u001b[0m\n\u001b[0m\u001b[0;32m      4\u001b[0m         \u001b[0mdf\u001b[0m \u001b[1;33m=\u001b[0m \u001b[0mpd\u001b[0m\u001b[1;33m.\u001b[0m\u001b[0mread_csv\u001b[0m\u001b[1;33m(\u001b[0m\u001b[0mf\u001b[0m\u001b[1;33m,\u001b[0m \u001b[0mdelimiter\u001b[0m\u001b[1;33m=\u001b[0m\u001b[1;34m','\u001b[0m\u001b[1;33m,\u001b[0m \u001b[0mdtype\u001b[0m\u001b[1;33m=\u001b[0m\u001b[1;33m{\u001b[0m\u001b[1;34m'date'\u001b[0m\u001b[1;33m:\u001b[0m\u001b[0mstr\u001b[0m\u001b[1;33m,\u001b[0m\u001b[1;34m'fips_block'\u001b[0m\u001b[1;33m:\u001b[0m\u001b[0mstr\u001b[0m\u001b[1;33m,\u001b[0m\u001b[1;34m'state'\u001b[0m\u001b[1;33m:\u001b[0m\u001b[0mstr\u001b[0m\u001b[1;33m,\u001b[0m\u001b[1;34m'mpo_id'\u001b[0m\u001b[1;33m:\u001b[0m\u001b[0mstr\u001b[0m\u001b[1;33m}\u001b[0m\u001b[1;33m)\u001b[0m\u001b[1;33m\u001b[0m\u001b[0m\n\u001b[0;32m      5\u001b[0m         \u001b[1;31m# TODO: parse dates.\u001b[0m\u001b[1;33m\u001b[0m\u001b[1;33m\u001b[0m\u001b[0m\n",
      "\u001b[1;32mC:\\Users\\Ruoying\\AppData\\Roaming\\Python\\Python27\\site-packages\\chilkat.pyc\u001b[0m in \u001b[0;36m<lambda>\u001b[1;34m(self, name)\u001b[0m\n\u001b[0;32m  17068\u001b[0m     \u001b[0m__setattr__\u001b[0m \u001b[1;33m=\u001b[0m \u001b[1;32mlambda\u001b[0m \u001b[0mself\u001b[0m\u001b[1;33m,\u001b[0m \u001b[0mname\u001b[0m\u001b[1;33m,\u001b[0m \u001b[0mvalue\u001b[0m\u001b[1;33m:\u001b[0m \u001b[0m_swig_setattr\u001b[0m\u001b[1;33m(\u001b[0m\u001b[0mself\u001b[0m\u001b[1;33m,\u001b[0m \u001b[0mCkSFtp\u001b[0m\u001b[1;33m,\u001b[0m \u001b[0mname\u001b[0m\u001b[1;33m,\u001b[0m \u001b[0mvalue\u001b[0m\u001b[1;33m)\u001b[0m\u001b[1;33m\u001b[0m\u001b[0m\n\u001b[0;32m  17069\u001b[0m     \u001b[0m__swig_getmethods__\u001b[0m \u001b[1;33m=\u001b[0m \u001b[1;33m{\u001b[0m\u001b[1;33m}\u001b[0m\u001b[1;33m\u001b[0m\u001b[0m\n\u001b[1;32m> 17070\u001b[1;33m     \u001b[0m__getattr__\u001b[0m \u001b[1;33m=\u001b[0m \u001b[1;32mlambda\u001b[0m \u001b[0mself\u001b[0m\u001b[1;33m,\u001b[0m \u001b[0mname\u001b[0m\u001b[1;33m:\u001b[0m \u001b[0m_swig_getattr\u001b[0m\u001b[1;33m(\u001b[0m\u001b[0mself\u001b[0m\u001b[1;33m,\u001b[0m \u001b[0mCkSFtp\u001b[0m\u001b[1;33m,\u001b[0m \u001b[0mname\u001b[0m\u001b[1;33m)\u001b[0m\u001b[1;33m\u001b[0m\u001b[0m\n\u001b[0m\u001b[0;32m  17071\u001b[0m     \u001b[0m__repr__\u001b[0m \u001b[1;33m=\u001b[0m \u001b[0m_swig_repr\u001b[0m\u001b[1;33m\u001b[0m\u001b[0m\n\u001b[0;32m  17072\u001b[0m \u001b[1;33m\u001b[0m\u001b[0m\n",
      "\u001b[1;32mC:\\Users\\Ruoying\\AppData\\Roaming\\Python\\Python27\\site-packages\\chilkat.pyc\u001b[0m in \u001b[0;36m_swig_getattr\u001b[1;34m(self, class_type, name)\u001b[0m\n\u001b[0;32m     72\u001b[0m \u001b[1;33m\u001b[0m\u001b[0m\n\u001b[0;32m     73\u001b[0m \u001b[1;32mdef\u001b[0m \u001b[0m_swig_getattr\u001b[0m\u001b[1;33m(\u001b[0m\u001b[0mself\u001b[0m\u001b[1;33m,\u001b[0m \u001b[0mclass_type\u001b[0m\u001b[1;33m,\u001b[0m \u001b[0mname\u001b[0m\u001b[1;33m)\u001b[0m\u001b[1;33m:\u001b[0m\u001b[1;33m\u001b[0m\u001b[0m\n\u001b[1;32m---> 74\u001b[1;33m     \u001b[1;32mreturn\u001b[0m \u001b[0m_swig_getattr_nondynamic\u001b[0m\u001b[1;33m(\u001b[0m\u001b[0mself\u001b[0m\u001b[1;33m,\u001b[0m \u001b[0mclass_type\u001b[0m\u001b[1;33m,\u001b[0m \u001b[0mname\u001b[0m\u001b[1;33m,\u001b[0m \u001b[1;36m0\u001b[0m\u001b[1;33m)\u001b[0m\u001b[1;33m\u001b[0m\u001b[0m\n\u001b[0m\u001b[0;32m     75\u001b[0m \u001b[1;33m\u001b[0m\u001b[0m\n\u001b[0;32m     76\u001b[0m \u001b[1;33m\u001b[0m\u001b[0m\n",
      "\u001b[1;32mC:\\Users\\Ruoying\\AppData\\Roaming\\Python\\Python27\\site-packages\\chilkat.pyc\u001b[0m in \u001b[0;36m_swig_getattr_nondynamic\u001b[1;34m(self, class_type, name, static)\u001b[0m\n\u001b[0;32m     67\u001b[0m         \u001b[1;32mreturn\u001b[0m \u001b[0mmethod\u001b[0m\u001b[1;33m(\u001b[0m\u001b[0mself\u001b[0m\u001b[1;33m)\u001b[0m\u001b[1;33m\u001b[0m\u001b[0m\n\u001b[0;32m     68\u001b[0m     \u001b[1;32mif\u001b[0m \u001b[1;33m(\u001b[0m\u001b[1;32mnot\u001b[0m \u001b[0mstatic\u001b[0m\u001b[1;33m)\u001b[0m\u001b[1;33m:\u001b[0m\u001b[1;33m\u001b[0m\u001b[0m\n\u001b[1;32m---> 69\u001b[1;33m         \u001b[1;32mreturn\u001b[0m \u001b[0mobject\u001b[0m\u001b[1;33m.\u001b[0m\u001b[0m__getattr__\u001b[0m\u001b[1;33m(\u001b[0m\u001b[0mself\u001b[0m\u001b[1;33m,\u001b[0m \u001b[0mname\u001b[0m\u001b[1;33m)\u001b[0m\u001b[1;33m\u001b[0m\u001b[0m\n\u001b[0m\u001b[0;32m     70\u001b[0m     \u001b[1;32melse\u001b[0m\u001b[1;33m:\u001b[0m\u001b[1;33m\u001b[0m\u001b[0m\n\u001b[0;32m     71\u001b[0m         \u001b[1;32mraise\u001b[0m \u001b[0mAttributeError\u001b[0m\u001b[1;33m(\u001b[0m\u001b[0mname\u001b[0m\u001b[1;33m)\u001b[0m\u001b[1;33m\u001b[0m\u001b[0m\n",
      "\u001b[1;31mAttributeError\u001b[0m: type object 'object' has no attribute '__getattr__'"
     ]
    }
   ],
   "source": [
    "# get list of files and load. \n",
    "# TODO: decide what to load. \n",
    "state='NY'\n",
    "infile='cl_census_{}.csv'.format(state)\n",
    "df = read_listings_file(infile)\n",
    "df.head()"
   ]
  },
  {
   "cell_type": "code",
   "execution_count": 2,
   "metadata": {
    "collapsed": true
   },
   "outputs": [],
   "source": [
    "# local data\n",
    "df = pd.read_csv('C:/Users/Ruoying/notebook/cp290/rental-listings-census/data/cl_census_CA.csv')"
   ]
  },
  {
   "cell_type": "code",
   "execution_count": 3,
   "metadata": {
    "collapsed": false
   },
   "outputs": [
    {
     "data": {
      "text/html": [
       "<div>\n",
       "<table border=\"1\" class=\"dataframe\">\n",
       "  <thead>\n",
       "    <tr style=\"text-align: right;\">\n",
       "      <th></th>\n",
       "      <th>listing_id</th>\n",
       "      <th>date</th>\n",
       "      <th>rent</th>\n",
       "      <th>bedrooms</th>\n",
       "      <th>sqft</th>\n",
       "      <th>rent_sqft</th>\n",
       "      <th>fips_block</th>\n",
       "      <th>state</th>\n",
       "      <th>mpo_id</th>\n",
       "      <th>cars_tot</th>\n",
       "      <th>...</th>\n",
       "      <th>race_of_head_4</th>\n",
       "      <th>race_of_head_5</th>\n",
       "      <th>race_of_head_6</th>\n",
       "      <th>race_of_head_7</th>\n",
       "      <th>race_of_head_8</th>\n",
       "      <th>race_of_head_9</th>\n",
       "      <th>recent_mover_0</th>\n",
       "      <th>recent_mover_1</th>\n",
       "      <th>tenure_1</th>\n",
       "      <th>tenure_2</th>\n",
       "    </tr>\n",
       "  </thead>\n",
       "  <tbody>\n",
       "    <tr>\n",
       "      <th>0</th>\n",
       "      <td>5873877617</td>\n",
       "      <td>2016-11-13</td>\n",
       "      <td>925</td>\n",
       "      <td>2</td>\n",
       "      <td>874</td>\n",
       "      <td>1.058352</td>\n",
       "      <td>60470010021060</td>\n",
       "      <td>CA</td>\n",
       "      <td>6197202</td>\n",
       "      <td>4603</td>\n",
       "      <td>...</td>\n",
       "      <td>NaN</td>\n",
       "      <td>8</td>\n",
       "      <td>527</td>\n",
       "      <td>1</td>\n",
       "      <td>198</td>\n",
       "      <td>42</td>\n",
       "      <td>1516</td>\n",
       "      <td>628</td>\n",
       "      <td>1310</td>\n",
       "      <td>834</td>\n",
       "    </tr>\n",
       "    <tr>\n",
       "      <th>1</th>\n",
       "      <td>5873876292</td>\n",
       "      <td>2016-11-13</td>\n",
       "      <td>735</td>\n",
       "      <td>0</td>\n",
       "      <td>650</td>\n",
       "      <td>1.130769</td>\n",
       "      <td>60070012001017</td>\n",
       "      <td>CA</td>\n",
       "      <td>6198000</td>\n",
       "      <td>646</td>\n",
       "      <td>...</td>\n",
       "      <td>NaN</td>\n",
       "      <td>NaN</td>\n",
       "      <td>6</td>\n",
       "      <td>1</td>\n",
       "      <td>3</td>\n",
       "      <td>16</td>\n",
       "      <td>371</td>\n",
       "      <td>44</td>\n",
       "      <td>98</td>\n",
       "      <td>317</td>\n",
       "    </tr>\n",
       "    <tr>\n",
       "      <th>2</th>\n",
       "      <td>5873889346</td>\n",
       "      <td>2016-11-13</td>\n",
       "      <td>1675</td>\n",
       "      <td>3</td>\n",
       "      <td>1000</td>\n",
       "      <td>1.675000</td>\n",
       "      <td>60790125023017</td>\n",
       "      <td>CA</td>\n",
       "      <td>6199200</td>\n",
       "      <td>1902</td>\n",
       "      <td>...</td>\n",
       "      <td>NaN</td>\n",
       "      <td>NaN</td>\n",
       "      <td>10</td>\n",
       "      <td>NaN</td>\n",
       "      <td>30</td>\n",
       "      <td>21</td>\n",
       "      <td>712</td>\n",
       "      <td>257</td>\n",
       "      <td>477</td>\n",
       "      <td>492</td>\n",
       "    </tr>\n",
       "    <tr>\n",
       "      <th>3</th>\n",
       "      <td>5873893871</td>\n",
       "      <td>2016-11-13</td>\n",
       "      <td>1818</td>\n",
       "      <td>2</td>\n",
       "      <td>1084</td>\n",
       "      <td>1.677122</td>\n",
       "      <td>60830020061208</td>\n",
       "      <td>CA</td>\n",
       "      <td>6196600</td>\n",
       "      <td>1058</td>\n",
       "      <td>...</td>\n",
       "      <td>NaN</td>\n",
       "      <td>2</td>\n",
       "      <td>21</td>\n",
       "      <td>1</td>\n",
       "      <td>8</td>\n",
       "      <td>8</td>\n",
       "      <td>427</td>\n",
       "      <td>41</td>\n",
       "      <td>420</td>\n",
       "      <td>48</td>\n",
       "    </tr>\n",
       "    <tr>\n",
       "      <th>4</th>\n",
       "      <td>5849643168</td>\n",
       "      <td>2016-11-13</td>\n",
       "      <td>1050</td>\n",
       "      <td>2</td>\n",
       "      <td>1100</td>\n",
       "      <td>0.954545</td>\n",
       "      <td>60890113004008</td>\n",
       "      <td>CA</td>\n",
       "      <td>6198100</td>\n",
       "      <td>786</td>\n",
       "      <td>...</td>\n",
       "      <td>NaN</td>\n",
       "      <td>3</td>\n",
       "      <td>NaN</td>\n",
       "      <td>2</td>\n",
       "      <td>26</td>\n",
       "      <td>23</td>\n",
       "      <td>287</td>\n",
       "      <td>205</td>\n",
       "      <td>202</td>\n",
       "      <td>290</td>\n",
       "    </tr>\n",
       "  </tbody>\n",
       "</table>\n",
       "<p>5 rows × 29 columns</p>\n",
       "</div>"
      ],
      "text/plain": [
       "   listing_id        date  rent  bedrooms  sqft  rent_sqft      fips_block  \\\n",
       "0  5873877617  2016-11-13   925         2   874   1.058352  60470010021060   \n",
       "1  5873876292  2016-11-13   735         0   650   1.130769  60070012001017   \n",
       "2  5873889346  2016-11-13  1675         3  1000   1.675000  60790125023017   \n",
       "3  5873893871  2016-11-13  1818         2  1084   1.677122  60830020061208   \n",
       "4  5849643168  2016-11-13  1050         2  1100   0.954545  60890113004008   \n",
       "\n",
       "  state   mpo_id  cars_tot    ...     race_of_head_4  race_of_head_5  \\\n",
       "0    CA  6197202      4603    ...                NaN               8   \n",
       "1    CA  6198000       646    ...                NaN             NaN   \n",
       "2    CA  6199200      1902    ...                NaN             NaN   \n",
       "3    CA  6196600      1058    ...                NaN               2   \n",
       "4    CA  6198100       786    ...                NaN               3   \n",
       "\n",
       "   race_of_head_6  race_of_head_7  race_of_head_8  race_of_head_9  \\\n",
       "0             527               1             198              42   \n",
       "1               6               1               3              16   \n",
       "2              10             NaN              30              21   \n",
       "3              21               1               8               8   \n",
       "4             NaN               2              26              23   \n",
       "\n",
       "   recent_mover_0  recent_mover_1  tenure_1  tenure_2  \n",
       "0            1516             628      1310       834  \n",
       "1             371              44        98       317  \n",
       "2             712             257       477       492  \n",
       "3             427              41       420        48  \n",
       "4             287             205       202       290  \n",
       "\n",
       "[5 rows x 29 columns]"
      ]
     },
     "execution_count": 3,
     "metadata": {},
     "output_type": "execute_result"
    }
   ],
   "source": [
    "df.head()"
   ]
  },
  {
   "cell_type": "code",
   "execution_count": 4,
   "metadata": {
    "collapsed": false
   },
   "outputs": [],
   "source": [
    "# for census vars, NA really means 0...\n",
    "census_cols = ['cars_tot', 'children_tot','persons_tot', 'workers_tot', 'age_of_head_med', 'income_med','hhs_tot', 'race_of_head_1', 'race_of_head_2', 'race_of_head_3','race_of_head_4', 'race_of_head_5', 'race_of_head_6', 'race_of_head_7','race_of_head_8', 'race_of_head_9', 'recent_mover_0', 'recent_mover_1','tenure_1', 'tenure_2']\n",
    "for col in census_cols:\n",
    "    df[col] = df[col].fillna(0)"
   ]
  },
  {
   "cell_type": "code",
   "execution_count": 5,
   "metadata": {
    "collapsed": false
   },
   "outputs": [
    {
     "data": {
      "text/html": [
       "<div>\n",
       "<table border=\"1\" class=\"dataframe\">\n",
       "  <thead>\n",
       "    <tr style=\"text-align: right;\">\n",
       "      <th></th>\n",
       "      <th>cars_tot</th>\n",
       "      <th>children_tot</th>\n",
       "      <th>persons_tot</th>\n",
       "      <th>workers_tot</th>\n",
       "      <th>age_of_head_med</th>\n",
       "      <th>income_med</th>\n",
       "      <th>hhs_tot</th>\n",
       "      <th>race_of_head_1</th>\n",
       "      <th>race_of_head_2</th>\n",
       "      <th>race_of_head_3</th>\n",
       "      <th>race_of_head_4</th>\n",
       "      <th>race_of_head_5</th>\n",
       "      <th>race_of_head_6</th>\n",
       "      <th>race_of_head_7</th>\n",
       "      <th>race_of_head_8</th>\n",
       "      <th>race_of_head_9</th>\n",
       "      <th>recent_mover_0</th>\n",
       "      <th>recent_mover_1</th>\n",
       "      <th>tenure_1</th>\n",
       "      <th>tenure_2</th>\n",
       "    </tr>\n",
       "  </thead>\n",
       "  <tbody>\n",
       "    <tr>\n",
       "      <th>0</th>\n",
       "      <td>4603</td>\n",
       "      <td>2790</td>\n",
       "      <td>7775</td>\n",
       "      <td>2978</td>\n",
       "      <td>44</td>\n",
       "      <td>64205</td>\n",
       "      <td>2144</td>\n",
       "      <td>1295</td>\n",
       "      <td>66</td>\n",
       "      <td>7</td>\n",
       "      <td>0</td>\n",
       "      <td>8</td>\n",
       "      <td>527</td>\n",
       "      <td>1</td>\n",
       "      <td>198</td>\n",
       "      <td>42</td>\n",
       "      <td>1516</td>\n",
       "      <td>628</td>\n",
       "      <td>1310</td>\n",
       "      <td>834</td>\n",
       "    </tr>\n",
       "    <tr>\n",
       "      <th>1</th>\n",
       "      <td>646</td>\n",
       "      <td>53</td>\n",
       "      <td>645</td>\n",
       "      <td>394</td>\n",
       "      <td>55</td>\n",
       "      <td>21000</td>\n",
       "      <td>415</td>\n",
       "      <td>387</td>\n",
       "      <td>0</td>\n",
       "      <td>2</td>\n",
       "      <td>0</td>\n",
       "      <td>0</td>\n",
       "      <td>6</td>\n",
       "      <td>1</td>\n",
       "      <td>3</td>\n",
       "      <td>16</td>\n",
       "      <td>371</td>\n",
       "      <td>44</td>\n",
       "      <td>98</td>\n",
       "      <td>317</td>\n",
       "    </tr>\n",
       "    <tr>\n",
       "      <th>2</th>\n",
       "      <td>1902</td>\n",
       "      <td>598</td>\n",
       "      <td>2307</td>\n",
       "      <td>1183</td>\n",
       "      <td>48</td>\n",
       "      <td>50000</td>\n",
       "      <td>969</td>\n",
       "      <td>899</td>\n",
       "      <td>6</td>\n",
       "      <td>3</td>\n",
       "      <td>0</td>\n",
       "      <td>0</td>\n",
       "      <td>10</td>\n",
       "      <td>0</td>\n",
       "      <td>30</td>\n",
       "      <td>21</td>\n",
       "      <td>712</td>\n",
       "      <td>257</td>\n",
       "      <td>477</td>\n",
       "      <td>492</td>\n",
       "    </tr>\n",
       "    <tr>\n",
       "      <th>3</th>\n",
       "      <td>1058</td>\n",
       "      <td>252</td>\n",
       "      <td>1210</td>\n",
       "      <td>516</td>\n",
       "      <td>55</td>\n",
       "      <td>82675</td>\n",
       "      <td>468</td>\n",
       "      <td>414</td>\n",
       "      <td>0</td>\n",
       "      <td>14</td>\n",
       "      <td>0</td>\n",
       "      <td>2</td>\n",
       "      <td>21</td>\n",
       "      <td>1</td>\n",
       "      <td>8</td>\n",
       "      <td>8</td>\n",
       "      <td>427</td>\n",
       "      <td>41</td>\n",
       "      <td>420</td>\n",
       "      <td>48</td>\n",
       "    </tr>\n",
       "    <tr>\n",
       "      <th>4</th>\n",
       "      <td>786</td>\n",
       "      <td>398</td>\n",
       "      <td>1385</td>\n",
       "      <td>454</td>\n",
       "      <td>49</td>\n",
       "      <td>39500</td>\n",
       "      <td>492</td>\n",
       "      <td>425</td>\n",
       "      <td>0</td>\n",
       "      <td>13</td>\n",
       "      <td>0</td>\n",
       "      <td>3</td>\n",
       "      <td>0</td>\n",
       "      <td>2</td>\n",
       "      <td>26</td>\n",
       "      <td>23</td>\n",
       "      <td>287</td>\n",
       "      <td>205</td>\n",
       "      <td>202</td>\n",
       "      <td>290</td>\n",
       "    </tr>\n",
       "  </tbody>\n",
       "</table>\n",
       "</div>"
      ],
      "text/plain": [
       "   cars_tot  children_tot  persons_tot  workers_tot  age_of_head_med  \\\n",
       "0      4603          2790         7775         2978               44   \n",
       "1       646            53          645          394               55   \n",
       "2      1902           598         2307         1183               48   \n",
       "3      1058           252         1210          516               55   \n",
       "4       786           398         1385          454               49   \n",
       "\n",
       "   income_med  hhs_tot  race_of_head_1  race_of_head_2  race_of_head_3  \\\n",
       "0       64205     2144            1295              66               7   \n",
       "1       21000      415             387               0               2   \n",
       "2       50000      969             899               6               3   \n",
       "3       82675      468             414               0              14   \n",
       "4       39500      492             425               0              13   \n",
       "\n",
       "   race_of_head_4  race_of_head_5  race_of_head_6  race_of_head_7  \\\n",
       "0               0               8             527               1   \n",
       "1               0               0               6               1   \n",
       "2               0               0              10               0   \n",
       "3               0               2              21               1   \n",
       "4               0               3               0               2   \n",
       "\n",
       "   race_of_head_8  race_of_head_9  recent_mover_0  recent_mover_1  tenure_1  \\\n",
       "0             198              42            1516             628      1310   \n",
       "1               3              16             371              44        98   \n",
       "2              30              21             712             257       477   \n",
       "3               8               8             427              41       420   \n",
       "4              26              23             287             205       202   \n",
       "\n",
       "   tenure_2  \n",
       "0       834  \n",
       "1       317  \n",
       "2       492  \n",
       "3        48  \n",
       "4       290  "
      ]
     },
     "execution_count": 5,
     "metadata": {},
     "output_type": "execute_result"
    }
   ],
   "source": [
    "df[census_cols].head()"
   ]
  },
  {
   "cell_type": "code",
   "execution_count": 6,
   "metadata": {
    "collapsed": true
   },
   "outputs": [],
   "source": [
    "# make meaningful variables.\n",
    "df['pct_race_1'] = df['race_of_head_1']/df['hhs_tot']\n",
    "df['pct_race_2'] = df['race_of_head_2']/df['hhs_tot']\n",
    "df['pct_race_3'] = df['race_of_head_3']/df['hhs_tot']\n",
    "df['pct_mover'] = df['recent_mover_1']/df['hhs_tot']\n",
    "df['pct_tenure_1'] = df['tenure_1']/df['hhs_tot']\n",
    "df['avg_hh_size'] = df['persons_tot']/df['hhs_tot']\n",
    "df['cars_per_hh'] = df['cars_tot']/df['hhs_tot']\n",
    "\n",
    "\n",
    "df['ln_rent'] = np.log(df['rent'])"
   ]
  },
  {
   "cell_type": "code",
   "execution_count": 7,
   "metadata": {
    "collapsed": false
   },
   "outputs": [
    {
     "data": {
      "text/html": [
       "<div>\n",
       "<table border=\"1\" class=\"dataframe\">\n",
       "  <thead>\n",
       "    <tr style=\"text-align: right;\">\n",
       "      <th></th>\n",
       "      <th>rent</th>\n",
       "      <th>ln_rent</th>\n",
       "      <th>bedrooms</th>\n",
       "      <th>sqft</th>\n",
       "      <th>pct_race_1</th>\n",
       "      <th>pct_race_2</th>\n",
       "      <th>pct_race_3</th>\n",
       "      <th>pct_mover</th>\n",
       "      <th>pct_tenure_1</th>\n",
       "      <th>income_med</th>\n",
       "      <th>age_of_head_med</th>\n",
       "      <th>avg_hh_size</th>\n",
       "      <th>cars_per_hh</th>\n",
       "    </tr>\n",
       "  </thead>\n",
       "  <tbody>\n",
       "    <tr>\n",
       "      <th>count</th>\n",
       "      <td>99983.000000</td>\n",
       "      <td>99983.000000</td>\n",
       "      <td>99983.000000</td>\n",
       "      <td>99983.000000</td>\n",
       "      <td>99873.000000</td>\n",
       "      <td>99873.000000</td>\n",
       "      <td>99873.000000</td>\n",
       "      <td>99873.000000</td>\n",
       "      <td>99873.000000</td>\n",
       "      <td>99983.000000</td>\n",
       "      <td>99983.000000</td>\n",
       "      <td>99873.000000</td>\n",
       "      <td>99873.000000</td>\n",
       "    </tr>\n",
       "    <tr>\n",
       "      <th>mean</th>\n",
       "      <td>4146.943140</td>\n",
       "      <td>7.606714</td>\n",
       "      <td>1.855145</td>\n",
       "      <td>1099.243551</td>\n",
       "      <td>0.689928</td>\n",
       "      <td>0.055831</td>\n",
       "      <td>0.004523</td>\n",
       "      <td>0.250387</td>\n",
       "      <td>0.422082</td>\n",
       "      <td>67663.143429</td>\n",
       "      <td>47.536421</td>\n",
       "      <td>2.454458</td>\n",
       "      <td>1.712874</td>\n",
       "    </tr>\n",
       "    <tr>\n",
       "      <th>std</th>\n",
       "      <td>295221.312495</td>\n",
       "      <td>0.514716</td>\n",
       "      <td>1.026275</td>\n",
       "      <td>1588.197792</td>\n",
       "      <td>0.208653</td>\n",
       "      <td>0.089254</td>\n",
       "      <td>0.008103</td>\n",
       "      <td>0.144263</td>\n",
       "      <td>0.289548</td>\n",
       "      <td>33404.836031</td>\n",
       "      <td>8.167785</td>\n",
       "      <td>0.650203</td>\n",
       "      <td>0.436757</td>\n",
       "    </tr>\n",
       "    <tr>\n",
       "      <th>min</th>\n",
       "      <td>1.000000</td>\n",
       "      <td>0.000000</td>\n",
       "      <td>0.000000</td>\n",
       "      <td>1.000000</td>\n",
       "      <td>0.000000</td>\n",
       "      <td>0.000000</td>\n",
       "      <td>0.000000</td>\n",
       "      <td>0.000000</td>\n",
       "      <td>0.000000</td>\n",
       "      <td>0.000000</td>\n",
       "      <td>0.000000</td>\n",
       "      <td>1.000000</td>\n",
       "      <td>0.000000</td>\n",
       "    </tr>\n",
       "    <tr>\n",
       "      <th>25%</th>\n",
       "      <td>1500.000000</td>\n",
       "      <td>7.313220</td>\n",
       "      <td>1.000000</td>\n",
       "      <td>740.000000</td>\n",
       "      <td>0.564815</td>\n",
       "      <td>0.000000</td>\n",
       "      <td>0.000000</td>\n",
       "      <td>0.137255</td>\n",
       "      <td>0.166667</td>\n",
       "      <td>43575.000000</td>\n",
       "      <td>42.000000</td>\n",
       "      <td>1.956522</td>\n",
       "      <td>1.440000</td>\n",
       "    </tr>\n",
       "    <tr>\n",
       "      <th>50%</th>\n",
       "      <td>1995.000000</td>\n",
       "      <td>7.598399</td>\n",
       "      <td>2.000000</td>\n",
       "      <td>950.000000</td>\n",
       "      <td>0.727833</td>\n",
       "      <td>0.022613</td>\n",
       "      <td>0.002198</td>\n",
       "      <td>0.244579</td>\n",
       "      <td>0.400000</td>\n",
       "      <td>61600.000000</td>\n",
       "      <td>48.000000</td>\n",
       "      <td>2.410755</td>\n",
       "      <td>1.745501</td>\n",
       "    </tr>\n",
       "    <tr>\n",
       "      <th>75%</th>\n",
       "      <td>2685.000000</td>\n",
       "      <td>7.895436</td>\n",
       "      <td>2.000000</td>\n",
       "      <td>1200.000000</td>\n",
       "      <td>0.850420</td>\n",
       "      <td>0.072745</td>\n",
       "      <td>0.005634</td>\n",
       "      <td>0.349929</td>\n",
       "      <td>0.657823</td>\n",
       "      <td>85000.000000</td>\n",
       "      <td>53.000000</td>\n",
       "      <td>2.884972</td>\n",
       "      <td>2.008929</td>\n",
       "    </tr>\n",
       "    <tr>\n",
       "      <th>max</th>\n",
       "      <td>83157676.000000</td>\n",
       "      <td>18.236249</td>\n",
       "      <td>9.000000</td>\n",
       "      <td>227510.000000</td>\n",
       "      <td>1.000000</td>\n",
       "      <td>0.973036</td>\n",
       "      <td>0.252294</td>\n",
       "      <td>1.000000</td>\n",
       "      <td>1.000000</td>\n",
       "      <td>421000.000000</td>\n",
       "      <td>79.000000</td>\n",
       "      <td>5.248571</td>\n",
       "      <td>2.917143</td>\n",
       "    </tr>\n",
       "  </tbody>\n",
       "</table>\n",
       "</div>"
      ],
      "text/plain": [
       "                  rent       ln_rent      bedrooms           sqft  \\\n",
       "count     99983.000000  99983.000000  99983.000000   99983.000000   \n",
       "mean       4146.943140      7.606714      1.855145    1099.243551   \n",
       "std      295221.312495      0.514716      1.026275    1588.197792   \n",
       "min           1.000000      0.000000      0.000000       1.000000   \n",
       "25%        1500.000000      7.313220      1.000000     740.000000   \n",
       "50%        1995.000000      7.598399      2.000000     950.000000   \n",
       "75%        2685.000000      7.895436      2.000000    1200.000000   \n",
       "max    83157676.000000     18.236249      9.000000  227510.000000   \n",
       "\n",
       "         pct_race_1    pct_race_2    pct_race_3     pct_mover  pct_tenure_1  \\\n",
       "count  99873.000000  99873.000000  99873.000000  99873.000000  99873.000000   \n",
       "mean       0.689928      0.055831      0.004523      0.250387      0.422082   \n",
       "std        0.208653      0.089254      0.008103      0.144263      0.289548   \n",
       "min        0.000000      0.000000      0.000000      0.000000      0.000000   \n",
       "25%        0.564815      0.000000      0.000000      0.137255      0.166667   \n",
       "50%        0.727833      0.022613      0.002198      0.244579      0.400000   \n",
       "75%        0.850420      0.072745      0.005634      0.349929      0.657823   \n",
       "max        1.000000      0.973036      0.252294      1.000000      1.000000   \n",
       "\n",
       "          income_med  age_of_head_med   avg_hh_size   cars_per_hh  \n",
       "count   99983.000000     99983.000000  99873.000000  99873.000000  \n",
       "mean    67663.143429        47.536421      2.454458      1.712874  \n",
       "std     33404.836031         8.167785      0.650203      0.436757  \n",
       "min         0.000000         0.000000      1.000000      0.000000  \n",
       "25%     43575.000000        42.000000      1.956522      1.440000  \n",
       "50%     61600.000000        48.000000      2.410755      1.745501  \n",
       "75%     85000.000000        53.000000      2.884972      2.008929  \n",
       "max    421000.000000        79.000000      5.248571      2.917143  "
      ]
     },
     "execution_count": 7,
     "metadata": {},
     "output_type": "execute_result"
    }
   ],
   "source": [
    "features_to_examine = ['rent','ln_rent', 'bedrooms', 'sqft','pct_race_1','pct_race_2','pct_race_3','pct_mover','pct_tenure_1','income_med','age_of_head_med','avg_hh_size','cars_per_hh']\n",
    "df[features_to_examine].describe()"
   ]
  },
  {
   "cell_type": "markdown",
   "metadata": {},
   "source": [
    "## Filter outliers\n",
    "\n",
    "Can use the following to examine outliers..."
   ]
  },
  {
   "cell_type": "code",
   "execution_count": 8,
   "metadata": {
    "collapsed": false
   },
   "outputs": [
    {
     "data": {
      "text/plain": [
       "'Ranges to define outliers in CL data. I defined based on inspection of distributions.'"
      ]
     },
     "execution_count": 8,
     "metadata": {},
     "output_type": "execute_result"
    }
   ],
   "source": [
    "rent_range=(100,10000)\n",
    "sqft_range=(10,5000)\n",
    "\"\"\"Ranges to define outliers in CL data. I defined based on inspection of distributions.\"\"\""
   ]
  },
  {
   "cell_type": "code",
   "execution_count": 27,
   "metadata": {
    "collapsed": false
   },
   "outputs": [
    {
     "data": {
      "text/plain": [
       "(0, 10000)"
      ]
     },
     "execution_count": 27,
     "metadata": {},
     "output_type": "execute_result"
    },
    {
     "data": {
      "image/png": "[encoded data removed]",
      "text/plain": [
       "<matplotlib.figure.Figure at 0x19c75f98>"
      ]
     },
     "metadata": {},
     "output_type": "display_data"
    }
   ],
   "source": [
    "import matplotlib.pyplot as plt\n",
    "import seaborn as sns\n",
    "%matplotlib inline\n",
    "# use this to define outliers. \n",
    "g=sns.distplot(df['rent'],kde='false')\n",
    "g.set_xlim(0,100000)\n",
    "\n",
    "g=sns.distplot(df['sqft'],kde='false')\n",
    "g.set_xlim(0,10000)"
   ]
  },
  {
   "cell_type": "code",
   "execution_count": 15,
   "metadata": {
    "collapsed": false
   },
   "outputs": [
    {
     "name": "stdout",
     "output_type": "stream",
     "text": [
      "Dropped 614 outside rent range $100-$10000\n",
      "Dropped 161 outside sqft range 10-5000 sqft. 99208 rows remaining\n"
     ]
    }
   ],
   "source": [
    "df = filter_outliers(df)"
   ]
  },
  {
   "cell_type": "markdown",
   "metadata": {},
   "source": [
    "## drop NA"
   ]
  },
  {
   "cell_type": "code",
   "execution_count": 16,
   "metadata": {
    "collapsed": false
   },
   "outputs": [
    {
     "name": "stdout",
     "output_type": "stream",
     "text": [
      "99208\n",
      "110\n"
     ]
    }
   ],
   "source": [
    "df = df[features_to_examine]\n",
    "print(len(df))\n",
    "print(len(df[pd.isnull(df).any(axis=1)]))\n",
    "df = df.dropna()"
   ]
  },
  {
   "cell_type": "markdown",
   "metadata": {},
   "source": [
    "## look at distributions\n",
    "\n",
    "Since rent has a more or less logarithmic distribution, we use ln_rent instead"
   ]
  },
  {
   "cell_type": "code",
   "execution_count": 17,
   "metadata": {
    "collapsed": false
   },
   "outputs": [
    {
     "data": {
      "text/plain": [
       "<matplotlib.axes._subplots.AxesSubplot at 0x1a142b70>"
      ]
     },
     "execution_count": 17,
     "metadata": {},
     "output_type": "execute_result"
    },
    {
     "data": {
      "image/png": "[encoded data removed]",
      "text/plain": [
       "<matplotlib.figure.Figure at 0x858d710>"
      ]
     },
     "metadata": {},
     "output_type": "display_data"
    }
   ],
   "source": [
    "sns.distplot(df.rent)"
   ]
  },
  {
   "cell_type": "code",
   "execution_count": 18,
   "metadata": {
    "collapsed": false
   },
   "outputs": [
    {
     "data": {
      "text/plain": [
       "<matplotlib.axes._subplots.AxesSubplot at 0x858def0>"
      ]
     },
     "execution_count": 18,
     "metadata": {},
     "output_type": "execute_result"
    },
    {
     "data": {
      "image/png": "[encoded data removed]",
      "text/plain": [
       "<matplotlib.figure.Figure at 0x1a7ede48>"
      ]
     },
     "metadata": {},
     "output_type": "display_data"
    }
   ],
   "source": [
    "sns.distplot(df.ln_rent)"
   ]
  },
  {
   "cell_type": "code",
   "execution_count": 26,
   "metadata": {
    "collapsed": false
   },
   "outputs": [
    {
     "ename": "TypeError",
     "evalue": "can't multiply sequence by non-int of type 'float'",
     "output_type": "error",
     "traceback": [
      "\u001b[1;31m---------------------------------------------------------------------------\u001b[0m",
      "\u001b[1;31mTypeError\u001b[0m                                 Traceback (most recent call last)",
      "\u001b[1;32m<ipython-input-26-5620a62eade9>\u001b[0m in \u001b[0;36m<module>\u001b[1;34m()\u001b[0m\n\u001b[0;32m      1\u001b[0m \u001b[0mplot_rows\u001b[0m \u001b[1;33m=\u001b[0m \u001b[0mmath\u001b[0m\u001b[1;33m.\u001b[0m\u001b[0mceil\u001b[0m\u001b[1;33m(\u001b[0m\u001b[0mlen\u001b[0m\u001b[1;33m(\u001b[0m\u001b[0mfeatures_to_examine\u001b[0m\u001b[1;33m)\u001b[0m\u001b[1;33m/\u001b[0m\u001b[1;36m2\u001b[0m\u001b[1;33m)\u001b[0m\u001b[1;33m\u001b[0m\u001b[0m\n\u001b[0;32m      2\u001b[0m \u001b[1;33m\u001b[0m\u001b[0m\n\u001b[1;32m----> 3\u001b[1;33m \u001b[0mf\u001b[0m\u001b[1;33m,\u001b[0m \u001b[0maxes\u001b[0m \u001b[1;33m=\u001b[0m \u001b[0mplt\u001b[0m\u001b[1;33m.\u001b[0m\u001b[0msubplots\u001b[0m\u001b[1;33m(\u001b[0m\u001b[0mplot_rows\u001b[0m\u001b[1;33m,\u001b[0m\u001b[1;36m2\u001b[0m\u001b[1;33m,\u001b[0m \u001b[0mfigsize\u001b[0m\u001b[1;33m=\u001b[0m\u001b[1;33m(\u001b[0m\u001b[1;36m8\u001b[0m\u001b[1;33m,\u001b[0m\u001b[1;36m12\u001b[0m\u001b[1;33m)\u001b[0m\u001b[1;33m)\u001b[0m\u001b[1;33m\u001b[0m\u001b[0m\n\u001b[0m\u001b[0;32m      4\u001b[0m \u001b[0msns\u001b[0m\u001b[1;33m.\u001b[0m\u001b[0mdespine\u001b[0m\u001b[1;33m(\u001b[0m\u001b[0mleft\u001b[0m\u001b[1;33m=\u001b[0m\u001b[0mTrue\u001b[0m\u001b[1;33m)\u001b[0m\u001b[1;33m\u001b[0m\u001b[0m\n\u001b[0;32m      5\u001b[0m \u001b[1;33m\u001b[0m\u001b[0m\n",
      "\u001b[1;32mC:\\Anaconda\\lib\\site-packages\\matplotlib\\pyplot.pyc\u001b[0m in \u001b[0;36msubplots\u001b[1;34m(nrows, ncols, sharex, sharey, squeeze, subplot_kw, gridspec_kw, **fig_kw)\u001b[0m\n\u001b[0;32m   1184\u001b[0m \u001b[1;33m\u001b[0m\u001b[0m\n\u001b[0;32m   1185\u001b[0m     \u001b[1;31m# Create first subplot separately, so we can share it if requested\u001b[0m\u001b[1;33m\u001b[0m\u001b[1;33m\u001b[0m\u001b[0m\n\u001b[1;32m-> 1186\u001b[1;33m     \u001b[0max0\u001b[0m \u001b[1;33m=\u001b[0m \u001b[0mfig\u001b[0m\u001b[1;33m.\u001b[0m\u001b[0madd_subplot\u001b[0m\u001b[1;33m(\u001b[0m\u001b[0mgs\u001b[0m\u001b[1;33m[\u001b[0m\u001b[1;36m0\u001b[0m\u001b[1;33m,\u001b[0m \u001b[1;36m0\u001b[0m\u001b[1;33m]\u001b[0m\u001b[1;33m,\u001b[0m \u001b[1;33m**\u001b[0m\u001b[0msubplot_kw\u001b[0m\u001b[1;33m)\u001b[0m\u001b[1;33m\u001b[0m\u001b[0m\n\u001b[0m\u001b[0;32m   1187\u001b[0m     \u001b[0maxarr\u001b[0m\u001b[1;33m[\u001b[0m\u001b[1;36m0\u001b[0m\u001b[1;33m]\u001b[0m \u001b[1;33m=\u001b[0m \u001b[0max0\u001b[0m\u001b[1;33m\u001b[0m\u001b[0m\n\u001b[0;32m   1188\u001b[0m \u001b[1;33m\u001b[0m\u001b[0m\n",
      "\u001b[1;32mC:\\Anaconda\\lib\\site-packages\\matplotlib\\figure.pyc\u001b[0m in \u001b[0;36madd_subplot\u001b[1;34m(self, *args, **kwargs)\u001b[0m\n\u001b[0;32m   1003\u001b[0m                     \u001b[0mself\u001b[0m\u001b[1;33m.\u001b[0m\u001b[0m_axstack\u001b[0m\u001b[1;33m.\u001b[0m\u001b[0mremove\u001b[0m\u001b[1;33m(\u001b[0m\u001b[0max\u001b[0m\u001b[1;33m)\u001b[0m\u001b[1;33m\u001b[0m\u001b[0m\n\u001b[0;32m   1004\u001b[0m \u001b[1;33m\u001b[0m\u001b[0m\n\u001b[1;32m-> 1005\u001b[1;33m             \u001b[0ma\u001b[0m \u001b[1;33m=\u001b[0m \u001b[0msubplot_class_factory\u001b[0m\u001b[1;33m(\u001b[0m\u001b[0mprojection_class\u001b[0m\u001b[1;33m)\u001b[0m\u001b[1;33m(\u001b[0m\u001b[0mself\u001b[0m\u001b[1;33m,\u001b[0m \u001b[1;33m*\u001b[0m\u001b[0margs\u001b[0m\u001b[1;33m,\u001b[0m \u001b[1;33m**\u001b[0m\u001b[0mkwargs\u001b[0m\u001b[1;33m)\u001b[0m\u001b[1;33m\u001b[0m\u001b[0m\n\u001b[0m\u001b[0;32m   1006\u001b[0m \u001b[1;33m\u001b[0m\u001b[0m\n\u001b[0;32m   1007\u001b[0m         \u001b[0mself\u001b[0m\u001b[1;33m.\u001b[0m\u001b[0m_axstack\u001b[0m\u001b[1;33m.\u001b[0m\u001b[0madd\u001b[0m\u001b[1;33m(\u001b[0m\u001b[0mkey\u001b[0m\u001b[1;33m,\u001b[0m \u001b[0ma\u001b[0m\u001b[1;33m)\u001b[0m\u001b[1;33m\u001b[0m\u001b[0m\n",
      "\u001b[1;32mC:\\Anaconda\\lib\\site-packages\\matplotlib\\axes\\_subplots.pyc\u001b[0m in \u001b[0;36m__init__\u001b[1;34m(self, fig, *args, **kwargs)\u001b[0m\n\u001b[0;32m     68\u001b[0m             \u001b[1;32mraise\u001b[0m \u001b[0mValueError\u001b[0m\u001b[1;33m(\u001b[0m\u001b[1;34m'Illegal argument(s) to subplot: %s'\u001b[0m \u001b[1;33m%\u001b[0m \u001b[1;33m(\u001b[0m\u001b[0margs\u001b[0m\u001b[1;33m,\u001b[0m\u001b[1;33m)\u001b[0m\u001b[1;33m)\u001b[0m\u001b[1;33m\u001b[0m\u001b[0m\n\u001b[0;32m     69\u001b[0m \u001b[1;33m\u001b[0m\u001b[0m\n\u001b[1;32m---> 70\u001b[1;33m         \u001b[0mself\u001b[0m\u001b[1;33m.\u001b[0m\u001b[0mupdate_params\u001b[0m\u001b[1;33m(\u001b[0m\u001b[1;33m)\u001b[0m\u001b[1;33m\u001b[0m\u001b[0m\n\u001b[0m\u001b[0;32m     71\u001b[0m \u001b[1;33m\u001b[0m\u001b[0m\n\u001b[0;32m     72\u001b[0m         \u001b[1;31m# _axes_class is set in the subplot_class_factory\u001b[0m\u001b[1;33m\u001b[0m\u001b[1;33m\u001b[0m\u001b[0m\n",
      "\u001b[1;32mC:\\Anaconda\\lib\\site-packages\\matplotlib\\axes\\_subplots.pyc\u001b[0m in \u001b[0;36mupdate_params\u001b[1;34m(self)\u001b[0m\n\u001b[0;32m    112\u001b[0m         \u001b[0mself\u001b[0m\u001b[1;33m.\u001b[0m\u001b[0mfigbox\u001b[0m\u001b[1;33m,\u001b[0m \u001b[0mself\u001b[0m\u001b[1;33m.\u001b[0m\u001b[0mrowNum\u001b[0m\u001b[1;33m,\u001b[0m \u001b[0mself\u001b[0m\u001b[1;33m.\u001b[0m\u001b[0mcolNum\u001b[0m\u001b[1;33m,\u001b[0m \u001b[0mself\u001b[0m\u001b[1;33m.\u001b[0m\u001b[0mnumRows\u001b[0m\u001b[1;33m,\u001b[0m \u001b[0mself\u001b[0m\u001b[1;33m.\u001b[0m\u001b[0mnumCols\u001b[0m \u001b[1;33m=\u001b[0m\u001b[0;31m \u001b[0m\u001b[0;31m\\\u001b[0m\u001b[1;33m\u001b[0m\u001b[0m\n\u001b[0;32m    113\u001b[0m             self.get_subplotspec().get_position(self.figure,\n\u001b[1;32m--> 114\u001b[1;33m                                                 return_all=True)\n\u001b[0m\u001b[0;32m    115\u001b[0m \u001b[1;33m\u001b[0m\u001b[0m\n\u001b[0;32m    116\u001b[0m     \u001b[1;32mdef\u001b[0m \u001b[0mis_first_col\u001b[0m\u001b[1;33m(\u001b[0m\u001b[0mself\u001b[0m\u001b[1;33m)\u001b[0m\u001b[1;33m:\u001b[0m\u001b[1;33m\u001b[0m\u001b[0m\n",
      "\u001b[1;32mC:\\Anaconda\\lib\\site-packages\\matplotlib\\gridspec.pyc\u001b[0m in \u001b[0;36mget_position\u001b[1;34m(self, fig, return_all)\u001b[0m\n\u001b[0;32m    423\u001b[0m \u001b[1;33m\u001b[0m\u001b[0m\n\u001b[0;32m    424\u001b[0m         \u001b[0mfigBottoms\u001b[0m\u001b[1;33m,\u001b[0m \u001b[0mfigTops\u001b[0m\u001b[1;33m,\u001b[0m \u001b[0mfigLefts\u001b[0m\u001b[1;33m,\u001b[0m \u001b[0mfigRights\u001b[0m \u001b[1;33m=\u001b[0m\u001b[0;31m \u001b[0m\u001b[0;31m\\\u001b[0m\u001b[1;33m\u001b[0m\u001b[0m\n\u001b[1;32m--> 425\u001b[1;33m                     \u001b[0mgridspec\u001b[0m\u001b[1;33m.\u001b[0m\u001b[0mget_grid_positions\u001b[0m\u001b[1;33m(\u001b[0m\u001b[0mfig\u001b[0m\u001b[1;33m)\u001b[0m\u001b[1;33m\u001b[0m\u001b[0m\n\u001b[0m\u001b[0;32m    426\u001b[0m \u001b[1;33m\u001b[0m\u001b[0m\n\u001b[0;32m    427\u001b[0m \u001b[1;33m\u001b[0m\u001b[0m\n",
      "\u001b[1;32mC:\\Anaconda\\lib\\site-packages\\matplotlib\\gridspec.pyc\u001b[0m in \u001b[0;36mget_grid_positions\u001b[1;34m(self, fig)\u001b[0m\n\u001b[0;32m    103\u001b[0m             \u001b[0mcellHeights\u001b[0m \u001b[1;33m=\u001b[0m \u001b[1;33m[\u001b[0m\u001b[0mnetHeight\u001b[0m\u001b[1;33m*\u001b[0m\u001b[0mr\u001b[0m\u001b[1;33m/\u001b[0m\u001b[0mtr\u001b[0m \u001b[1;32mfor\u001b[0m \u001b[0mr\u001b[0m \u001b[1;32min\u001b[0m \u001b[0mself\u001b[0m\u001b[1;33m.\u001b[0m\u001b[0m_row_height_ratios\u001b[0m\u001b[1;33m]\u001b[0m\u001b[1;33m\u001b[0m\u001b[0m\n\u001b[0;32m    104\u001b[0m         \u001b[1;32melse\u001b[0m\u001b[1;33m:\u001b[0m\u001b[1;33m\u001b[0m\u001b[0m\n\u001b[1;32m--> 105\u001b[1;33m             \u001b[0mcellHeights\u001b[0m \u001b[1;33m=\u001b[0m \u001b[1;33m[\u001b[0m\u001b[0mcellH\u001b[0m\u001b[1;33m]\u001b[0m \u001b[1;33m*\u001b[0m \u001b[0mnrows\u001b[0m\u001b[1;33m\u001b[0m\u001b[0m\n\u001b[0m\u001b[0;32m    106\u001b[0m \u001b[1;33m\u001b[0m\u001b[0m\n\u001b[0;32m    107\u001b[0m         \u001b[0msepHeights\u001b[0m \u001b[1;33m=\u001b[0m \u001b[1;33m[\u001b[0m\u001b[1;36m0\u001b[0m\u001b[1;33m]\u001b[0m \u001b[1;33m+\u001b[0m \u001b[1;33m(\u001b[0m\u001b[1;33m[\u001b[0m\u001b[0msepH\u001b[0m\u001b[1;33m]\u001b[0m \u001b[1;33m*\u001b[0m \u001b[1;33m(\u001b[0m\u001b[0mnrows\u001b[0m\u001b[1;33m-\u001b[0m\u001b[1;36m1\u001b[0m\u001b[1;33m)\u001b[0m\u001b[1;33m)\u001b[0m\u001b[1;33m\u001b[0m\u001b[0m\n",
      "\u001b[1;31mTypeError\u001b[0m: can't multiply sequence by non-int of type 'float'"
     ]
    },
    {
     "data": {
      "text/plain": [
       "<matplotlib.figure.Figure at 0x19c7c390>"
      ]
     },
     "metadata": {},
     "output_type": "display_data"
    }
   ],
   "source": [
    "plot_rows = math.ceil(len(features_to_examine)/2)\n",
    "\n",
    "f, axes = plt.subplots(plot_rows,2, figsize=(8,12))\n",
    "sns.despine(left=True)\n",
    "\n",
    "for i,col in enumerate(features_to_examine):\n",
    "    row_position = round(i/2)\n",
    "    col_position = i%2\n",
    "    p=sns.distplot(df[col], ax=axes[row_position, col_position])\n",
    "    p.set_title(''.format(col))  # while isn't the subplot title working? \n",
    "plt.show()\n"
   ]
  },
  {
   "cell_type": "code",
   "execution_count": null,
   "metadata": {
    "collapsed": true
   },
   "outputs": [],
   "source": []
  },
  {
   "cell_type": "markdown",
   "metadata": {},
   "source": [
    "## look at correlations"
   ]
  },
  {
   "cell_type": "code",
   "execution_count": 45,
   "metadata": {
    "collapsed": false
   },
   "outputs": [
    {
     "data": {
      "image/png": "[encoded data removed]",
      "text/plain": [
       "<matplotlib.figure.Figure at 0x10af0eba8>"
      ]
     },
     "metadata": {},
     "output_type": "display_data"
    }
   ],
   "source": [
    "# correlation heatmap\n",
    "corrmat=df[features_to_examine].corr()\n",
    "corrmat.head()\n",
    "\n",
    "f, ax = plt.subplots(figsize=(12, 9))\n",
    "sns.heatmap(corrmat, vmax=.8, square=True)\n",
    "\n",
    "f.tight_layout()"
   ]
  },
  {
   "cell_type": "raw",
   "metadata": {},
   "source": []
  },
  {
   "cell_type": "code",
   "execution_count": 21,
   "metadata": {
    "collapsed": false
   },
   "outputs": [
    {
     "data": {
      "text/html": [
       "<div>\n",
       "<table border=\"1\" class=\"dataframe\">\n",
       "  <thead>\n",
       "    <tr style=\"text-align: right;\">\n",
       "      <th></th>\n",
       "      <th>rent</th>\n",
       "      <th>ln_rent</th>\n",
       "      <th>bedrooms</th>\n",
       "      <th>sqft</th>\n",
       "      <th>pct_race_1</th>\n",
       "      <th>pct_race_2</th>\n",
       "      <th>pct_race_3</th>\n",
       "      <th>pct_mover</th>\n",
       "      <th>pct_tenure_1</th>\n",
       "      <th>income_med</th>\n",
       "      <th>age_of_head_med</th>\n",
       "      <th>avg_hh_size</th>\n",
       "      <th>cars_per_hh</th>\n",
       "    </tr>\n",
       "  </thead>\n",
       "  <tbody>\n",
       "    <tr>\n",
       "      <th>0</th>\n",
       "      <td>925</td>\n",
       "      <td>6.829794</td>\n",
       "      <td>2</td>\n",
       "      <td>874</td>\n",
       "      <td>0.604011</td>\n",
       "      <td>0.030784</td>\n",
       "      <td>0.003265</td>\n",
       "      <td>0.292910</td>\n",
       "      <td>0.611007</td>\n",
       "      <td>64205</td>\n",
       "      <td>44</td>\n",
       "      <td>3.626399</td>\n",
       "      <td>2.146922</td>\n",
       "    </tr>\n",
       "    <tr>\n",
       "      <th>1</th>\n",
       "      <td>735</td>\n",
       "      <td>6.599870</td>\n",
       "      <td>0</td>\n",
       "      <td>650</td>\n",
       "      <td>0.932530</td>\n",
       "      <td>0.000000</td>\n",
       "      <td>0.004819</td>\n",
       "      <td>0.106024</td>\n",
       "      <td>0.236145</td>\n",
       "      <td>21000</td>\n",
       "      <td>55</td>\n",
       "      <td>1.554217</td>\n",
       "      <td>1.556627</td>\n",
       "    </tr>\n",
       "    <tr>\n",
       "      <th>2</th>\n",
       "      <td>1675</td>\n",
       "      <td>7.423568</td>\n",
       "      <td>3</td>\n",
       "      <td>1000</td>\n",
       "      <td>0.927761</td>\n",
       "      <td>0.006192</td>\n",
       "      <td>0.003096</td>\n",
       "      <td>0.265222</td>\n",
       "      <td>0.492260</td>\n",
       "      <td>50000</td>\n",
       "      <td>48</td>\n",
       "      <td>2.380805</td>\n",
       "      <td>1.962848</td>\n",
       "    </tr>\n",
       "    <tr>\n",
       "      <th>3</th>\n",
       "      <td>1818</td>\n",
       "      <td>7.505492</td>\n",
       "      <td>2</td>\n",
       "      <td>1084</td>\n",
       "      <td>0.884615</td>\n",
       "      <td>0.000000</td>\n",
       "      <td>0.029915</td>\n",
       "      <td>0.087607</td>\n",
       "      <td>0.897436</td>\n",
       "      <td>82675</td>\n",
       "      <td>55</td>\n",
       "      <td>2.585470</td>\n",
       "      <td>2.260684</td>\n",
       "    </tr>\n",
       "    <tr>\n",
       "      <th>4</th>\n",
       "      <td>1050</td>\n",
       "      <td>6.956545</td>\n",
       "      <td>2</td>\n",
       "      <td>1100</td>\n",
       "      <td>0.863821</td>\n",
       "      <td>0.000000</td>\n",
       "      <td>0.026423</td>\n",
       "      <td>0.416667</td>\n",
       "      <td>0.410569</td>\n",
       "      <td>39500</td>\n",
       "      <td>49</td>\n",
       "      <td>2.815041</td>\n",
       "      <td>1.597561</td>\n",
       "    </tr>\n",
       "  </tbody>\n",
       "</table>\n",
       "</div>"
      ],
      "text/plain": [
       "   rent   ln_rent  bedrooms  sqft  pct_race_1  pct_race_2  pct_race_3  \\\n",
       "0   925  6.829794         2   874    0.604011    0.030784    0.003265   \n",
       "1   735  6.599870         0   650    0.932530    0.000000    0.004819   \n",
       "2  1675  7.423568         3  1000    0.927761    0.006192    0.003096   \n",
       "3  1818  7.505492         2  1084    0.884615    0.000000    0.029915   \n",
       "4  1050  6.956545         2  1100    0.863821    0.000000    0.026423   \n",
       "\n",
       "   pct_mover  pct_tenure_1  income_med  age_of_head_med  avg_hh_size  \\\n",
       "0   0.292910      0.611007       64205               44     3.626399   \n",
       "1   0.106024      0.236145       21000               55     1.554217   \n",
       "2   0.265222      0.492260       50000               48     2.380805   \n",
       "3   0.087607      0.897436       82675               55     2.585470   \n",
       "4   0.416667      0.410569       39500               49     2.815041   \n",
       "\n",
       "   cars_per_hh  \n",
       "0     2.146922  \n",
       "1     1.556627  \n",
       "2     1.962848  \n",
       "3     2.260684  \n",
       "4     1.597561  "
      ]
     },
     "execution_count": 21,
     "metadata": {},
     "output_type": "execute_result"
    }
   ],
   "source": [
    "df.head()"
   ]
  },
  {
   "cell_type": "code",
   "execution_count": 24,
   "metadata": {
    "collapsed": true
   },
   "outputs": [],
   "source": [
    "import statsmodels.api as sm\n",
    "from patsy import dmatrices"
   ]
  },
  {
   "cell_type": "code",
   "execution_count": 25,
   "metadata": {
    "collapsed": false
   },
   "outputs": [
    {
     "name": "stdout",
     "output_type": "stream",
     "text": [
      "                            OLS Regression Results                            \n",
      "==============================================================================\n",
      "Dep. Variable:                ln_rent   R-squared:                       0.472\n",
      "Model:                            OLS   Adj. R-squared:                  0.472\n",
      "Method:                 Least Squares   F-statistic:                     9827.\n",
      "Date:                Fri, 10 Mar 2017   Prob (F-statistic):               0.00\n",
      "Time:                        10:13:04   Log-Likelihood:                -33714.\n",
      "No. Observations:               99098   AIC:                         6.745e+04\n",
      "Df Residuals:                   99088   BIC:                         6.754e+04\n",
      "Df Model:                           9                                         \n",
      "Covariance Type:            nonrobust                                         \n",
      "================================================================================\n",
      "                   coef    std err          t      P>|t|      [95.0% Conf. Int.]\n",
      "--------------------------------------------------------------------------------\n",
      "Intercept        7.5936      0.007   1020.176      0.000         7.579     7.608\n",
      "bedrooms         0.0161      0.002      9.098      0.000         0.013     0.020\n",
      "sqft             0.0004   3.41e-06    110.067      0.000         0.000     0.000\n",
      "pct_race_1      -0.1606      0.006    -26.667      0.000        -0.172    -0.149\n",
      "pct_race_2      -0.4731      0.014    -33.816      0.000        -0.501    -0.446\n",
      "pct_race_3      -6.9133      0.138    -50.061      0.000        -7.184    -6.643\n",
      "pct_mover       -0.3336      0.010    -32.136      0.000        -0.354    -0.313\n",
      "pct_tenure_1    -0.4853      0.007    -65.837      0.000        -0.500    -0.471\n",
      "income_med    7.632e-06   4.33e-08    176.290      0.000      7.55e-06  7.72e-06\n",
      "cars_per_hh     -0.2819      0.004    -78.510      0.000        -0.289    -0.275\n",
      "==============================================================================\n",
      "Omnibus:                    13777.824   Durbin-Watson:                   1.456\n",
      "Prob(Omnibus):                  0.000   Jarque-Bera (JB):            48979.321\n",
      "Skew:                          -0.688   Prob(JB):                         0.00\n",
      "Kurtosis:                       6.158   Cond. No.                     9.59e+06\n",
      "==============================================================================\n",
      "\n",
      "Warnings:\n",
      "[1] Standard Errors assume that the covariance matrix of the errors is correctly specified.\n",
      "[2] The condition number is large, 9.59e+06. This might indicate that there are\n",
      "strong multicollinearity or other numerical problems.\n"
     ]
    }
   ],
   "source": [
    "y, X = dmatrices('ln_rent ~ bedrooms+sqft+pct_race_1+pct_race_2+pct_race_3+pct_mover+pct_tenure_1+income_med+cars_per_hh', \n",
    "                 data=df, return_type='dataframe')\n",
    "mod = sm.OLS(y, X)\n",
    "res = mod.fit() \n",
    "print res.summary() \n",
    "\n",
    "# tenure_1: owner"
   ]
  },
  {
   "cell_type": "markdown",
   "metadata": {},
   "source": [
    "random forest generator"
   ]
  },
  {
   "cell_type": "code",
   "execution_count": 37,
   "metadata": {
    "collapsed": false
   },
   "outputs": [
    {
     "name": "stderr",
     "output_type": "stream",
     "text": [
      "C:\\Anaconda\\lib\\site-packages\\sklearn\\cross_validation.py:44: DeprecationWarning: This module was deprecated in version 0.18 in favor of the model_selection module into which all the refactored classes and functions are moved. Also note that the interface of the new CV iterators are different from that of this module. This module will be removed in 0.20.\n",
      "  \"This module will be removed in 0.20.\", DeprecationWarning)\n"
     ]
    }
   ],
   "source": [
    "from sklearn.ensemble import RandomForestRegressor\n",
    "from sklearn.cross_validation import KFold"
   ]
  },
  {
   "cell_type": "code",
   "execution_count": 38,
   "metadata": {
    "collapsed": false
   },
   "outputs": [
    {
     "data": {
      "text/plain": [
       "array(['rent', 'ln_rent', 'bedrooms', 'sqft', 'pct_race_1', 'pct_race_2',\n",
       "       'pct_race_3', 'pct_mover', 'pct_tenure_1', 'income_med',\n",
       "       'age_of_head_med', 'avg_hh_size', 'cars_per_hh'], dtype=object)"
      ]
     },
     "execution_count": 38,
     "metadata": {},
     "output_type": "execute_result"
    }
   ],
   "source": [
    "df.columns.values"
   ]
  },
  {
   "cell_type": "code",
   "execution_count": 64,
   "metadata": {
    "collapsed": false
   },
   "outputs": [],
   "source": [
    "cols_all = ['ln_rent','bedrooms', 'sqft','pct_race_1', 'pct_race_2',\n",
    "       'pct_race_3', 'pct_mover', 'pct_tenure_1', 'income_med',\n",
    "       'age_of_head_med', 'avg_hh_size', 'cars_per_hh']\n",
    "\n",
    "cols = ['bedrooms', 'sqft','pct_race_1', 'pct_race_2',\n",
    "       'pct_race_3', 'pct_mover', 'pct_tenure_1', 'income_med',\n",
    "       'age_of_head_med', 'avg_hh_size', 'cars_per_hh']\n",
    "\n",
    "df_val=df[cols_all].values\n",
    "X_df= df[cols].values\n",
    "y_df = df['ln_rent'].values"
   ]
  },
  {
   "cell_type": "code",
   "execution_count": 65,
   "metadata": {
    "collapsed": false
   },
   "outputs": [],
   "source": [
    "#xx=X_df.as_matrix()\n",
    "#yy=y_df.as_matrix()\n",
    "\n",
    "X_df1=np.array(X_df)\n",
    "y_df1=np.array(y_df)\n",
    "df_np=np.array(df_val)"
   ]
  },
  {
   "cell_type": "code",
   "execution_count": 73,
   "metadata": {
    "collapsed": false
   },
   "outputs": [
    {
     "name": "stdout",
     "output_type": "stream",
     "text": [
      "(99098L, 11L)\n"
     ]
    }
   ],
   "source": [
    "X_df2=df_np[:,1:]\n",
    "print X_df2.shape"
   ]
  },
  {
   "cell_type": "code",
   "execution_count": 74,
   "metadata": {
    "collapsed": false
   },
   "outputs": [
    {
     "name": "stdout",
     "output_type": "stream",
     "text": [
      "(99098L, 1L)\n"
     ]
    }
   ],
   "source": [
    "y_df2=df_np[:,:1]\n",
    "print y_df2.shape"
   ]
  },
  {
   "cell_type": "code",
   "execution_count": 78,
   "metadata": {
    "collapsed": false
   },
   "outputs": [
    {
     "name": "stderr",
     "output_type": "stream",
     "text": [
      "C:\\Anaconda\\lib\\site-packages\\ipykernel\\__main__.py:3: DataConversionWarning: A column-vector y was passed when a 1d array was expected. Please change the shape of y to (n_samples,), for example using ravel().\n",
      "  app.launch_new_instance()\n"
     ]
    },
    {
     "data": {
      "text/plain": [
       "RandomForestRegressor(bootstrap=True, criterion='mse', max_depth=None,\n",
       "           max_features='auto', max_leaf_nodes=None,\n",
       "           min_impurity_split=1e-07, min_samples_leaf=1,\n",
       "           min_samples_split=2, min_weight_fraction_leaf=0.0,\n",
       "           n_estimators=100, n_jobs=1, oob_score=False, random_state=None,\n",
       "           verbose=0, warm_start=False)"
      ]
     },
     "execution_count": 78,
     "metadata": {},
     "output_type": "execute_result"
    }
   ],
   "source": [
    "\n",
    "random_forest = RandomForestRegressor(n_estimators=100, criterion='mse', max_depth=None)\n",
    "random_forest.fit(X_df2, y_df2)"
   ]
  },
  {
   "cell_type": "code",
   "execution_count": 67,
   "metadata": {
    "collapsed": false
   },
   "outputs": [
    {
     "name": "stdout",
     "output_type": "stream",
     "text": [
      "(99098L, 12L)\n"
     ]
    }
   ],
   "source": [
    "print df_np.shape"
   ]
  },
  {
   "cell_type": "code",
   "execution_count": 59,
   "metadata": {
    "collapsed": false
   },
   "outputs": [
    {
     "name": "stdout",
     "output_type": "stream",
     "text": [
      "(99098L, 11L)\n"
     ]
    }
   ],
   "source": [
    "print X_df1.shape"
   ]
  },
  {
   "cell_type": "code",
   "execution_count": 60,
   "metadata": {
    "collapsed": false
   },
   "outputs": [
    {
     "data": {
      "text/plain": [
       "RandomForestRegressor(bootstrap=True, criterion='mse', max_depth=None,\n",
       "           max_features='auto', max_leaf_nodes=None,\n",
       "           min_impurity_split=1e-07, min_samples_leaf=1,\n",
       "           min_samples_split=2, min_weight_fraction_leaf=0.0,\n",
       "           n_estimators=10, n_jobs=1, oob_score=False, random_state=None,\n",
       "           verbose=0, warm_start=False)"
      ]
     },
     "execution_count": 60,
     "metadata": {},
     "output_type": "execute_result"
    }
   ],
   "source": [
    "random_forest = RandomForestRegressor(n_estimators=10, criterion='mse', max_depth=None)\n",
    "random_forest.fit(X_df1, y_df1)\n",
    "#random_forest.fit(X_df, y_df)\n",
    "#y_test_rf = random_forest.predict(X_test_rf)"
   ]
  },
  {
   "cell_type": "code",
   "execution_count": 61,
   "metadata": {
    "collapsed": false
   },
   "outputs": [
    {
     "data": {
      "image/png": "[encoded data removed]",
      "text/plain": [
       "<matplotlib.figure.Figure at 0x2038a198>"
      ]
     },
     "metadata": {},
     "output_type": "display_data"
    }
   ],
   "source": [
    "rf_o = pd.DataFrame({'features':cols,'importance':random_forest.feature_importances_})\n",
    "rf_o= rf_o.sort('importance',ascending=False)\n",
    "pylab.figure(1,figsize=(12, 6))\n",
    "pylab.xticks(range(len(rf_o)), rf_o.features,rotation=45)\n",
    "pylab.plot(range(len(rf_o)),rf_o.importance,\"o\")\n",
    "\n",
    "pylab.show()"
   ]
  },
  {
   "cell_type": "code",
   "execution_count": 80,
   "metadata": {
    "collapsed": true
   },
   "outputs": [],
   "source": [
    "#RMSE\n",
    "def RMSE(y_actual, y_predicted):\n",
    "    return sqrt(mean_squared_error(y_actual, y_predicted))\n",
    "\n",
    "# cross validation \n",
    "def cross_val(Traindata, est):\n",
    "    kf=KFold(len(Traindata),n_folds=10)\n",
    "    E = np.ones(10)\n",
    "    i = 0\n",
    "    for train,test in kf:\n",
    "        train_data = Traindata[train,:]\n",
    "        train_data_x = train_data[:,1:]\n",
    "        train_data_y = train_data[:,:1]\n",
    "        x = Traindata[test,:]\n",
    "        test_data_x = x[:,1:]\n",
    "\n",
    "        real_test_Y = x[:,:1]\n",
    "        \n",
    "        #all_predict=[]\n",
    "        random_forest = RandomForestRegressor(n_estimators=est, criterion='mse', max_depth=None)\n",
    "        random_forest.fit(train_data_x,train_data_y)\n",
    "        predict_Y=random_forest.predict(test_data_x)\n",
    "        error = RMSE(real_test_Y, predict_Y)\n",
    "        E[i] = error\n",
    "        i = i + 1\n",
    "    return np.mean(E)"
   ]
  },
  {
   "cell_type": "code",
   "execution_count": 86,
   "metadata": {
    "collapsed": true
   },
   "outputs": [],
   "source": [
    "# find the optimal parameters for random forest prediction  \n",
    "def opt_est(data):\n",
    "    \n",
    "    #initialize est\n",
    "    est_max=30\n",
    "    est=20\n",
    "    est_list = []\n",
    "    error_list = []\n",
    "    \n",
    "    while est<=est_max:\n",
    "           \n",
    "        err=cross_val(data,est)\n",
    "        error_list.append(err)\n",
    "        est_list.append(est)\n",
    "        est+=1\n",
    "\n",
    "    return min(error_list), est_list[[i for i, x in enumerate(error_list) if x == min(error_list)][0]]"
   ]
  },
  {
   "cell_type": "code",
   "execution_count": 87,
   "metadata": {
    "collapsed": false
   },
   "outputs": [
    {
     "name": "stdout",
     "output_type": "stream",
     "text": [
      "min RMSE    opt #est\n"
     ]
    },
    {
     "name": "stderr",
     "output_type": "stream",
     "text": [
      "C:\\Anaconda\\lib\\site-packages\\ipykernel\\__main__.py:21: DataConversionWarning: A column-vector y was passed when a 1d array was expected. Please change the shape of y to (n_samples,), for example using ravel().\n"
     ]
    },
    {
     "data": {
      "text/plain": [
       "(0.18566607643666994, 30)"
      ]
     },
     "execution_count": 87,
     "metadata": {},
     "output_type": "execute_result"
    }
   ],
   "source": [
    "print \"min RMSE\", \"   opt #est\"\n",
    "opt_est(df_np)"
   ]
  },
  {
   "cell_type": "code",
   "execution_count": 28,
   "metadata": {
    "collapsed": false
   },
   "outputs": [
    {
     "data": {
      "text/html": [
       "<div>\n",
       "<table border=\"1\" class=\"dataframe\">\n",
       "  <thead>\n",
       "    <tr style=\"text-align: right;\">\n",
       "      <th></th>\n",
       "      <th>listing_id</th>\n",
       "      <th>date</th>\n",
       "      <th>rent</th>\n",
       "      <th>bedrooms</th>\n",
       "      <th>sqft</th>\n",
       "      <th>rent_sqft</th>\n",
       "      <th>fips_block</th>\n",
       "      <th>state</th>\n",
       "      <th>mpo_id</th>\n",
       "      <th>cars_tot</th>\n",
       "      <th>...</th>\n",
       "      <th>race_of_head_4</th>\n",
       "      <th>race_of_head_5</th>\n",
       "      <th>race_of_head_6</th>\n",
       "      <th>race_of_head_7</th>\n",
       "      <th>race_of_head_8</th>\n",
       "      <th>race_of_head_9</th>\n",
       "      <th>recent_mover_0</th>\n",
       "      <th>recent_mover_1</th>\n",
       "      <th>tenure_1</th>\n",
       "      <th>tenure_2</th>\n",
       "    </tr>\n",
       "  </thead>\n",
       "  <tbody>\n",
       "    <tr>\n",
       "      <th>0</th>\n",
       "      <td>5873877617</td>\n",
       "      <td>2016-11-13</td>\n",
       "      <td>925</td>\n",
       "      <td>2</td>\n",
       "      <td>874</td>\n",
       "      <td>1.058352</td>\n",
       "      <td>60470010021060</td>\n",
       "      <td>CA</td>\n",
       "      <td>6197202</td>\n",
       "      <td>4603</td>\n",
       "      <td>...</td>\n",
       "      <td>NaN</td>\n",
       "      <td>8</td>\n",
       "      <td>527</td>\n",
       "      <td>1</td>\n",
       "      <td>198</td>\n",
       "      <td>42</td>\n",
       "      <td>1516</td>\n",
       "      <td>628</td>\n",
       "      <td>1310</td>\n",
       "      <td>834</td>\n",
       "    </tr>\n",
       "    <tr>\n",
       "      <th>1</th>\n",
       "      <td>5873876292</td>\n",
       "      <td>2016-11-13</td>\n",
       "      <td>735</td>\n",
       "      <td>0</td>\n",
       "      <td>650</td>\n",
       "      <td>1.130769</td>\n",
       "      <td>60070012001017</td>\n",
       "      <td>CA</td>\n",
       "      <td>6198000</td>\n",
       "      <td>646</td>\n",
       "      <td>...</td>\n",
       "      <td>NaN</td>\n",
       "      <td>NaN</td>\n",
       "      <td>6</td>\n",
       "      <td>1</td>\n",
       "      <td>3</td>\n",
       "      <td>16</td>\n",
       "      <td>371</td>\n",
       "      <td>44</td>\n",
       "      <td>98</td>\n",
       "      <td>317</td>\n",
       "    </tr>\n",
       "    <tr>\n",
       "      <th>2</th>\n",
       "      <td>5873889346</td>\n",
       "      <td>2016-11-13</td>\n",
       "      <td>1675</td>\n",
       "      <td>3</td>\n",
       "      <td>1000</td>\n",
       "      <td>1.675000</td>\n",
       "      <td>60790125023017</td>\n",
       "      <td>CA</td>\n",
       "      <td>6199200</td>\n",
       "      <td>1902</td>\n",
       "      <td>...</td>\n",
       "      <td>NaN</td>\n",
       "      <td>NaN</td>\n",
       "      <td>10</td>\n",
       "      <td>NaN</td>\n",
       "      <td>30</td>\n",
       "      <td>21</td>\n",
       "      <td>712</td>\n",
       "      <td>257</td>\n",
       "      <td>477</td>\n",
       "      <td>492</td>\n",
       "    </tr>\n",
       "    <tr>\n",
       "      <th>3</th>\n",
       "      <td>5873893871</td>\n",
       "      <td>2016-11-13</td>\n",
       "      <td>1818</td>\n",
       "      <td>2</td>\n",
       "      <td>1084</td>\n",
       "      <td>1.677122</td>\n",
       "      <td>60830020061208</td>\n",
       "      <td>CA</td>\n",
       "      <td>6196600</td>\n",
       "      <td>1058</td>\n",
       "      <td>...</td>\n",
       "      <td>NaN</td>\n",
       "      <td>2</td>\n",
       "      <td>21</td>\n",
       "      <td>1</td>\n",
       "      <td>8</td>\n",
       "      <td>8</td>\n",
       "      <td>427</td>\n",
       "      <td>41</td>\n",
       "      <td>420</td>\n",
       "      <td>48</td>\n",
       "    </tr>\n",
       "    <tr>\n",
       "      <th>4</th>\n",
       "      <td>5849643168</td>\n",
       "      <td>2016-11-13</td>\n",
       "      <td>1050</td>\n",
       "      <td>2</td>\n",
       "      <td>1100</td>\n",
       "      <td>0.954545</td>\n",
       "      <td>60890113004008</td>\n",
       "      <td>CA</td>\n",
       "      <td>6198100</td>\n",
       "      <td>786</td>\n",
       "      <td>...</td>\n",
       "      <td>NaN</td>\n",
       "      <td>3</td>\n",
       "      <td>NaN</td>\n",
       "      <td>2</td>\n",
       "      <td>26</td>\n",
       "      <td>23</td>\n",
       "      <td>287</td>\n",
       "      <td>205</td>\n",
       "      <td>202</td>\n",
       "      <td>290</td>\n",
       "    </tr>\n",
       "  </tbody>\n",
       "</table>\n",
       "<p>5 rows × 29 columns</p>\n",
       "</div>"
      ],
      "text/plain": [
       "   listing_id        date  rent  bedrooms  sqft  rent_sqft      fips_block  \\\n",
       "0  5873877617  2016-11-13   925         2   874   1.058352  60470010021060   \n",
       "1  5873876292  2016-11-13   735         0   650   1.130769  60070012001017   \n",
       "2  5873889346  2016-11-13  1675         3  1000   1.675000  60790125023017   \n",
       "3  5873893871  2016-11-13  1818         2  1084   1.677122  60830020061208   \n",
       "4  5849643168  2016-11-13  1050         2  1100   0.954545  60890113004008   \n",
       "\n",
       "  state   mpo_id  cars_tot    ...     race_of_head_4  race_of_head_5  \\\n",
       "0    CA  6197202      4603    ...                NaN               8   \n",
       "1    CA  6198000       646    ...                NaN             NaN   \n",
       "2    CA  6199200      1902    ...                NaN             NaN   \n",
       "3    CA  6196600      1058    ...                NaN               2   \n",
       "4    CA  6198100       786    ...                NaN               3   \n",
       "\n",
       "   race_of_head_6  race_of_head_7  race_of_head_8  race_of_head_9  \\\n",
       "0             527               1             198              42   \n",
       "1               6               1               3              16   \n",
       "2              10             NaN              30              21   \n",
       "3              21               1               8               8   \n",
       "4             NaN               2              26              23   \n",
       "\n",
       "   recent_mover_0  recent_mover_1  tenure_1  tenure_2  \n",
       "0            1516             628      1310       834  \n",
       "1             371              44        98       317  \n",
       "2             712             257       477       492  \n",
       "3             427              41       420        48  \n",
       "4             287             205       202       290  \n",
       "\n",
       "[5 rows x 29 columns]"
      ]
     },
     "execution_count": 28,
     "metadata": {},
     "output_type": "execute_result"
    }
   ],
   "source": [
    "df1 = pd.read_csv('C:/Users/Ruoying/notebook/cp290/rental-listings-census/data/cl_census_CA.csv')\n",
    "df1.head()"
   ]
  },
  {
   "cell_type": "code",
   "execution_count": 35,
   "metadata": {
    "collapsed": false
   },
   "outputs": [
    {
     "ename": "KeyError",
     "evalue": "'the label [rent] is not in the [index]'",
     "output_type": "error",
     "traceback": [
      "\u001b[1;31m---------------------------------------------------------------------------\u001b[0m",
      "\u001b[1;31mKeyError\u001b[0m                                  Traceback (most recent call last)",
      "\u001b[1;32m<ipython-input-35-adce12dc3044>\u001b[0m in \u001b[0;36m<module>\u001b[1;34m()\u001b[0m\n\u001b[1;32m----> 1\u001b[1;33m \u001b[0mdf1\u001b[0m\u001b[1;33m.\u001b[0m\u001b[0mloc\u001b[0m\u001b[1;33m[\u001b[0m\u001b[1;34m'rent'\u001b[0m\u001b[1;33m]\u001b[0m\u001b[1;33m\u001b[0m\u001b[0m\n\u001b[0m",
      "\u001b[1;32mC:\\Anaconda\\lib\\site-packages\\pandas\\core\\indexing.pyc\u001b[0m in \u001b[0;36m__getitem__\u001b[1;34m(self, key)\u001b[0m\n\u001b[0;32m   1187\u001b[0m             \u001b[1;32mreturn\u001b[0m \u001b[0mself\u001b[0m\u001b[1;33m.\u001b[0m\u001b[0m_getitem_tuple\u001b[0m\u001b[1;33m(\u001b[0m\u001b[0mkey\u001b[0m\u001b[1;33m)\u001b[0m\u001b[1;33m\u001b[0m\u001b[0m\n\u001b[0;32m   1188\u001b[0m         \u001b[1;32melse\u001b[0m\u001b[1;33m:\u001b[0m\u001b[1;33m\u001b[0m\u001b[0m\n\u001b[1;32m-> 1189\u001b[1;33m             \u001b[1;32mreturn\u001b[0m \u001b[0mself\u001b[0m\u001b[1;33m.\u001b[0m\u001b[0m_getitem_axis\u001b[0m\u001b[1;33m(\u001b[0m\u001b[0mkey\u001b[0m\u001b[1;33m,\u001b[0m \u001b[0maxis\u001b[0m\u001b[1;33m=\u001b[0m\u001b[1;36m0\u001b[0m\u001b[1;33m)\u001b[0m\u001b[1;33m\u001b[0m\u001b[0m\n\u001b[0m\u001b[0;32m   1190\u001b[0m \u001b[1;33m\u001b[0m\u001b[0m\n\u001b[0;32m   1191\u001b[0m     \u001b[1;32mdef\u001b[0m \u001b[0m_getitem_axis\u001b[0m\u001b[1;33m(\u001b[0m\u001b[0mself\u001b[0m\u001b[1;33m,\u001b[0m \u001b[0mkey\u001b[0m\u001b[1;33m,\u001b[0m \u001b[0maxis\u001b[0m\u001b[1;33m=\u001b[0m\u001b[1;36m0\u001b[0m\u001b[1;33m)\u001b[0m\u001b[1;33m:\u001b[0m\u001b[1;33m\u001b[0m\u001b[0m\n",
      "\u001b[1;32mC:\\Anaconda\\lib\\site-packages\\pandas\\core\\indexing.pyc\u001b[0m in \u001b[0;36m_getitem_axis\u001b[1;34m(self, key, axis)\u001b[0m\n\u001b[0;32m   1331\u001b[0m \u001b[1;33m\u001b[0m\u001b[0m\n\u001b[0;32m   1332\u001b[0m         \u001b[1;31m# fall thru to straight lookup\u001b[0m\u001b[1;33m\u001b[0m\u001b[1;33m\u001b[0m\u001b[0m\n\u001b[1;32m-> 1333\u001b[1;33m         \u001b[0mself\u001b[0m\u001b[1;33m.\u001b[0m\u001b[0m_has_valid_type\u001b[0m\u001b[1;33m(\u001b[0m\u001b[0mkey\u001b[0m\u001b[1;33m,\u001b[0m \u001b[0maxis\u001b[0m\u001b[1;33m)\u001b[0m\u001b[1;33m\u001b[0m\u001b[0m\n\u001b[0m\u001b[0;32m   1334\u001b[0m         \u001b[1;32mreturn\u001b[0m \u001b[0mself\u001b[0m\u001b[1;33m.\u001b[0m\u001b[0m_get_label\u001b[0m\u001b[1;33m(\u001b[0m\u001b[0mkey\u001b[0m\u001b[1;33m,\u001b[0m \u001b[0maxis\u001b[0m\u001b[1;33m=\u001b[0m\u001b[0maxis\u001b[0m\u001b[1;33m)\u001b[0m\u001b[1;33m\u001b[0m\u001b[0m\n\u001b[0;32m   1335\u001b[0m \u001b[1;33m\u001b[0m\u001b[0m\n",
      "\u001b[1;32mC:\\Anaconda\\lib\\site-packages\\pandas\\core\\indexing.pyc\u001b[0m in \u001b[0;36m_has_valid_type\u001b[1;34m(self, key, axis)\u001b[0m\n\u001b[0;32m   1293\u001b[0m                 \u001b[1;32mraise\u001b[0m\u001b[1;33m\u001b[0m\u001b[0m\n\u001b[0;32m   1294\u001b[0m             \u001b[1;32mexcept\u001b[0m\u001b[1;33m:\u001b[0m\u001b[1;33m\u001b[0m\u001b[0m\n\u001b[1;32m-> 1295\u001b[1;33m                 \u001b[0merror\u001b[0m\u001b[1;33m(\u001b[0m\u001b[1;33m)\u001b[0m\u001b[1;33m\u001b[0m\u001b[0m\n\u001b[0m\u001b[0;32m   1296\u001b[0m \u001b[1;33m\u001b[0m\u001b[0m\n\u001b[0;32m   1297\u001b[0m         \u001b[1;32mreturn\u001b[0m \u001b[0mTrue\u001b[0m\u001b[1;33m\u001b[0m\u001b[0m\n",
      "\u001b[1;32mC:\\Anaconda\\lib\\site-packages\\pandas\\core\\indexing.pyc\u001b[0m in \u001b[0;36merror\u001b[1;34m()\u001b[0m\n\u001b[0;32m   1280\u001b[0m                         \"cannot use label indexing with a null key\")\n\u001b[0;32m   1281\u001b[0m                 raise KeyError(\"the label [%s] is not in the [%s]\" %\n\u001b[1;32m-> 1282\u001b[1;33m                                (key, self.obj._get_axis_name(axis)))\n\u001b[0m\u001b[0;32m   1283\u001b[0m \u001b[1;33m\u001b[0m\u001b[0m\n\u001b[0;32m   1284\u001b[0m             \u001b[1;32mtry\u001b[0m\u001b[1;33m:\u001b[0m\u001b[1;33m\u001b[0m\u001b[0m\n",
      "\u001b[1;31mKeyError\u001b[0m: 'the label [rent] is not in the [index]'"
     ]
    }
   ],
   "source": [
    "df1.loc['rent']"
   ]
  }
 ],
 "metadata": {
  "kernelspec": {
   "display_name": "Python 2",
   "language": "python",
   "name": "python2"
  },
  "language_info": {
   "codemirror_mode": {
    "name": "ipython",
    "version": 2
   },
   "file_extension": ".py",
   "mimetype": "text/x-python",
   "name": "python",
   "nbconvert_exporter": "python",
   "pygments_lexer": "ipython2",
   "version": "2.7.12"
  }
 },
 "nbformat": 4,
 "nbformat_minor": 0
}
